{
 "cells": [
  {
   "cell_type": "markdown",
   "metadata": {},
   "source": [
    "# TfIdf-Clusters-Ngram+LDA"
   ]
  },
  {
   "cell_type": "code",
   "execution_count": 4,
   "metadata": {},
   "outputs": [],
   "source": [
    "# Install\n",
    "#!pip install -r requirements.txt\n",
    "#pip install numpy==1.20.0\n",
    "#pip install pandas\n",
    "#pip install yellowbrick"
   ]
  },
  {
   "cell_type": "code",
   "execution_count": 5,
   "metadata": {},
   "outputs": [],
   "source": [
    "import numpy as np\n",
    "import pandas as pd\n",
    "import matplotlib.pyplot as plt\n",
    "import warnings\n",
    "warnings.filterwarnings('ignore')"
   ]
  },
  {
   "cell_type": "markdown",
   "metadata": {},
   "source": [
    "## Data"
   ]
  },
  {
   "cell_type": "code",
   "execution_count": 239,
   "metadata": {},
   "outputs": [
    {
     "name": "stderr",
     "output_type": "stream",
     "text": [
      "C:\\Users\\kater\\anaconda3\\envs\\covid\\lib\\site-packages\\ipykernel\\ipkernel.py:287: DeprecationWarning: `should_run_async` will not call `transform_cell` automatically in the future. Please pass the result to `transformed_cell` argument and any exception that happen during thetransform in `preprocessing_exc_tuple` in IPython 7.17 and above.\n",
      "  and should_run_async(code)\n"
     ]
    },
    {
     "name": "stdout",
     "output_type": "stream",
     "text": [
      "світовий пандемія принести невизначеність вимушений реагувати надшвидко маючи право помилка бізнес винаходити модель благодійний адаптуватися кризовий умова пропонуючи підхід рішення проєкт травень директорка виступити віртуальний саміт благодійництво тема фандрайзинг специфіка ковіднога долучитися дискусіїй секція благодійник бізнес адаптивність криза запрошувати прийняти саміт участь безкоштовний реєстрація посилання\n"
     ]
    }
   ],
   "source": [
    "# Importing prepared dataset\n",
    "import pickle\n",
    "input = open('my_corpus-21-sql.pql', 'rb')\n",
    "obj = pickle.load(input)\n",
    "input.close()\n",
    "\n",
    "txt = obj['txt']\n",
    "corpus = obj['corpus']\n",
    "all_words = obj['all_words']\n",
    "print(corpus[1])"
   ]
  },
  {
   "cell_type": "code",
   "execution_count": 240,
   "metadata": {},
   "outputs": [
    {
     "name": "stderr",
     "output_type": "stream",
     "text": [
      "C:\\Users\\kater\\anaconda3\\envs\\covid\\lib\\site-packages\\ipykernel\\ipkernel.py:287: DeprecationWarning: `should_run_async` will not call `transform_cell` automatically in the future. Please pass the result to `transformed_cell` argument and any exception that happen during thetransform in `preprocessing_exc_tuple` in IPython 7.17 and above.\n",
      "  and should_run_async(code)\n"
     ]
    },
    {
     "data": {
      "text/html": [
       "<div>\n",
       "<style scoped>\n",
       "    .dataframe tbody tr th:only-of-type {\n",
       "        vertical-align: middle;\n",
       "    }\n",
       "\n",
       "    .dataframe tbody tr th {\n",
       "        vertical-align: top;\n",
       "    }\n",
       "\n",
       "    .dataframe thead th {\n",
       "        text-align: right;\n",
       "    }\n",
       "</style>\n",
       "<table border=\"1\" class=\"dataframe\">\n",
       "  <thead>\n",
       "    <tr style=\"text-align: right;\">\n",
       "      <th></th>\n",
       "      <th>text</th>\n",
       "      <th>like</th>\n",
       "      <th>love</th>\n",
       "      <th>haha</th>\n",
       "      <th>wow</th>\n",
       "      <th>sad</th>\n",
       "      <th>angry</th>\n",
       "    </tr>\n",
       "  </thead>\n",
       "  <tbody>\n",
       "    <tr>\n",
       "      <th>0</th>\n",
       "      <td>Заходи (завдання), які виконані в зоні (районі...</td>\n",
       "      <td>2.0</td>\n",
       "      <td>0.0</td>\n",
       "      <td>0.0</td>\n",
       "      <td>0.0</td>\n",
       "      <td>0.0</td>\n",
       "      <td>0.0</td>\n",
       "    </tr>\n",
       "    <tr>\n",
       "      <th>1</th>\n",
       "      <td>Світова пандемія принесла невизначеність у сус...</td>\n",
       "      <td>0.0</td>\n",
       "      <td>0.0</td>\n",
       "      <td>0.0</td>\n",
       "      <td>0.0</td>\n",
       "      <td>0.0</td>\n",
       "      <td>0.0</td>\n",
       "    </tr>\n",
       "    <tr>\n",
       "      <th>2</th>\n",
       "      <td>За добу в Польщі померло понад 800 людей від к...</td>\n",
       "      <td>1.0</td>\n",
       "      <td>0.0</td>\n",
       "      <td>0.0</td>\n",
       "      <td>0.0</td>\n",
       "      <td>0.0</td>\n",
       "      <td>0.0</td>\n",
       "    </tr>\n",
       "    <tr>\n",
       "      <th>3</th>\n",
       "      <td>Мене часто питають, а як зробити інакше. Ось я...</td>\n",
       "      <td>1.0</td>\n",
       "      <td>3.0</td>\n",
       "      <td>0.0</td>\n",
       "      <td>0.0</td>\n",
       "      <td>0.0</td>\n",
       "      <td>0.0</td>\n",
       "    </tr>\n",
       "    <tr>\n",
       "      <th>4</th>\n",
       "      <td>Президент України Володимир Зеленський підписа...</td>\n",
       "      <td>0.0</td>\n",
       "      <td>0.0</td>\n",
       "      <td>0.0</td>\n",
       "      <td>0.0</td>\n",
       "      <td>0.0</td>\n",
       "      <td>0.0</td>\n",
       "    </tr>\n",
       "    <tr>\n",
       "      <th>...</th>\n",
       "      <td>...</td>\n",
       "      <td>...</td>\n",
       "      <td>...</td>\n",
       "      <td>...</td>\n",
       "      <td>...</td>\n",
       "      <td>...</td>\n",
       "      <td>...</td>\n",
       "    </tr>\n",
       "    <tr>\n",
       "      <th>2847</th>\n",
       "      <td>очуміти ,нічому людей ані ковід, ані війна , а...</td>\n",
       "      <td>1.0</td>\n",
       "      <td>0.0</td>\n",
       "      <td>0.0</td>\n",
       "      <td>1.0</td>\n",
       "      <td>0.0</td>\n",
       "      <td>0.0</td>\n",
       "    </tr>\n",
       "    <tr>\n",
       "      <th>2848</th>\n",
       "      <td>Зеленський і «Слуги народу» намагаються втюхат...</td>\n",
       "      <td>97.0</td>\n",
       "      <td>0.0</td>\n",
       "      <td>0.0</td>\n",
       "      <td>0.0</td>\n",
       "      <td>14.0</td>\n",
       "      <td>0.0</td>\n",
       "    </tr>\n",
       "    <tr>\n",
       "      <th>2849</th>\n",
       "      <td>У час, коли над Україною нависла загроза прямо...</td>\n",
       "      <td>52.0</td>\n",
       "      <td>2.0</td>\n",
       "      <td>0.0</td>\n",
       "      <td>0.0</td>\n",
       "      <td>0.0</td>\n",
       "      <td>0.0</td>\n",
       "    </tr>\n",
       "    <tr>\n",
       "      <th>2850</th>\n",
       "      <td>Вчора під час ефіру на «Свободі слова» звернул...</td>\n",
       "      <td>160.0</td>\n",
       "      <td>7.0</td>\n",
       "      <td>0.0</td>\n",
       "      <td>0.0</td>\n",
       "      <td>1.0</td>\n",
       "      <td>2.0</td>\n",
       "    </tr>\n",
       "    <tr>\n",
       "      <th>2851</th>\n",
       "      <td>Вірменія. День 1. Країна, котра «в виду имела ...</td>\n",
       "      <td>47.0</td>\n",
       "      <td>1.0</td>\n",
       "      <td>0.0</td>\n",
       "      <td>2.0</td>\n",
       "      <td>0.0</td>\n",
       "      <td>0.0</td>\n",
       "    </tr>\n",
       "  </tbody>\n",
       "</table>\n",
       "<p>2852 rows × 7 columns</p>\n",
       "</div>"
      ],
      "text/plain": [
       "                                                   text   like  love  haha  \\\n",
       "0     Заходи (завдання), які виконані в зоні (районі...    2.0   0.0   0.0   \n",
       "1     Світова пандемія принесла невизначеність у сус...    0.0   0.0   0.0   \n",
       "2     За добу в Польщі померло понад 800 людей від к...    1.0   0.0   0.0   \n",
       "3     Мене часто питають, а як зробити інакше. Ось я...    1.0   3.0   0.0   \n",
       "4     Президент України Володимир Зеленський підписа...    0.0   0.0   0.0   \n",
       "...                                                 ...    ...   ...   ...   \n",
       "2847  очуміти ,нічому людей ані ковід, ані війна , а...    1.0   0.0   0.0   \n",
       "2848  Зеленський і «Слуги народу» намагаються втюхат...   97.0   0.0   0.0   \n",
       "2849  У час, коли над Україною нависла загроза прямо...   52.0   2.0   0.0   \n",
       "2850  Вчора під час ефіру на «Свободі слова» звернул...  160.0   7.0   0.0   \n",
       "2851  Вірменія. День 1. Країна, котра «в виду имела ...   47.0   1.0   0.0   \n",
       "\n",
       "      wow   sad  angry  \n",
       "0     0.0   0.0    0.0  \n",
       "1     0.0   0.0    0.0  \n",
       "2     0.0   0.0    0.0  \n",
       "3     0.0   0.0    0.0  \n",
       "4     0.0   0.0    0.0  \n",
       "...   ...   ...    ...  \n",
       "2847  1.0   0.0    0.0  \n",
       "2848  0.0  14.0    0.0  \n",
       "2849  0.0   0.0    0.0  \n",
       "2850  0.0   1.0    2.0  \n",
       "2851  2.0   0.0    0.0  \n",
       "\n",
       "[2852 rows x 7 columns]"
      ]
     },
     "execution_count": 240,
     "metadata": {},
     "output_type": "execute_result"
    }
   ],
   "source": [
    "txt.reset_index(drop=True,inplace=True)"
   ]
  },
  {
   "cell_type": "code",
   "execution_count": 7,
   "metadata": {},
   "outputs": [],
   "source": [
    "# TfidfVectorizer\n",
    "from sklearn.feature_extraction.text import TfidfVectorizer\n",
    "vectorizer = TfidfVectorizer(min_df=0.001, use_idf=True, ngram_range=(1,3))\n",
    "                            #max_df=0.8, max_features=10000\n",
    "tfidf_matrix = vectorizer.fit_transform(corpus)\n",
    "terms = vectorizer.get_feature_names()"
   ]
  },
  {
   "cell_type": "markdown",
   "metadata": {},
   "source": [
    "# K-Means"
   ]
  },
  {
   "cell_type": "code",
   "execution_count": 8,
   "metadata": {},
   "outputs": [],
   "source": [
    "#!pip install clusteval"
   ]
  },
  {
   "cell_type": "code",
   "execution_count": 9,
   "metadata": {},
   "outputs": [
    {
     "data": {
      "image/png": "[encoded data removed]",
      "text/plain": [
       "<Figure size 640x480 with 1 Axes>"
      ]
     },
     "metadata": {},
     "output_type": "display_data"
    },
    {
     "name": "stdout",
     "output_type": "stream",
     "text": [
      "2:0.006709263439817583\n",
      "3:0.010066003041015594\n",
      "4:0.007814693416252952\n",
      "5:0.013942977922080052\n",
      "6:0.014426960652231612\n",
      "7:0.0174926006381585\n",
      "8:0.01530994922738523\n",
      "9:0.018596218183774917\n",
      "10:0.020149179356511702\n",
      "11:0.0230273249759669\n",
      "12:0.025504894830783817\n",
      "13:0.024557534739365044\n",
      "14:0.030711280905675018\n",
      "15:0.028992198923065607\n",
      "16:0.030711276049541596\n",
      "17:0.0304440660729517\n",
      "18:0.03188167265629241\n",
      "19:0.03742747038647063\n",
      "20:0.03600097741910618\n",
      "21:0.038602328687314606\n",
      "22:0.026751660639879497\n",
      "23:0.04187714134040984\n",
      "24:0.03528482978288164\n",
      "25:0.041854583755626965\n",
      "26:0.04120340991927541\n",
      "27:0.044807084818086415\n",
      "28:0.042812466251688004\n",
      "29:0.04647400901945053\n",
      "30:0.04735754774028599\n",
      "31:0.04486751268833131\n",
      "32:0.04736972335988324\n",
      "33:0.04963070042543519\n",
      "34:0.04683538069926142\n",
      "35:0.05155059835248175\n",
      "36:0.04953662976718712\n",
      "37:0.04964832726187832\n",
      "38:0.05330083329487665\n",
      "39:0.04926246138804991\n",
      "40:0.05512117744165295\n",
      "41:0.05315606540693205\n",
      "42:0.05561011174581841\n",
      "43:0.05384826830272861\n",
      "44:0.05934912944695775\n",
      "45:0.05718091567459195\n",
      "46:0.055676807011349964\n",
      "47:0.060628028898596385\n",
      "48:0.0595477786218\n",
      "49:0.05892780508655305\n"
     ]
    }
   ],
   "source": [
    "# Silhouette method to find the optimal number of clusters\n",
    "from sklearn.metrics import silhouette_score\n",
    "from sklearn.cluster import KMeans\n",
    "\n",
    "sil = []\n",
    "\n",
    "for K in range(2, 50):\n",
    "  kmeans = KMeans(n_clusters = K).fit(tfidf_matrix)  \n",
    "  preds = kmeans.fit_predict(tfidf_matrix)\n",
    "  sil.append(silhouette_score(tfidf_matrix, preds, metric = 'euclidean'))\n",
    "\n",
    "\n",
    "plt.plot(range(2, 50), sil)\n",
    "plt.title('Silhouette Method')\n",
    "plt.xlabel('Number of clusters')\n",
    "plt.ylabel('Sil')\n",
    "plt.show()\n",
    "\n",
    "for i in range(len(sil)):\n",
    " print(str(i+2) +\":\"+ str(sil[i]))"
   ]
  },
  {
   "cell_type": "code",
   "execution_count": 50,
   "metadata": {},
   "outputs": [
    {
     "name": "stderr",
     "output_type": "stream",
     "text": [
      "C:\\Users\\kater\\anaconda3\\envs\\covid\\lib\\site-packages\\ipykernel\\ipkernel.py:287: DeprecationWarning: `should_run_async` will not call `transform_cell` automatically in the future. Please pass the result to `transformed_cell` argument and any exception that happen during thetransform in `preprocessing_exc_tuple` in IPython 7.17 and above.\n",
      "  and should_run_async(code)\n"
     ]
    }
   ],
   "source": [
    "# Number of Clusters\n",
    "k = 9"
   ]
  },
  {
   "cell_type": "code",
   "execution_count": 51,
   "metadata": {},
   "outputs": [
    {
     "name": "stderr",
     "output_type": "stream",
     "text": [
      "C:\\Users\\kater\\anaconda3\\envs\\covid\\lib\\site-packages\\ipykernel\\ipkernel.py:287: DeprecationWarning: `should_run_async` will not call `transform_cell` automatically in the future. Please pass the result to `transformed_cell` argument and any exception that happen during thetransform in `preprocessing_exc_tuple` in IPython 7.17 and above.\n",
      "  and should_run_async(code)\n"
     ]
    },
    {
     "name": "stdout",
     "output_type": "stream",
     "text": [
      "Wall time: 9.22 s\n"
     ]
    }
   ],
   "source": [
    "# K-means clustering\n",
    "from sklearn.cluster import KMeans\n",
    "\n",
    "km = KMeans(n_clusters = k)\n",
    "km.fit(tfidf_matrix)"
   ]
  },
  {
   "cell_type": "markdown",
   "metadata": {},
   "source": [
    "### Clusters descriptions"
   ]
  },
  {
   "cell_type": "code",
   "execution_count": 258,
   "metadata": {},
   "outputs": [
    {
     "name": "stderr",
     "output_type": "stream",
     "text": [
      "C:\\Users\\kater\\anaconda3\\envs\\covid\\lib\\site-packages\\ipykernel\\ipkernel.py:287: DeprecationWarning: `should_run_async` will not call `transform_cell` automatically in the future. Please pass the result to `transformed_cell` argument and any exception that happen during thetransform in `preprocessing_exc_tuple` in IPython 7.17 and above.\n",
      "  and should_run_async(code)\n"
     ]
    }
   ],
   "source": [
    "def descriptions(name, labels):\n",
    "    # Reactions\n",
    "    txt[name] = labels\n",
    "    print(txt.groupby(name).mean().round())\n",
    "    print('\\n')\n",
    "        \n",
    "    posts = { 'corpus': corpus, 'cluster': labels }\n",
    "    posts = pd.DataFrame(posts)\n",
    "    words_from_clusters = posts.groupby(['cluster'])['corpus'].apply(lambda x: \"%s\" % ' '.join(x))\n",
    "    \n",
    "    names = []\n",
    "    for cluster in words_from_clusters:\n",
    "            words_freq = FreqDist(cluster.split(' '))\n",
    "            names.append(words_freq.most_common(1)[0][0])\n",
    "            print('Cluster: ', cluster.title)\n",
    "            print('Most popular words: ', words_freq.most_common(10))\n",
    "            print('Total number of unique words: ', len(words_freq))\n",
    "            print('\\n')\n",
    "            \n",
    "    # Clusters cores\n",
    "    cores = pd.DataFrame({'names':names})\n",
    "    cores['shares'] = (posts.groupby(['cluster']).count()/len(labels)*100).round(2)\n",
    "    print(cores)"
   ]
  },
  {
   "cell_type": "code",
   "execution_count": 259,
   "metadata": {},
   "outputs": [
    {
     "name": "stderr",
     "output_type": "stream",
     "text": [
      "C:\\Users\\kater\\anaconda3\\envs\\covid\\lib\\site-packages\\ipykernel\\ipkernel.py:287: DeprecationWarning: `should_run_async` will not call `transform_cell` automatically in the future. Please pass the result to `transformed_cell` argument and any exception that happen during thetransform in `preprocessing_exc_tuple` in IPython 7.17 and above.\n",
      "  and should_run_async(code)\n"
     ]
    },
    {
     "name": "stdout",
     "output_type": "stream",
     "text": [
      "        like  love  haha  wow  sad  angry\n",
      "kmeans                                   \n",
      "0       73.0   2.0   3.0  1.0  1.0    2.0\n",
      "1       70.0   2.0   6.0  1.0  6.0    9.0\n",
      "2        1.0   0.0   1.0  0.0  0.0    0.0\n",
      "3       90.0   5.0   6.0  1.0  4.0    5.0\n",
      "4       69.0   1.0   4.0  2.0  6.0   13.0\n",
      "5       32.0   1.0   6.0  1.0  1.0    2.0\n",
      "6        7.0   0.0   0.0  0.0  0.0    0.0\n",
      "7        8.0   0.0   0.0  0.0  0.0    0.0\n",
      "8       65.0   3.0   6.0  1.0  2.0    5.0\n",
      "\n",
      "\n",
      "Cluster:  <built-in method title of str object at 0x0000017E8D189040>\n",
      "Most popular words:  [('вакцина', 649), ('здоров', 519), ('охорона', 377), ('медичний', 354), ('вакцинація', 342), ('випадок', 322), ('вірус', 307), ('допомога', 279), ('захід', 254), ('населення', 231)]\n",
      "Total number of unique words:  9408\n",
      "\n",
      "\n",
      "Cluster:  <built-in method title of str object at 0x0000017EA7B55AB0>\n",
      "Most popular words:  [('бізнес', 467), ('робот', 226), ('допомога', 221), ('бюджет', 207), ('економіка', 188), ('державний', 181), ('влад', 170), ('питання', 169), ('проєкт', 166), ('великий', 163)]\n",
      "Total number of unique words:  9158\n",
      "\n",
      "\n",
      "Cluster:  <built-in method title of str object at 0x0000017EB09D2210>\n",
      "Most popular words:  [('маска', 101), ('епіцентр', 46), ('доставка', 45), ('аптека', 26), ('село', 25), ('сплатити', 23), ('повний', 23), ('перевізник', 23), ('комітет', 23), ('пришвидшений', 23)]\n",
      "Total number of unique words:  192\n",
      "\n",
      "\n",
      "Cluster:  <built-in method title of str object at 0x0000017E8D553040>\n",
      "Most popular words:  [('вірус', 379), ('український', 341), ('чома', 315), ('питання', 306), ('маска', 298), ('хворий', 279), ('право', 274), ('українець', 274), ('знати', 268), ('епідемія', 265)]\n",
      "Total number of unique words:  20496\n",
      "\n",
      "\n",
      "Cluster:  <built-in method title of str object at 0x0000017EA7C42D80>\n",
      "Most popular words:  [('тест', 640), ('кордон', 171), ('результат', 144), ('перетин', 108), ('тестування', 105), ('система', 100), ('година', 87), ('інститут', 86), ('діяти', 69), ('українець', 67)]\n",
      "Total number of unique words:  3485\n",
      "\n",
      "\n",
      "Cluster:  <built-in method title of str object at 0x0000017EA7C83A20>\n",
      "Most popular words:  [('травень', 316), ('міністр', 223), ('турист', 180), ('червень', 179), ('перти', 146), ('чорногорія', 134), ('обмеження', 129), ('шмигаль', 113), ('тест', 110), ('ситуація', 101)]\n",
      "Total number of unique words:  3386\n",
      "\n",
      "\n",
      "Cluster:  <built-in method title of str object at 0x0000017EB085CE90>\n",
      "Most popular words:  [('допомога', 181), ('працівник', 101), ('закон', 100), ('особа', 79), ('червоний', 75), ('застрахований', 66), ('підтримка', 65), ('захід', 62), ('обмеження', 59), ('регіон', 59)]\n",
      "Total number of unique words:  547\n",
      "\n",
      "\n",
      "Cluster:  <built-in method title of str object at 0x0000017EB0870BF0>\n",
      "Most popular words:  [('планета', 160), ('свідомість', 91), ('зайвий', 90), ('небезпека', 69), ('глобаліст', 69), ('формування', 69), ('демократичний', 68), ('питання', 68), ('втратити', 66), ('основа', 66)]\n",
      "Total number of unique words:  201\n",
      "\n",
      "\n",
      "Cluster:  <built-in method title of str object at 0x0000017EB0889450>\n",
      "Most popular words:  [('пандемія', 98), ('обмеження', 91), ('український', 80), ('українець', 67), ('закон', 59), ('мова', 59), ('вакцинація', 58), ('питання', 55), ('слуга', 46), ('перший', 43)]\n",
      "Total number of unique words:  5177\n",
      "\n",
      "\n",
      "      names  shares\n",
      "0   вакцина   11.29\n",
      "1    бізнес   11.50\n",
      "2     маска    1.30\n",
      "3     вірус   34.05\n",
      "4      тест    5.58\n",
      "5   травень    7.40\n",
      "6  допомога    1.19\n",
      "7   планета    0.81\n",
      "8  пандемія   26.89\n"
     ]
    }
   ],
   "source": [
    "descriptions('kmeans', km.labels_.tolist())\n"
   ]
  },
  {
   "cell_type": "markdown",
   "metadata": {},
   "source": [
    "## LDA"
   ]
  },
  {
   "cell_type": "code",
   "execution_count": 96,
   "metadata": {},
   "outputs": [
    {
     "name": "stderr",
     "output_type": "stream",
     "text": [
      "C:\\Users\\kater\\anaconda3\\envs\\covid\\lib\\site-packages\\ipykernel\\ipkernel.py:287: DeprecationWarning: `should_run_async` will not call `transform_cell` automatically in the future. Please pass the result to `transformed_cell` argument and any exception that happen during thetransform in `preprocessing_exc_tuple` in IPython 7.17 and above.\n",
      "  and should_run_async(code)\n"
     ]
    },
    {
     "name": "stdout",
     "output_type": "stream",
     "text": [
      "Log Likelihood:  -295022.64493746334\n",
      "Perplexity:  218172.10131299653\n"
     ]
    }
   ],
   "source": [
    "from sklearn.decomposition import LatentDirichletAllocation\n",
    "lda_model = LatentDirichletAllocation(n_components = k,           # Number of topics\n",
    "                                      max_iter = 20,               # Max learning iterations\n",
    "                                      random_state = 100,          # Random state\n",
    "                                      batch_size = 128,            # n docs in each learning iter\n",
    "                                      evaluate_every = -1,       # compute perplexity every n iters, default: Don't\n",
    "                                      n_jobs = -1,               # Use all available CPUs\n",
    "                                     )\n",
    "lda_output = lda_model.fit_transform(tfidf_matrix)\n",
    "\n",
    "# Log Likelyhood: Higher the better\n",
    "print(\"Log Likelihood: \", lda_model.score(tfidf_matrix))\n",
    "\n",
    "# Perplexity: Lower the better. Perplexity = exp(-1. * log-likelihood per word)\n",
    "print(\"Perplexity: \", lda_model.perplexity(tfidf_matrix))"
   ]
  },
  {
   "cell_type": "markdown",
   "metadata": {},
   "source": [
    "Some words for agenda can be picked up on this stage"
   ]
  },
  {
   "cell_type": "code",
   "execution_count": 97,
   "metadata": {},
   "outputs": [
    {
     "name": "stderr",
     "output_type": "stream",
     "text": [
      "C:\\Users\\kater\\anaconda3\\envs\\covid\\lib\\site-packages\\ipykernel\\ipkernel.py:287: DeprecationWarning: `should_run_async` will not call `transform_cell` automatically in the future. Please pass the result to `transformed_cell` argument and any exception that happen during thetransform in `preprocessing_exc_tuple` in IPython 7.17 and above.\n",
      "  and should_run_async(code)\n"
     ]
    },
    {
     "data": {
      "text/html": [
       "<div>\n",
       "<style scoped>\n",
       "    .dataframe tbody tr th:only-of-type {\n",
       "        vertical-align: middle;\n",
       "    }\n",
       "\n",
       "    .dataframe tbody tr th {\n",
       "        vertical-align: top;\n",
       "    }\n",
       "\n",
       "    .dataframe thead th {\n",
       "        text-align: right;\n",
       "    }\n",
       "</style>\n",
       "<table border=\"1\" class=\"dataframe\">\n",
       "  <thead>\n",
       "    <tr style=\"text-align: right;\">\n",
       "      <th></th>\n",
       "      <th>Word 0</th>\n",
       "      <th>Word 1</th>\n",
       "      <th>Word 2</th>\n",
       "      <th>Word 3</th>\n",
       "      <th>Word 4</th>\n",
       "      <th>Word 5</th>\n",
       "      <th>Word 6</th>\n",
       "      <th>Word 7</th>\n",
       "      <th>Word 8</th>\n",
       "      <th>Word 9</th>\n",
       "    </tr>\n",
       "  </thead>\n",
       "  <tbody>\n",
       "    <tr>\n",
       "      <th>Topic 0</th>\n",
       "      <td>навчальний</td>\n",
       "      <td>вчитель</td>\n",
       "      <td>раша</td>\n",
       "      <td>раша пандемія</td>\n",
       "      <td>війнути</td>\n",
       "      <td>грузія</td>\n",
       "      <td>чесний</td>\n",
       "      <td>сильний</td>\n",
       "      <td>регіональний</td>\n",
       "      <td>спорт</td>\n",
       "    </tr>\n",
       "    <tr>\n",
       "      <th>Topic 1</th>\n",
       "      <td>говоритьвеликийльвів</td>\n",
       "      <td>токшоу</td>\n",
       "      <td>токшоу епідемія</td>\n",
       "      <td>політик слуганарід</td>\n",
       "      <td>політик слуганарід парламент</td>\n",
       "      <td>токшоу епідемія політик</td>\n",
       "      <td>говоритьвеликийльвів токшоу</td>\n",
       "      <td>парламент телеканалнт</td>\n",
       "      <td>епідемія політик слуганарід</td>\n",
       "      <td>епідемія політик</td>\n",
       "    </tr>\n",
       "    <tr>\n",
       "      <th>Topic 2</th>\n",
       "      <td>епіцентр</td>\n",
       "      <td>краса</td>\n",
       "      <td>маска</td>\n",
       "      <td>цінник</td>\n",
       "      <td>квіточка</td>\n",
       "      <td>можно</td>\n",
       "      <td>маска супермаркет</td>\n",
       "      <td>доставка вантаж</td>\n",
       "      <td>епіцентр маска супермаркет</td>\n",
       "      <td>мережа епіцентр маска</td>\n",
       "    </tr>\n",
       "    <tr>\n",
       "      <th>Topic 3</th>\n",
       "      <td>режим</td>\n",
       "      <td>режим надзвичайний</td>\n",
       "      <td>пандемия</td>\n",
       "      <td>справитися громадянський</td>\n",
       "      <td>пандемія русский</td>\n",
       "      <td>русский міра справитися</td>\n",
       "      <td>міра справитися</td>\n",
       "      <td>пандемія русский міра</td>\n",
       "      <td>міра справитися громадянський</td>\n",
       "      <td>русский</td>\n",
       "    </tr>\n",
       "    <tr>\n",
       "      <th>Topic 4</th>\n",
       "      <td>тест</td>\n",
       "      <td>травень</td>\n",
       "      <td>вакцина</td>\n",
       "      <td>обмеження</td>\n",
       "      <td>допомога</td>\n",
       "      <td>пандемія</td>\n",
       "      <td>здоров</td>\n",
       "      <td>вакцинація</td>\n",
       "      <td>міністр</td>\n",
       "      <td>робот</td>\n",
       "    </tr>\n",
       "    <tr>\n",
       "      <th>Topic 5</th>\n",
       "      <td>чома</td>\n",
       "      <td>гальмувати</td>\n",
       "      <td>пол1цейський</td>\n",
       "      <td>пол1цейський диктатура</td>\n",
       "      <td>диктатура</td>\n",
       "      <td>поскаржитися</td>\n",
       "      <td>інстинкт</td>\n",
       "      <td>рівність</td>\n",
       "      <td>треба</td>\n",
       "      <td>проаналізувати ситуація</td>\n",
       "    </tr>\n",
       "    <tr>\n",
       "      <th>Topic 6</th>\n",
       "      <td>адаптивний</td>\n",
       "      <td>серпень</td>\n",
       "      <td>шмигаль</td>\n",
       "      <td>матеріальний виплата</td>\n",
       "      <td>перти</td>\n",
       "      <td>день незалежність</td>\n",
       "      <td>загальнодержавний</td>\n",
       "      <td>задуматися</td>\n",
       "      <td>найман працівник</td>\n",
       "      <td>найман</td>\n",
       "    </tr>\n",
       "    <tr>\n",
       "      <th>Topic 7</th>\n",
       "      <td>обмежувати українець виїзд</td>\n",
       "      <td>обмежувати українець</td>\n",
       "      <td>українець виїзд</td>\n",
       "      <td>ухвалити рішення послаблення</td>\n",
       "      <td>рішення послаблення</td>\n",
       "      <td>послаблення дізнатися</td>\n",
       "      <td>рішення послаблення дізнатися</td>\n",
       "      <td>дізнатися правило перевірити</td>\n",
       "      <td>дізнатися правило</td>\n",
       "      <td>правило перевірити 3fla6wv</td>\n",
       "    </tr>\n",
       "    <tr>\n",
       "      <th>Topic 8</th>\n",
       "      <td>гончаренко</td>\n",
       "      <td>відставка</td>\n",
       "      <td>олексій гончаренко</td>\n",
       "      <td>маска деталь</td>\n",
       "      <td>маска деталь читати</td>\n",
       "      <td>ходити маска деталь</td>\n",
       "      <td>деталь читати</td>\n",
       "      <td>ковідомор</td>\n",
       "      <td>кіпр</td>\n",
       "      <td>ходити маска</td>\n",
       "    </tr>\n",
       "  </tbody>\n",
       "</table>\n",
       "</div>"
      ],
      "text/plain": [
       "                             Word 0                Word 1              Word 2  \\\n",
       "Topic 0                  навчальний               вчитель                раша   \n",
       "Topic 1        говоритьвеликийльвів                токшоу     токшоу епідемія   \n",
       "Topic 2                    епіцентр                 краса               маска   \n",
       "Topic 3                       режим    режим надзвичайний            пандемия   \n",
       "Topic 4                        тест               травень             вакцина   \n",
       "Topic 5                        чома            гальмувати        пол1цейський   \n",
       "Topic 6                  адаптивний               серпень             шмигаль   \n",
       "Topic 7  обмежувати українець виїзд  обмежувати українець     українець виїзд   \n",
       "Topic 8                  гончаренко             відставка  олексій гончаренко   \n",
       "\n",
       "                               Word 3                        Word 4  \\\n",
       "Topic 0                 раша пандемія                       війнути   \n",
       "Topic 1            політик слуганарід  політик слуганарід парламент   \n",
       "Topic 2                        цінник                      квіточка   \n",
       "Topic 3      справитися громадянський              пандемія русский   \n",
       "Topic 4                     обмеження                      допомога   \n",
       "Topic 5        пол1цейський диктатура                     диктатура   \n",
       "Topic 6          матеріальний виплата                         перти   \n",
       "Topic 7  ухвалити рішення послаблення           рішення послаблення   \n",
       "Topic 8                  маска деталь           маска деталь читати   \n",
       "\n",
       "                          Word 5                         Word 6  \\\n",
       "Topic 0                   грузія                         чесний   \n",
       "Topic 1  токшоу епідемія політик    говоритьвеликийльвів токшоу   \n",
       "Topic 2                    можно              маска супермаркет   \n",
       "Topic 3  русский міра справитися                міра справитися   \n",
       "Topic 4                 пандемія                         здоров   \n",
       "Topic 5             поскаржитися                       інстинкт   \n",
       "Topic 6        день незалежність              загальнодержавний   \n",
       "Topic 7    послаблення дізнатися  рішення послаблення дізнатися   \n",
       "Topic 8      ходити маска деталь                  деталь читати   \n",
       "\n",
       "                               Word 7                         Word 8  \\\n",
       "Topic 0                       сильний                   регіональний   \n",
       "Topic 1         парламент телеканалнт    епідемія політик слуганарід   \n",
       "Topic 2               доставка вантаж     епіцентр маска супермаркет   \n",
       "Topic 3         пандемія русский міра  міра справитися громадянський   \n",
       "Topic 4                    вакцинація                        міністр   \n",
       "Topic 5                      рівність                          треба   \n",
       "Topic 6                    задуматися               найман працівник   \n",
       "Topic 7  дізнатися правило перевірити              дізнатися правило   \n",
       "Topic 8                     ковідомор                           кіпр   \n",
       "\n",
       "                             Word 9  \n",
       "Topic 0                       спорт  \n",
       "Topic 1            епідемія політик  \n",
       "Topic 2       мережа епіцентр маска  \n",
       "Topic 3                     русский  \n",
       "Topic 4                       робот  \n",
       "Topic 5     проаналізувати ситуація  \n",
       "Topic 6                      найман  \n",
       "Topic 7  правило перевірити 3fla6wv  \n",
       "Topic 8                ходити маска  "
      ]
     },
     "execution_count": 97,
     "metadata": {},
     "output_type": "execute_result"
    }
   ],
   "source": [
    "# Show top n keywords for each topic\n",
    "def show_topics(vectorizer=vectorizer, lda_model=lda_model, n_words=10):\n",
    "    keywords = np.array(vectorizer.get_feature_names())\n",
    "    topic_keywords = []\n",
    "    for topic_weights in lda_model.components_:\n",
    "        top_keyword_locs = (-topic_weights).argsort()[:n_words]\n",
    "        topic_keywords.append(keywords.take(top_keyword_locs))\n",
    "    return topic_keywords\n",
    "\n",
    "topic_keywords = show_topics(vectorizer=vectorizer, lda_model=lda_model, n_words=10)        \n",
    "\n",
    "# Topic - Keywords Dataframe\n",
    "df_topic_keywords = pd.DataFrame(topic_keywords)\n",
    "df_topic_keywords.columns = ['Word '+str(i) for i in range(df_topic_keywords.shape[1])]\n",
    "df_topic_keywords.index = ['Topic '+str(i) for i in range(df_topic_keywords.shape[0])]\n",
    "df_topic_keywords"
   ]
  },
  {
   "cell_type": "markdown",
   "metadata": {},
   "source": [
    "### LDA Visualizing"
   ]
  },
  {
   "cell_type": "code",
   "execution_count": 18,
   "metadata": {},
   "outputs": [],
   "source": [
    "#!pip install pyldavis"
   ]
  },
  {
   "cell_type": "code",
   "execution_count": 111,
   "metadata": {
    "scrolled": true
   },
   "outputs": [
    {
     "name": "stderr",
     "output_type": "stream",
     "text": [
      "C:\\Users\\kater\\anaconda3\\envs\\covid\\lib\\site-packages\\ipykernel\\ipkernel.py:287: DeprecationWarning: `should_run_async` will not call `transform_cell` automatically in the future. Please pass the result to `transformed_cell` argument and any exception that happen during thetransform in `preprocessing_exc_tuple` in IPython 7.17 and above.\n",
      "  and should_run_async(code)\n"
     ]
    },
    {
     "data": {
      "text/html": [
       "\n",
       "<link rel=\"stylesheet\" type=\"text/css\" href=\"https://cdn.jsdelivr.net/gh/bmabey/pyLDAvis@3.3.1/pyLDAvis/js/ldavis.v1.0.0.css\">\n",
       "\n",
       "\n",
       "<div id=\"ldavis_el1002816429156052966172928791\"></div>\n",
       "<script type=\"text/javascript\">\n",
       "\n",
       "var ldavis_el1002816429156052966172928791_data = {\"mdsDat\": {\"x\": [111.0925064086914, 34.94661331176758, -28.088212966918945, 147.6980743408203, -97.50118255615234, 30.312095642089844, -155.44366455078125, -204.24810791015625, -79.40467834472656], \"y\": [-133.7229461669922, 107.06459045410156, -159.94903564453125, 21.369604110717773, 126.98138427734375, -32.794944763183594, -118.49468994140625, 22.59613037109375, -6.864717483520508], \"topics\": [1, 2, 3, 4, 5, 6, 7, 8, 9], \"cluster\": [1, 1, 1, 1, 1, 1, 1, 1, 1], \"Freq\": [57.930886488611456, 9.486497823882507, 5.585165888379573, 5.43636586938408, 5.376008095797015, 4.995414909294237, 3.94211850824619, 3.8608743696004804, 3.3866680468044508]}, \"tinfo\": {\"Term\": [\"\\u0440\\u0435\\u0436\\u0438\\u043c\", \"\\u0442\\u0435\\u0441\\u0442\", \"\\u043c\\u0430\\u0441\\u043a\\u0430\", \"\\u0448\\u043c\\u0438\\u0433\\u0430\\u043b\\u044c\", \"\\u0447\\u043e\\u043c\\u0430\", \"\\u0430\\u0434\\u0430\\u043f\\u0442\\u0438\\u0432\\u043d\\u0438\\u0439\", \"\\u0442\\u0440\\u0430\\u0432\\u0435\\u043d\\u044c\", \"\\u0435\\u043f\\u0456\\u0446\\u0435\\u043d\\u0442\\u0440\", \"\\u0432\\u0430\\u043a\\u0446\\u0438\\u043d\\u0430\", \"\\u043e\\u0431\\u043c\\u0435\\u0436\\u0435\\u043d\\u043d\\u044f\", \"\\u0437\\u0430\\u043a\\u043e\\u043d\", \"\\u043f\\u043e\\u0441\\u043b\\u0430\\u0431\\u043b\\u0435\\u043d\\u043d\\u044f\", \"\\u0434\\u043e\\u043f\\u043e\\u043c\\u043e\\u0433\\u0430\", \"\\u0441\\u0435\\u0440\\u043f\\u0435\\u043d\\u044c\", \"\\u0437\\u0434\\u043e\\u0440\\u043e\\u0432\", \"\\u0440\\u0456\\u0448\\u0435\\u043d\\u043d\\u044f\", \"\\u043f\\u0440\\u0430\\u0432\\u0438\\u043b\\u043e\", \"\\u0432\\u0430\\u043a\\u0446\\u0438\\u043d\\u0430\\u0446\\u0456\\u044f\", \"\\u043f\\u0438\\u0442\\u0430\\u043d\\u043d\\u044f\", \"\\u0441\\u0438\\u0442\\u0443\\u0430\\u0446\\u0456\\u044f\", \"\\u0440\\u043e\\u0431\\u043e\\u0442\", \"\\u0445\\u0432\\u043e\\u0440\\u0438\\u0439\", \"\\u0437\\u0440\\u043e\\u0431\\u0438\\u0442\\u0438\", \"\\u043f\\u0435\\u0440\\u0442\\u0438\", \"\\u0443\\u0445\\u0432\\u0430\\u043b\\u0438\\u0442\\u0438\", \"\\u043c\\u0456\\u043d\\u0456\\u0441\\u0442\\u0440\", \"\\u0432\\u0438\\u043f\\u0430\\u0434\\u043e\\u043a\", \"\\u043e\\u0431\\u043c\\u0435\\u0436\\u0443\\u0432\\u0430\\u0442\\u0438\", \"\\u0431\\u0456\\u0437\\u043d\\u0435\\u0441\", \"\\u0432\\u0456\\u0440\\u0443\\u0441\", \"\\u0442\\u0440\\u0430\\u0432\\u0435\\u043d\\u044c\", \"\\u0432\\u0430\\u043a\\u0446\\u0438\\u043d\\u0430\", \"\\u0437\\u0434\\u043e\\u0440\\u043e\\u0432\", \"\\u0440\\u043e\\u0431\\u043e\\u0442\", \"\\u0432\\u0456\\u0440\\u0443\\u0441\", \"\\u0442\\u0435\\u0441\\u0442\", \"\\u043d\\u0430\\u0441\\u0435\\u043b\\u0435\\u043d\\u043d\\u044f\", \"\\u043e\\u0445\\u043e\\u0440\\u043e\\u043d\\u0430\", \"\\u0432\\u0435\\u043b\\u0438\\u043a\\u0438\\u0439\", \"\\u043f\\u0440\\u0430\\u0432\\u043e\", \"\\u0437\\u0430\\u0445\\u0456\\u0434\", \"\\u0441\\u0438\\u0441\\u0442\\u0435\\u043c\\u0430\", \"\\u043e\\u0445\\u043e\\u0440\\u043e\\u043d\\u0430 \\u0437\\u0434\\u043e\\u0440\\u043e\\u0432\", \"\\u0434\\u0456\\u0442\\u0438\", \"\\u043c\\u0456\\u0441\\u0446\\u0435\", \"\\u043b\\u0456\\u043a\\u0430\\u0440\", \"\\u0432\\u043b\\u0430\\u0434\", \"\\u0434\\u043e\\u043f\\u043e\\u043c\\u043e\\u0433\\u0430\", \"\\u044f\\u043a\\u0449\\u043e\", \"\\u043b\\u044e\\u0434\\u0438\\u043d\\u0430\", \"\\u043c\\u0435\\u0434\\u0438\\u043a\", \"\\u043f\\u0440\\u0430\\u0446\\u044e\\u0432\\u0430\\u0442\\u0438\", \"\\u0431\\u0456\\u0437\\u043d\\u0435\\u0441\", \"\\u0432\\u0456\\u0439\\u043d\\u0430\", \"\\u043a\\u0430\\u0440\\u0430\\u043d\\u0442\\u0438\\u043d\\u043d\\u0438\\u0439\", \"\\u0442\\u0443\\u0440\\u0438\\u0441\\u0442\", \"\\u0437\\u043c\\u0456\\u043d\\u0438\\u0442\\u0438\", \"\\u0442\\u0435\\u0441\\u0442\\u0443\\u0432\\u0430\\u043d\\u043d\\u044f\", \"\\u043c\\u0435\\u0434\\u0438\\u0447\\u043d\\u0438\\u0439\", \"\\u0437\\u0430\\u0445\\u0432\\u043e\\u0440\\u044e\\u0432\\u0430\\u043d\\u043d\\u044f\", \"\\u043c\\u0456\\u043d\\u0456\\u0441\\u0442\\u0440\", \"\\u043f\\u0438\\u0442\\u0430\\u043d\\u043d\\u044f\", \"\\u0441\\u0438\\u0442\\u0443\\u0430\\u0446\\u0456\\u044f\", \"\\u0435\\u043f\\u0456\\u0434\\u0435\\u043c\\u0456\\u044f\", \"\\u0437\\u043d\\u0430\\u0442\\u0438\", \"\\u043e\\u0431\\u043c\\u0435\\u0436\\u0435\\u043d\\u043d\\u044f\", \"\\u0432\\u0430\\u043a\\u0446\\u0438\\u043d\\u0430\\u0446\\u0456\\u044f\", \"\\u0445\\u0432\\u043e\\u0440\\u0438\\u0439\", \"\\u043f\\u0435\\u0440\\u0448\\u0438\\u0439\", \"\\u0432\\u0438\\u043f\\u0430\\u0434\\u043e\\u043a\", \"\\u0432\\u043e\\u043b\\u043e\\u0434\\u0438\\u043c\\u0438\\u0440\", \"\\u0437\\u0440\\u043e\\u0431\\u0438\\u0442\\u0438\", \"\\u0437\\u0430\\u043a\\u043e\\u043d\", \"\\u0443\\u043c\\u043e\\u0432\\u0430\", \"\\u0443\\u043a\\u0440\\u0430\\u0457\\u043d\\u0441\\u044c\\u043a\\u0438\\u0439\", \"\\u043c\\u0430\\u0441\\u043a\\u0430\", \"\\u043f\\u0430\\u043d\\u0434\\u0435\\u043c\\u0456\\u044f\", \"\\u0443\\u043a\\u0440\\u0430\\u0457\\u043d\\u0435\\u0446\\u044c\", \"\\u0440\\u0430\\u0448\\u0430\", \"\\u0440\\u0430\\u0448\\u0430 \\u043f\\u0430\\u043d\\u0434\\u0435\\u043c\\u0456\\u044f\", \"\\u043d\\u0430\\u0432\\u0447\\u0430\\u043b\\u044c\\u043d\\u0438\\u0439\", \"\\u0433\\u0440\\u0443\\u0437\\u0456\\u044f\", \"\\u0441\\u0438\\u043b\\u044c\\u043d\\u0438\\u0439\", \"\\u0447\\u0435\\u0441\\u043d\\u0438\\u0439\", \"\\u0434\\u0435\\u0441\\u044f\\u0442\\u043e\\u043a\", \"\\u0432\\u0447\\u0438\\u0442\\u0435\\u043b\\u044c\", \"\\u043f\\u043e\\u0432\\u0456\\u0442\\u0440\\u044f\", \"\\u0444\\u0440\\u043e\\u043d\\u0442\", \"\\u0447\\u043e\\u0440\\u043d\\u043e\\u0431\\u0438\\u043b\\u044c\", \"\\u043a\\u0430\\u043d\\u0430\\u0434\\u0430\", \"\\u0441\\u043a\\u043b\\u0430\\u0434\", \"\\u0442\\u0440\\u0438\\u043c\\u0430\\u0442\\u0438\", \"\\u043e\\u0441\\u0432\\u0456\\u0442\\u043d\\u0456\\u0439\", \"\\u043b\\u0430\\u0432\\u0440\", \"\\u0434\\u0435\\u0431\\u0430\\u0442\\u0438\", \"\\u044f\\u043a\\u0431\\u0438\", \"\\u0448\\u043a\\u043e\\u043b\\u044f\\u0440\\u0438\", \"\\u0445\\u043b\\u0456\\u0431\", \"\\u043a\\u043e\\u0440\\u0434\\u043e\\u043d \\u0443\\u043a\\u0440\\u0430\\u0457\\u043d\\u0435\\u0446\\u044c\", \"\\u0430\\u0445\\u043c\\u0435\\u0442\\u043e\\u0432\", \"\\u0433\\u0430\\u043d\\u044c\\u0431\\u0430\", \"\\u0440\\u0435\\u0433\\u0456\\u043e\\u043d\\u0430\\u043b\\u044c\\u043d\\u0438\\u0439\", \"\\u0441\\u0442\\u0443\\u0434\\u0435\\u043d\\u0442\", \"\\u043d\\u0430\\u0432\\u0447\\u0430\\u0442\\u0438\\u0441\\u044f\", \"\\u0432\\u0456\\u0439\\u043d\\u0443\\u0442\\u0438\", \"\\u043a\\u043e\\u043d\\u0441\\u0443\\u043b\\u044c\\u0442\\u0430\\u0446\\u0456\\u044f\", \"\\u0441\\u043b\\u043e\\u0432\\u0435\\u043d\\u0456\\u044f\", \"\\u043a\\u0430\\u0442\\u0430\\u0441\\u0442\\u0440\\u043e\\u0444\\u0430\", \"\\u0441\\u043f\\u043e\\u0440\\u0442\", \"\\u0443\\u043d\\u0456\\u0432\\u0435\\u0440\\u0441\\u0438\\u0442\\u0435\\u0442\", \"\\u043a\\u043e\\u043c\\u0456\\u0441\\u0456\\u044f\", \"\\u0444\\u0456\\u043b\\u044c\\u043c\", \"\\u043c\\u0440\\u0456\\u044f\", \"\\u0432\\u0438\\u0431\\u0430\\u0447\\u0438\\u0442\\u0438\", \"\\u0442\\u0440\\u0438\\u043c\\u0430\\u0442\\u0438\\u0441\\u044f\", \"\\u0434\\u0435\\u043d\\u044c \\u0454\\u0432\\u0440\\u043e\\u043f\\u0430\", \"\\u043d\\u0430\\u0441\\u0438\\u043b\\u044c\\u0441\\u0442\\u0432\\u043e\", \"\\u043f\\u0435\\u0440\\u0435\\u0442\\u0438\\u043d \\u043a\\u043e\\u0440\\u0434\\u043e\\u043d\", \"\\u043f\\u0435\\u0440\\u0435\\u0442\\u0438\\u043d\", \"\\u043f\\u0440\\u043e\\u0454\\u043a\\u0442\", \"\\u0456\\u043d\\u0441\\u0442\\u0438\\u0442\\u0443\\u0442\", \"\\u043f\\u0430\\u043d\\u0434\\u0435\\u043c\\u0456\\u044f\", \"\\u043b\\u0456\\u043a\\u0443\\u0432\\u0430\\u0442\\u0438\", \"\\u0433\\u043e\\u0432\\u043e\\u0440\\u0438\\u0442\\u044c\\u0432\\u0435\\u043b\\u0438\\u043a\\u0438\\u0439\\u043b\\u044c\\u0432\\u0456\\u0432\", \"\\u0433\\u043e\\u0432\\u043e\\u0440\\u0438\\u0442\\u044c\\u0432\\u0435\\u043b\\u0438\\u043a\\u0438\\u0439\\u043b\\u044c\\u0432\\u0456\\u0432 \\u0442\\u043e\\u043a\\u0448\\u043e\\u0443\", \"\\u0433\\u043e\\u0432\\u043e\\u0440\\u0438\\u0442\\u044c\\u0432\\u0435\\u043b\\u0438\\u043a\\u0438\\u0439\\u043b\\u044c\\u0432\\u0456\\u0432 \\u0442\\u043e\\u043a\\u0448\\u043e\\u0443 \\u0435\\u043f\\u0456\\u0434\\u0435\\u043c\\u0456\\u044f\", \"\\u0435\\u043f\\u0456\\u0434\\u0435\\u043c\\u0456\\u044f \\u043f\\u043e\\u043b\\u0456\\u0442\\u0438\\u043a\", \"\\u0435\\u043f\\u0456\\u0434\\u0435\\u043c\\u0456\\u044f \\u043f\\u043e\\u043b\\u0456\\u0442\\u0438\\u043a \\u0441\\u043b\\u0443\\u0433\\u0430\\u043d\\u0430\\u0440\\u0456\\u0434\", \"\\u043f\\u0430\\u0440\\u043b\\u0430\\u043c\\u0435\\u043d\\u0442 \\u0442\\u0435\\u043b\\u0435\\u043a\\u0430\\u043d\\u0430\\u043b\\u043d\\u0442\", \"\\u043f\\u043e\\u043b\\u0456\\u0442\\u0438\\u043a \\u0441\\u043b\\u0443\\u0433\\u0430\\u043d\\u0430\\u0440\\u0456\\u0434\", \"\\u043f\\u043e\\u043b\\u0456\\u0442\\u0438\\u043a \\u0441\\u043b\\u0443\\u0433\\u0430\\u043d\\u0430\\u0440\\u0456\\u0434 \\u043f\\u0430\\u0440\\u043b\\u0430\\u043c\\u0435\\u043d\\u0442\", \"\\u0441\\u043b\\u0443\\u0433\\u0430\\u043d\\u0430\\u0440\\u0456\\u0434 \\u043f\\u0430\\u0440\\u043b\\u0430\\u043c\\u0435\\u043d\\u0442\", \"\\u0441\\u043b\\u0443\\u0433\\u0430\\u043d\\u0430\\u0440\\u0456\\u0434 \\u043f\\u0430\\u0440\\u043b\\u0430\\u043c\\u0435\\u043d\\u0442 \\u0442\\u0435\\u043b\\u0435\\u043a\\u0430\\u043d\\u0430\\u043b\\u043d\\u0442\", \"\\u0442\\u0435\\u043b\\u0435\\u043a\\u0430\\u043d\\u0430\\u043b\\u043d\\u0442\", \"\\u0442\\u043e\\u043a\\u0448\\u043e\\u0443\", \"\\u0442\\u043e\\u043a\\u0448\\u043e\\u0443 \\u0435\\u043f\\u0456\\u0434\\u0435\\u043c\\u0456\\u044f\", \"\\u0442\\u043e\\u043a\\u0448\\u043e\\u0443 \\u0435\\u043f\\u0456\\u0434\\u0435\\u043c\\u0456\\u044f \\u043f\\u043e\\u043b\\u0456\\u0442\\u0438\\u043a\", \"3dbijfp\", \"\\u0433\\u0443\\u0447\\u043d\\u0438\\u0439 \\u0437\\u0430\\u044f\\u0432\\u0430\", \"\\u0433\\u0443\\u0447\\u043d\\u0438\\u0439 \\u0437\\u0430\\u044f\\u0432\\u0430 3dbijfp\", \"\\u0437\\u0430\\u044f\\u0432\\u0430 3dbijfp\", \"3dbijfp \\u0433\\u043e\\u0432\\u043e\\u0440\\u0438\\u0442\\u044c\\u0432\\u0435\\u043b\\u0438\\u043a\\u0438\\u0439\\u043b\\u044c\\u0432\\u0456\\u0432\", \"3dbijfp \\u0433\\u043e\\u0432\\u043e\\u0440\\u0438\\u0442\\u044c\\u0432\\u0435\\u043b\\u0438\\u043a\\u0438\\u0439\\u043b\\u044c\\u0432\\u0456\\u0432 \\u0442\\u043e\\u043a\\u0448\\u043e\\u0443\", \"\\u0437\\u0430\\u044f\\u0432\\u0430 3dbijfp \\u0433\\u043e\\u0432\\u043e\\u0440\\u0438\\u0442\\u044c\\u0432\\u0435\\u043b\\u0438\\u043a\\u0438\\u0439\\u043b\\u044c\\u0432\\u0456\\u0432\", \"\\u0430\\u0434\\u0430\\u043f\\u0442\\u0438\\u0432\\u043d\\u0438\\u0439 \\u0440\\u0435\\u0437\\u0443\\u043b\\u044c\\u0442\\u0430\\u0442\", \"\\u0431\\u0456\\u043b\\u044c\\u0448\\u0435 \\u0446\\u0456\\u043a\\u0430\\u0432\\u0438\\u0439\", \"\\u0442\\u0440\\u0430\\u0432\\u0435\\u043d\\u044c \\u043e\\u0431\\u043c\\u0435\\u0436\\u0435\\u043d\\u043d\\u044f\", \"\\u043b\\u0430\\u0437\\u0435\\u0431\\u043d\\u0430\", \"\\u043c\\u0430\\u0440\\u0438\\u043d\\u0430 \\u043b\\u0430\\u0437\\u0435\\u0431\\u043d\\u0430\", \"\\u043f\\u043e\\u043b\\u0456\\u0442\\u0438\\u043a \\u0441\\u0432\\u0456\\u0442\", \"\\u0437\\u0430\\u0433\\u0430\\u043b\\u044c\\u043d\\u043e\\u0434\\u0435\\u0440\\u0436\\u0430\\u0432\\u043d\\u0438\\u0439 \\u0437\\u0430\\u043a\\u0440\\u0438\\u0432\\u0430\\u0442\\u0438\\u0441\\u044f\", \"\\u043f\\u043e\\u043b\\u0456\\u0442\\u0438\\u043a \\u0441\\u0432\\u0456\\u0442 \\u0443\\u043c\\u043e\\u0432\\u0430\", \"\\u0441\\u0432\\u0456\\u0442 \\u0443\\u043c\\u043e\\u0432\\u0430\", \"\\u0434\\u0438\\u043a\\u0442\\u0430\\u0442\\u043e\\u0440\", \"\\u0441\\u043b\\u0443\\u0433\\u0430\\u043d\\u0430\\u0440\\u0456\\u0434\", \"\\u0444\\u0440\\u0430\\u043d\\u043a\\u0456\\u0432\\u0441\\u044c\\u043a\", \"\\u0433\\u0443\\u0447\\u043d\\u0438\\u0439\", \"\\u043b\\u044c\\u0432\\u0456\\u0432\", \"\\u0442\\u0438\\u0449\\u0435\\u043d\\u043a\\u043e\", \"\\u043f\\u0430\\u0440\\u043b\\u0430\\u043c\\u0435\\u043d\\u0442\", \"\\u0444\\u0456\\u043d\\u0430\\u043d\\u0441\\u0443\\u0432\\u0430\\u043d\\u043d\\u044f\", \"\\u0442\\u0435\\u0437\\u0430\", \"\\u043d\\u0438\\u043d\\u0456\\u0448\\u043d\\u0456\\u0439\", \"\\u043f\\u043e\\u043b\\u0456\\u0442\\u0438\\u043a\", \"\\u043c\\u0456\\u0440\\u0430 \\u0441\\u043f\\u0440\\u0430\\u0432\\u0438\\u0442\\u0438\\u0441\\u044f\", \"\\u043c\\u0456\\u0440\\u0430 \\u0441\\u043f\\u0440\\u0430\\u0432\\u0438\\u0442\\u0438\\u0441\\u044f \\u0433\\u0440\\u043e\\u043c\\u0430\\u0434\\u044f\\u043d\\u0441\\u044c\\u043a\\u0438\\u0439\", \"\\u043f\\u0430\\u043d\\u0434\\u0435\\u043c\\u0456\\u044f \\u0440\\u0443\\u0441\\u0441\\u043a\\u0438\\u0439\", \"\\u043f\\u0430\\u043d\\u0434\\u0435\\u043c\\u0456\\u044f \\u0440\\u0443\\u0441\\u0441\\u043a\\u0438\\u0439 \\u043c\\u0456\\u0440\\u0430\", \"\\u0440\\u0443\\u0441\\u0441\\u043a\\u0438\\u0439 \\u043c\\u0456\\u0440\\u0430 \\u0441\\u043f\\u0440\\u0430\\u0432\\u0438\\u0442\\u0438\\u0441\\u044f\", \"\\u0441\\u043f\\u0440\\u0430\\u0432\\u0438\\u0442\\u0438\\u0441\\u044f \\u0433\\u0440\\u043e\\u043c\\u0430\\u0434\\u044f\\u043d\\u0441\\u044c\\u043a\\u0438\\u0439\", \"\\u043f\\u0441\\u0443\\u0432\\u0430\\u0442\\u0438\", \"\\u0447\\u0435\\u0440\\u0432\\u0435\\u043d\\u044c \\u0440\\u0435\\u0436\\u0438\\u043c\", \"\\u043f\\u0440\\u043e\\u0434\\u043e\\u0432\\u0436\\u0438\\u0442\\u0438 \\u0440\\u0435\\u0436\\u0438\\u043c \\u043d\\u0430\\u0434\\u0437\\u0432\\u0438\\u0447\\u0430\\u0439\\u043d\\u0438\\u0439\", \"\\u043d\\u0430\\u0434\\u0437\\u0432\\u0438\\u0447\\u0430\\u0439\\u043d\\u0438\\u0439 \\u0447\\u0435\\u0440\\u0432\\u0435\\u043d\\u044c\", \"\\u0440\\u0435\\u0436\\u0438\\u043c \\u043d\\u0430\\u0434\\u0437\\u0432\\u0438\\u0447\\u0430\\u0439\\u043d\\u0438\\u0439 \\u0447\\u0435\\u0440\\u0432\\u0435\\u043d\\u044c\", \"\\u0440\\u0443\\u0441\\u0441\\u043a\\u0438\\u0439\", \"\\u0440\\u0443\\u0441\\u0441\\u043a\\u0438\\u0439 \\u043c\\u0456\\u0440\\u0430\", \"\\u0440\\u0435\\u0436\\u0438\\u043c \\u043d\\u0430\\u0434\\u0437\\u0432\\u0438\\u0447\\u0430\\u0439\\u043d\\u0438\\u0439\", \"\\u0432\\u0456\\u0434\\u0435\\u043e \\u0447\\u0438\\u0442\\u0430\\u0442\\u0438\", \"\\u0437\\u0432\\u0435\\u0440\\u043d\\u0443\\u0442\\u0438\\u0441\\u044f \\u0443\\u043a\\u0440\\u0430\\u0457\\u043d\\u0435\\u0446\\u044c\", \"\\u0437\\u0432\\u0435\\u0440\\u043d\\u0443\\u0442\\u0438\\u0441\\u044f \\u0443\\u043a\\u0440\\u0430\\u0457\\u043d\\u0435\\u0446\\u044c \\u0432\\u0456\\u0434\\u0435\\u043e\", \"\\u0442\\u0435\\u0440\\u043c\\u0456\\u043d\\u043e\\u0432\\u043e \\u0437\\u0432\\u0435\\u0440\\u043d\\u0443\\u0442\\u0438\\u0441\\u044f\", \"\\u0442\\u0435\\u0440\\u043c\\u0456\\u043d\\u043e\\u0432\\u043e \\u0437\\u0432\\u0435\\u0440\\u043d\\u0443\\u0442\\u0438\\u0441\\u044f \\u0443\\u043a\\u0440\\u0430\\u0457\\u043d\\u0435\\u0446\\u044c\", \"\\u0443\\u043a\\u0440\\u0430\\u0457\\u043d\\u0435\\u0446\\u044c \\u0432\\u0456\\u0434\\u0435\\u043e\", \"\\u0443\\u043a\\u0440\\u0430\\u0457\\u043d\\u0435\\u0446\\u044c \\u0432\\u0456\\u0434\\u0435\\u043e \\u0447\\u0438\\u0442\\u0430\\u0442\\u0438\", \"\\u043f\\u0430\\u043a\\u0443\\u043d\\u043e\\u043a\", \"\\u043f\\u0430\\u043d\\u0434\\u0435\\u043c\\u0438\\u044f\", \"\\u0447\\u0435\\u0442\\u0432\\u0435\\u0440\", \"\\u0441\\u043f\\u0440\\u0430\\u0432\\u0438\\u0442\\u0438\\u0441\\u044f\", \"\\u0442\\u0443\\u0440\\u0438\\u0441\\u0442 \\u0442\\u0435\\u0441\\u0442\", \"\\u043d\\u0435\\u0433\\u0430\\u0442\\u0438\\u0432\\u043d\\u0438\\u0439 \\u0440\\u0435\\u0437\\u0443\\u043b\\u044c\\u0442\\u0430\\u0442 \\u0430\\u043d\\u0430\\u043b\\u0456\\u0437\", \"\\u0431\\u0430\\u043b\\u0430\\u0433\\u0430\\u043d\", \"\\u0442\\u0435\\u0441\\u0442 \\u043f\\u043e\\u0432\\u0435\\u0440\\u043d\\u0435\\u043d\\u043d\\u044f\", \"\\u0447\\u0435\\u0440\\u0432\\u0435\\u043d\\u044c \\u0440\\u0435\\u0436\\u0438\\u043c \\u043d\\u0430\\u0434\\u0437\\u0432\\u0438\\u0447\\u0430\\u0439\\u043d\\u0438\\u0439\", \"\\u043f\\u0440\\u043e\\u0434\\u043e\\u0432\\u0436\\u0438\\u0442\\u0438 \\u0440\\u0435\\u0436\\u0438\\u043c\", \"\\u0442\\u0435\\u0440\\u043c\\u0456\\u043d\\u043e\\u0432\\u043e\", \"\\u0441\\u043a\\u0443\\u043f\\u0447\\u0435\\u043d\\u043d\\u044f\", \"\\u0440\\u0435\\u0436\\u0438\\u043c\", \"\\u0433\\u0440\\u043e\\u043c\\u0430\\u0434\\u044f\\u043d\\u0441\\u044c\\u043a\\u0438\\u0439\", \"\\u0434\\u0456\\u044f\\u0442\\u0438\", \"\\u0448\\u043c\\u0438\\u0433\\u0430\\u043b\\u044c\", \"\\u043f\\u0430\\u043d\\u0434\\u0435\\u043c\\u0456\\u044f\", \"\\u043c\\u0430\\u0442\\u0435\\u0440\\u0456\\u0430\\u043b\\u044c\\u043d\\u0438\\u0439 \\u0432\\u0438\\u043f\\u043b\\u0430\\u0442\\u0430\", \"\\u043f\\u0440\\u043e\\u0434\\u043e\\u0432\\u0436\\u0438\\u0442\\u0438 \\u0441\\u0435\\u0440\\u043f\\u0435\\u043d\\u044c\", \"\\u0432\\u0430\\u043a\\u0446\\u0438\\u043d\\u0430\\u0446\\u0456\\u044f \\u0440\\u043e\\u0437\\u0432\\u0438\\u0432\\u0430\\u0442\\u0438\\u0441\\u044f\", \"\\u0432\\u0430\\u043a\\u0446\\u0438\\u043d\\u0430\\u0446\\u0456\\u044f \\u0440\\u043e\\u0437\\u0432\\u0438\\u0432\\u0430\\u0442\\u0438\\u0441\\u044f \\u043f\\u0430\\u043d\\u0434\\u0435\\u043c\\u0456\\u044f\", \"\\u0434\\u0438\\u0441\\u0446\\u0438\\u043f\\u043b\\u0456\\u043d\\u0430 \\u0432\\u0430\\u043a\\u0446\\u0438\\u043d\\u0430\\u0446\\u0456\\u044f\", \"\\u0434\\u0438\\u0441\\u0446\\u0438\\u043f\\u043b\\u0456\\u043d\\u0430 \\u0432\\u0430\\u043a\\u0446\\u0438\\u043d\\u0430\\u0446\\u0456\\u044f \\u0440\\u043e\\u0437\\u0432\\u0438\\u0432\\u0430\\u0442\\u0438\\u0441\\u044f\", \"\\u0437\\u0430\\u043b\\u0435\\u0436\\u0430\\u0442\\u0438 \\u0434\\u0438\\u0441\\u0446\\u0438\\u043f\\u043b\\u0456\\u043d\\u0430\", \"\\u0437\\u0430\\u043b\\u0435\\u0436\\u0430\\u0442\\u0438 \\u0434\\u0438\\u0441\\u0446\\u0438\\u043f\\u043b\\u0456\\u043d\\u0430 \\u0432\\u0430\\u043a\\u0446\\u0438\\u043d\\u0430\\u0446\\u0456\\u044f\", \"\\u0440\\u043e\\u0437\\u0432\\u0438\\u0432\\u0430\\u0442\\u0438\\u0441\\u044f \\u043f\\u0430\\u043d\\u0434\\u0435\\u043c\\u0456\\u044f\", \"\\u043e\\u0434\\u043d\\u043e\\u0440\\u0430\\u0437\\u043e\\u0432\\u0438\\u0439 \\u043c\\u0430\\u0442\\u0435\\u0440\\u0456\\u0430\\u043b\\u044c\\u043d\\u0438\\u0439 \\u0432\\u0438\\u043f\\u043b\\u0430\\u0442\\u0430\", \"\\u043f\\u0440\\u0430\\u0446\\u0456\\u0432\\u043d\\u0438\\u043a \\u0437\\u043c\\u0443\\u0448\\u0435\\u043d\\u0438\\u0439\", \"\\u043d\\u0430\\u0439\\u043c\\u0430\\u043d \\u043f\\u0440\\u0430\\u0446\\u0456\\u0432\\u043d\\u0438\\u043a \\u0437\\u043c\\u0443\\u0448\\u0435\\u043d\\u0438\\u0439\", \"\\u0430\\u0434\\u0430\\u043f\\u0442\\u0438\\u0432\\u043d\\u0438\\u0439 \\u0441\\u0435\\u0440\\u043f\\u0435\\u043d\\u044c\", \"\\u0432\\u0438\\u043f\\u043b\\u0430\\u0442\\u0430 \\u0440\\u043e\\u0437\\u043c\\u0456\\u0440\", \"\\u0434\\u0438\\u0441\\u0446\\u0438\\u043f\\u043b\\u0456\\u043d\\u0430\", \"\\u0432\\u0456\\u0434\\u043f\\u043e\\u0432\\u0456\\u0434\\u043d\\u043e \\u0437\\u0430\\u043a\\u043e\\u043d\", \"\\u043f\\u043e\\u0441\\u0438\\u043b\\u044e\\u0432\\u0430\\u0442\\u0438 \\u0432\\u0435\\u043b\\u0438\\u043a\\u043e\\u0434\\u043d\\u0438\\u0439\", \"\\u043f\\u043e\\u0441\\u0438\\u043b\\u044e\\u0432\\u0430\\u0442\\u0438 \\u0432\\u0435\\u043b\\u0438\\u043a\\u043e\\u0434\\u043d\\u0438\\u0439 \\u0441\\u0432\\u044f\\u0442\\u043e\", \"\\u0437\\u043c\\u0443\\u0448\\u0435\\u043d\\u0438\\u0439 \\u043f\\u0440\\u0438\\u043f\\u0438\\u043d\\u0438\\u0442\\u0438\", \"\\u043f\\u0440\\u0430\\u0446\\u0456\\u0432\\u043d\\u0438\\u043a \\u0437\\u043c\\u0443\\u0448\\u0435\\u043d\\u0438\\u0439 \\u043f\\u0440\\u0438\\u043f\\u0438\\u043d\\u0438\\u0442\\u0438\", \"\\u043c\\u0430\\u0442\\u0435\\u0440\\u0456\\u0430\\u043b\\u044c\\u043d\\u0438\\u0439 \\u0432\\u0438\\u043f\\u043b\\u0430\\u0442\\u0430 \\u0440\\u043e\\u0437\\u043c\\u0456\\u0440\", \"\\u043f\\u0440\\u0438\\u043f\\u0438\\u043d\\u0438\\u0442\\u0438 \\u043e\\u0431\\u043c\\u0435\\u0436\\u0435\\u043d\\u043d\\u044f\", \"\\u043f\\u0430\\u043d\\u0434\\u0435\\u043c\\u0456\\u044f \\u044f\\u0432\\u043b\\u044f\\u0442\\u0438\\u0441\\u044f\", \"\\u043f\\u0430\\u043d\\u0434\\u0435\\u043c\\u0456\\u044f \\u044f\\u0432\\u043b\\u044f\\u0442\\u0438\\u0441\\u044f \\u0448\\u0442\\u0430\\u043c\", \"\\u0440\\u043e\\u0437\\u0432\\u0438\\u0432\\u0430\\u0442\\u0438\\u0441\\u044f \\u043f\\u0430\\u043d\\u0434\\u0435\\u043c\\u0456\\u044f \\u044f\\u0432\\u043b\\u044f\\u0442\\u0438\\u0441\\u044f\", \"\\u044f\\u0432\\u043b\\u044f\\u0442\\u0438\\u0441\\u044f \\u0448\\u0442\\u0430\\u043c\", \"\\u043e\\u0441\\u043e\\u0431\\u0430 \\u043d\\u0430\\u0439\\u043c\\u0430\\u043d\", \"\\u043e\\u0441\\u043e\\u0431\\u0430 \\u043d\\u0430\\u0439\\u043c\\u0430\\u043d \\u043f\\u0440\\u0430\\u0446\\u0456\\u0432\\u043d\\u0438\\u043a\", \"\\u0444\\u0456\\u0437\\u0438\\u0447\\u043d\\u0438\\u0439 \\u043e\\u0441\\u043e\\u0431\\u0430 \\u043d\\u0430\\u0439\\u043c\\u0430\\u043d\", \"\\u0431\\u044e\\u0434\\u0436\\u0435\\u0442 \\u043e\\u0434\\u043d\\u043e\\u0440\\u0430\\u0437\\u043e\\u0432\\u0438\\u0439\", \"\\u043e\\u0434\\u043d\\u043e\\u0440\\u0430\\u0437\\u043e\\u0432\\u0438\\u0439 \\u043c\\u0430\\u0442\\u0435\\u0440\\u0456\\u0430\\u043b\\u044c\\u043d\\u0438\\u0439\", \"\\u0434\\u0435\\u043d\\u044c \\u043d\\u0435\\u0437\\u0430\\u043b\\u0435\\u0436\\u043d\\u0456\\u0441\\u0442\\u044c\", \"\\u0432\\u0435\\u043b\\u0438\\u043a\\u043e\\u0434\\u043d\\u0438\\u0439 \\u0441\\u0432\\u044f\\u0442\\u043e\", \"\\u0437\\u0430\\u0434\\u0443\\u043c\\u0430\\u0442\\u0438\\u0441\\u044f\", \"\\u0430\\u0434\\u0430\\u043f\\u0442\\u0438\\u0432\\u043d\\u0438\\u0439\", \"\\u043e\\u0431\\u043c\\u0435\\u0436\\u0435\\u043d\\u043d\\u044f \\u0447\\u0435\\u0440\\u0432\\u043e\\u043d\\u0438\\u0439 \\u0437\\u043e\\u043d\\u0430\", \"\\u043d\\u0435\\u043f\\u0430\\u043b\", \"\\u0441\\u0435\\u0440\\u043f\\u0435\\u043d\\u044c\", \"\\u0437\\u0430\\u0433\\u0430\\u043b\\u044c\\u043d\\u043e\\u0434\\u0435\\u0440\\u0436\\u0430\\u0432\\u043d\\u0438\\u0439\", \"\\u043f\\u0456\\u0434\\u0442\\u0440\\u0438\\u043c\\u043a\\u0430 \\u043c\\u0430\\u043b\\u0438\\u0439 \\u0431\\u0456\\u0437\\u043d\\u0435\\u0441\", \"\\u043d\\u0430\\u0439\\u043c\\u0430\\u043d \\u043f\\u0440\\u0430\\u0446\\u0456\\u0432\\u043d\\u0438\\u043a\", \"\\u043d\\u0430\\u0439\\u043c\\u0430\\u043d\", \"\\u0448\\u043c\\u0438\\u0433\\u0430\\u043b\\u044c\", \"\\u0443\\u0442\\u043e\\u0447\\u043d\\u0438\\u0442\\u0438\", \"\\u043c\\u0430\\u0442\\u0435\\u0440\\u0456\\u0430\\u043b\\u044c\\u043d\\u0438\\u0439\", \"\\u043f\\u0435\\u0440\\u0442\\u0438\", \"\\u043f\\u043e\\u043a\\u0430\\u0437\\u043d\\u0438\\u043a\", \"\\u0437\\u0430\\u043f\\u0440\\u043e\\u0432\\u0430\\u0434\\u0436\\u0435\\u043d\\u0438\\u0439\", \"\\u0437\\u0430\\u043a\\u043e\\u043d\", \"\\u0432\\u0438\\u043f\\u043b\\u0430\\u0442\\u0430\", \"\\u043f\\u0435\\u0440\\u0442\\u0438 \\u043c\\u0456\\u043d\\u0456\\u0441\\u0442\\u0440\", \"\\u0447\\u0435\\u0440\\u0432\\u043e\\u043d\\u0438\\u0439 \\u0437\\u043e\\u043d\\u0430\", \"\\u043e\\u0431\\u043c\\u0435\\u0436\\u0435\\u043d\\u043d\\u044f\", \"\\u043c\\u0456\\u043d\\u0456\\u0441\\u0442\\u0440 \\u0434\\u0435\\u043d\\u0438\\u0441 \\u0448\\u043c\\u0438\\u0433\\u0430\\u043b\\u044c\", \"\\u043f\\u0435\\u0440\\u0442\\u0438 \\u043c\\u0456\\u043d\\u0456\\u0441\\u0442\\u0440 \\u0434\\u0435\\u043d\\u0438\\u0441\", \"\\u043c\\u0456\\u043d\\u0456\\u0441\\u0442\\u0440 \\u0434\\u0435\\u043d\\u0438\\u0441\", \"\\u0433\\u0430\\u043b\\u044c\\u043c\\u0443\\u0432\\u0430\\u0442\\u0438\", \"\\u043f\\u043e\\u043b1\\u0446\\u0435\\u0439\\u0441\\u044c\\u043a\\u0438\\u0439\", \"\\u043f\\u043e\\u043b1\\u0446\\u0435\\u0439\\u0441\\u044c\\u043a\\u0438\\u0439 \\u0434\\u0438\\u043a\\u0442\\u0430\\u0442\\u0443\\u0440\\u0430\", \"\\u043f\\u0440\\u043e\\u0430\\u043d\\u0430\\u043b\\u0456\\u0437\\u0443\\u0432\\u0430\\u0442\\u0438 \\u0441\\u0438\\u0442\\u0443\\u0430\\u0446\\u0456\\u044f\", \"\\u0444\\u0456\\u0437\\u0456\\u043e\\u043b\\u043e\\u0433\\u0456\\u0447\\u043d\\u043e\", \"\\u0441\\u043f\\u0440\\u0438\\u044f\\u0442\\u043b\\u0438\\u0432\\u0438\\u0439 \\u0435\\u043f\\u0456\\u0434\\u0435\\u043c\\u0456\\u0447\\u043d\\u0438\\u0439 \\u0441\\u0438\\u0442\\u0443\\u0430\\u0446\\u0456\\u044f\", \"\\u0432\\u043b\\u0443\\u0447\\u043d\\u043e\", \"\\u0432\\u0438\\u0440\\u0456\\u0448\\u0438\\u0442\\u0438 \\u0442\\u0440\\u0430\\u0432\\u0435\\u043d\\u044c \\u043f\\u043e\\u0447\\u0430\\u0442\\u0438\", \"\\u0432\\u0442\\u043e\\u043c\\u0438\\u0442\\u0438\\u0441\\u044f \\u043f\\u0440\\u043e\\u0430\\u043d\\u0430\\u043b\\u0456\\u0437\\u0443\\u0432\\u0430\\u0442\\u0438\", \"\\u0432\\u0442\\u043e\\u043c\\u0438\\u0442\\u0438\\u0441\\u044f \\u043f\\u0440\\u043e\\u0430\\u043d\\u0430\\u043b\\u0456\\u0437\\u0443\\u0432\\u0430\\u0442\\u0438 \\u0441\\u0438\\u0442\\u0443\\u0430\\u0446\\u0456\\u044f\", \"\\u0435\\u043f\\u0456\\u0434\\u0435\\u043c\\u0456\\u0447\\u043d\\u0438\\u0439 \\u0441\\u0438\\u0442\\u0443\\u0430\\u0446\\u0456\\u044f \\u043f\\u043e\\u0447\\u0438\\u043d\\u0430\\u0442\\u0438\", \"\\u0437\\u0430\\u0445\\u0432\\u043e\\u0440\\u044e\\u0432\\u0430\\u043d\\u0456\\u0441\\u0442\\u044c \\u0432\\u0438\\u0440\\u0456\\u0448\\u0438\\u0442\\u0438\", \"\\u0437\\u0430\\u0445\\u0432\\u043e\\u0440\\u044e\\u0432\\u0430\\u043d\\u0456\\u0441\\u0442\\u044c \\u0432\\u0438\\u0440\\u0456\\u0448\\u0438\\u0442\\u0438 \\u0442\\u0440\\u0430\\u0432\\u0435\\u043d\\u044c\", \"\\u043f\\u043e\\u0447\\u0438\\u043d\\u0430\\u0442\\u0438 \\u0441\\u043a\\u0430\\u0441\\u043e\\u0432\\u0443\\u0432\\u0430\\u0442\\u0438\", \"\\u043f\\u043e\\u0447\\u0438\\u043d\\u0430\\u0442\\u0438 \\u0441\\u043a\\u0430\\u0441\\u043e\\u0432\\u0443\\u0432\\u0430\\u0442\\u0438 \\u043e\\u0431\\u043c\\u0435\\u0436\\u0435\\u043d\\u043d\\u044f\", \"\\u043f\\u0440\\u043e\\u0430\\u043d\\u0430\\u043b\\u0456\\u0437\\u0443\\u0432\\u0430\\u0442\\u0438 \\u0441\\u0438\\u0442\\u0443\\u0430\\u0446\\u0456\\u044f \\u0437\\u0430\\u0445\\u0432\\u043e\\u0440\\u044e\\u0432\\u0430\\u043d\\u0456\\u0441\\u0442\\u044c\", \"\\u0441\\u0438\\u0442\\u0443\\u0430\\u0446\\u0456\\u044f \\u0437\\u0430\\u0445\\u0432\\u043e\\u0440\\u044e\\u0432\\u0430\\u043d\\u0456\\u0441\\u0442\\u044c \\u0432\\u0438\\u0440\\u0456\\u0448\\u0438\\u0442\\u0438\", \"\\u0441\\u0438\\u0442\\u0443\\u0430\\u0446\\u0456\\u044f \\u043f\\u043e\\u0447\\u0438\\u043d\\u0430\\u0442\\u0438\", \"\\u0441\\u0438\\u0442\\u0443\\u0430\\u0446\\u0456\\u044f \\u043f\\u043e\\u0447\\u0438\\u043d\\u0430\\u0442\\u0438 \\u0441\\u043a\\u0430\\u0441\\u043e\\u0432\\u0443\\u0432\\u0430\\u0442\\u0438\", \"\\u0442\\u0440\\u0430\\u0432\\u0435\\u043d\\u044c \\u043f\\u043e\\u0447\\u0430\\u0442\\u0438\", \"\\u0431\\u0435\\u0440\\u0435\\u0433\\u0442\\u0438 \\u0440\\u0456\\u0434\\u043d\\u0438\\u0439\", \"\\u0441\\u043f\\u0440\\u0430\\u0432\\u0436\\u043d\\u0456\\u0439 \\u043f\\u0430\\u043d\\u0434\\u0435\\u043c\\u0456\\u044f\", \"\\u043d\\u0430\\u0431\\u043b\\u0438\\u0436\\u0430\\u0442\\u0438\", \"\\u0437\\u0430\\u0445\\u043e\\u043f\\u0438\\u0442\\u0438 \\u043f\\u0430\\u043d\\u0434\\u0435\\u043c\\u0456\\u044f\", \"\\u043f\\u043e\\u0434\\u0430\\u0432\\u0430\\u0442\\u0438 \\u0440\\u0443\\u043a\\u0430\", \"\\u043f\\u043e\\u0434\\u0430\\u0432\\u0430\\u0442\\u0438 \\u0440\\u0443\\u043a\\u0430 \\u0434\\u043e\\u043f\\u043e\\u043c\\u043e\\u0433\\u0430\", \"\\u0441\\u0438\\u0442\\u0443\\u0430\\u0446\\u0456\\u044f \\u043f\\u043e\\u0447\\u0430\\u0442\\u0438\", \"\\u0449\\u0438\\u0440\\u0456\\u0441\\u0442\\u044c\", \"\\u043c\\u0430\\u0433\\u0434\\u0430\", \"\\u043c\\u0430\\u0433\\u0434\\u0430 \\u0430\\u0431\\u0437\\u0430\\u0446\", \"\\u0456\\u043d\\u0441\\u0442\\u0438\\u043d\\u043a\\u0442\", \"\\u0440\\u0456\\u0432\\u043d\\u0456\\u0441\\u0442\\u044c\", \"\\u043f\\u043e\\u0441\\u043a\\u0430\\u0440\\u0436\\u0438\\u0442\\u0438\\u0441\\u044f\", \"\\u0434\\u0438\\u043a\\u0442\\u0430\\u0442\\u0443\\u0440\\u0430\", \"\\u0441\\u0446\\u0443\\u043a\\u0430\", \"\\u0443\\u043a\\u0440\\u0430\\u0457\\u043d\\u043e\\u043c\\u043e\\u0432\\u043d\\u0438\\u0439\", \"\\u0432\\u0438\\u0440\\u0456\\u0448\\u0438\\u0442\\u0438 \\u0442\\u0440\\u0430\\u0432\\u0435\\u043d\\u044c\", \"\\u0441\\u043f\\u0440\\u0438\\u044f\\u0442\\u043b\\u0438\\u0432\\u0438\\u0439 \\u0435\\u043f\\u0456\\u0434\\u0435\\u043c\\u0456\\u0447\\u043d\\u0438\\u0439\", \"\\u0447\\u043e\\u043c\\u0430\", \"\\u0442\\u0440\\u0435\\u0431\\u0430\", \"\\u0437\\u0443\\u0441\\u0442\\u0440\\u0456\\u0447\\u043d\\u0438\\u0439\", \"\\u043a\\u043e\\u043c\\u0435\\u043d\\u0442\\u0443\\u0432\\u0430\\u0442\\u0438\", \"\\u0444\\u043e\\u043f\\u0456\\u0432\", \"\\u0434\\u0435\\u0437\\u0456\\u043d\\u0444\\u043e\\u0440\\u043c\\u0430\\u0446\\u0456\\u044f\", \"\\u0432\\u043f\\u0435\\u0432\\u043d\\u0435\\u043d\\u043e\", \"\\u0443\\u0441\\u0442\\u0430\", \"\\u0446\\u0456\\u043d\\u043d\\u0438\\u043a\", \"\\u043a\\u0432\\u0456\\u0442\\u043e\\u0447\\u043a\\u0430\", \"\\u043c\\u0430\\u0441\\u043a\\u0430 \\u0441\\u0443\\u043f\\u0435\\u0440\\u043c\\u0430\\u0440\\u043a\\u0435\\u0442\", \"\\u0431\\u0443\\u0442\\u0438 \\u043e\\u0431\\u0440\\u0430\\u043d\\u0438\\u0439\", \"\\u0431\\u0443\\u0442\\u0438 \\u043e\\u0431\\u0440\\u0430\\u043d\\u0438\\u0439 \\u043d\\u0430\\u0439\\u0430\\u0434\\u0435\\u043a\\u0432\\u0430\\u0442\\u043d\\u0456\\u0448\\u0438\\u0439\", \"\\u0432\\u0430\\u043d\\u0442\\u0430\\u0436 \\u0431\\u0443\\u0442\\u0438\", \"\\u0432\\u0430\\u043d\\u0442\\u0430\\u0436 \\u0431\\u0443\\u0442\\u0438 \\u043e\\u0431\\u0440\\u0430\\u043d\\u0438\\u0439\", \"\\u0434\\u0435\\u0444\\u0456\\u0446\\u0438\\u0442 \\u043c\\u0430\\u0441\\u043a\\u0430\", \"\\u0434\\u0435\\u0444\\u0456\\u0446\\u0438\\u0442 \\u043c\\u0430\\u0441\\u043a\\u0430 \\u043c\\u0430\\u0433\\u0430\\u0437\\u0438\\u043d\", \"\\u0434\\u043e\\u0441\\u0442\\u0430\\u0432\\u043a\\u0430 \\u0432\\u0430\\u043d\\u0442\\u0430\\u0436 \\u0431\\u0443\\u0442\\u0438\", \"\\u0435\\u043f\\u0456\\u0446\\u0435\\u043d\\u0442\\u0440 \\u043c\\u0430\\u0441\\u043a\\u0430\", \"\\u0435\\u043f\\u0456\\u0446\\u0435\\u043d\\u0442\\u0440 \\u043c\\u0430\\u0441\\u043a\\u0430 \\u0441\\u0443\\u043f\\u0435\\u0440\\u043c\\u0430\\u0440\\u043a\\u0435\\u0442\", \"\\u0437\\u0430\\u0440\\u0430\\u0437\\u0430 \\u043c\\u0435\\u0440\\u0435\\u0436\\u0430\", \"\\u0437\\u0430\\u0440\\u0430\\u0437\\u0430 \\u043c\\u0435\\u0440\\u0435\\u0436\\u0430 \\u0435\\u043f\\u0456\\u0446\\u0435\\u043d\\u0442\\u0440\", \"\\u043a\\u043e\\u043c\\u0456\\u0442\\u0435\\u0442 \\u043f\\u0440\\u0438\\u0448\\u0432\\u0438\\u0434\\u0448\\u0435\\u043d\\u0438\\u0439 \\u043e\\u0444\\u043e\\u0440\\u043c\\u043b\\u0435\\u043d\\u043d\\u044f\", \"\\u043c\\u0430\\u0441\\u043a\\u0430 \\u043c\\u0430\\u0433\\u0430\\u0437\\u0438\\u043d \\u0430\\u043f\\u0442\\u0435\\u043a\\u0430\", \"\\u043c\\u0430\\u0441\\u043a\\u0430 \\u0441\\u0443\\u043f\\u0435\\u0440\\u043c\\u0430\\u0440\\u043a\\u0435\\u0442 \\u0435\\u043f\\u0456\\u0446\\u0435\\u043d\\u0442\\u0440\", \"\\u043c\\u0435\\u0440\\u0435\\u0436\\u0430 \\u0435\\u043f\\u0456\\u0446\\u0435\\u043d\\u0442\\u0440 \\u043c\\u0430\\u0441\\u043a\\u0430\", \"\\u043c\\u043e\\u0436\\u043d\\u043e \\u043f\\u0435\\u0440\\u0442\\u0438\", \"\\u043c\\u043e\\u0436\\u043d\\u043e \\u043f\\u0435\\u0440\\u0442\\u0438 \\u043e\\u0440\\u0433\\u0430\\u043d\\u0456\\u0437\\u043e\\u0432\\u0430\\u043d\\u0438\\u0439\", \"\\u043d\\u0430\\u0439\\u0430\\u0434\\u0435\\u043a\\u0432\\u0430\\u0442\\u043d\\u0456\\u0448\\u0438\\u0439\", \"\\u043d\\u0430\\u0439\\u0430\\u0434\\u0435\\u043a\\u0432\\u0430\\u0442\\u043d\\u0456\\u0448\\u0438\\u0439 \\u0446\\u0456\\u043d\\u043d\\u0438\\u043a\", \"\\u043d\\u0430\\u0439\\u0430\\u0434\\u0435\\u043a\\u0432\\u0430\\u0442\\u043d\\u0456\\u0448\\u0438\\u0439 \\u0446\\u0456\\u043d\\u043d\\u0438\\u043a \\u0434\\u0435\\u0444\\u0456\\u0446\\u0438\\u0442\", \"\\u043e\\u0431\\u0440\\u0430\\u043d\\u0438\\u0439 \\u043d\\u0430\\u0439\\u0430\\u0434\\u0435\\u043a\\u0432\\u0430\\u0442\\u043d\\u0456\\u0448\\u0438\\u0439\", \"\\u043e\\u0431\\u0440\\u0430\\u043d\\u0438\\u0439 \\u043d\\u0430\\u0439\\u0430\\u0434\\u0435\\u043a\\u0432\\u0430\\u0442\\u043d\\u0456\\u0448\\u0438\\u0439 \\u0446\\u0456\\u043d\\u043d\\u0438\\u043a\", \"\\u043e\\u0440\\u0433\\u0430\\u043d\\u0456\\u0437\\u043e\\u0432\\u0430\\u043d\\u0438\\u0439 \\u043a\\u043e\\u043c\\u0456\\u0442\\u0435\\u0442\", \"\\u043e\\u0440\\u0433\\u0430\\u043d\\u0456\\u0437\\u043e\\u0432\\u0430\\u043d\\u0438\\u0439 \\u043a\\u043e\\u043c\\u0456\\u0442\\u0435\\u0442 \\u043f\\u0440\\u0438\\u0448\\u0432\\u0438\\u0434\\u0448\\u0435\\u043d\\u0438\\u0439\", \"\\u043e\\u0444\\u043e\\u0440\\u043c\\u043b\\u0435\\u043d\\u043d\\u044f \\u0434\\u043e\\u0441\\u0442\\u0430\\u0432\\u043a\\u0430\", \"\\u043e\\u0444\\u043e\\u0440\\u043c\\u043b\\u0435\\u043d\\u043d\\u044f \\u0434\\u043e\\u0441\\u0442\\u0430\\u0432\\u043a\\u0430 \\u0432\\u0430\\u043d\\u0442\\u0430\\u0436\", \"\\u043f\\u0435\\u0440\\u0435\\u0432\\u0456\\u0437\\u043d\\u0438\\u043a \\u043c\\u043e\\u0436\\u043d\\u043e\", \"\\u0435\\u043f\\u0456\\u0446\\u0435\\u043d\\u0442\\u0440\", \"\\u043a\\u0440\\u0430\\u0441\\u0430\", \"\\u043c\\u043e\\u0436\\u043d\\u043e\", \"\\u043c\\u0430\\u0441\\u043a\\u0430\", \"\\u0434\\u043e\\u0441\\u0442\\u0430\\u0432\\u043a\\u0430 \\u0432\\u0430\\u043d\\u0442\\u0430\\u0436\", \"\\u0433\\u043e\\u043d\\u0447\\u0430\\u0440\\u0435\\u043d\\u043a\\u043e\", \"\\u043e\\u043b\\u0435\\u043a\\u0441\\u0456\\u0439 \\u0433\\u043e\\u043d\\u0447\\u0430\\u0440\\u0435\\u043d\\u043a\\u043e\", \"\\u0434\\u0435\\u0442\\u0430\\u043b\\u044c \\u0447\\u0438\\u0442\\u0430\\u0442\\u0438\", \"\\u043c\\u0430\\u0441\\u043a\\u0430 \\u0434\\u0435\\u0442\\u0430\\u043b\\u044c\", \"\\u043c\\u0430\\u0441\\u043a\\u0430 \\u0434\\u0435\\u0442\\u0430\\u043b\\u044c \\u0447\\u0438\\u0442\\u0430\\u0442\\u0438\", \"\\u0445\\u043e\\u0434\\u0438\\u0442\\u0438 \\u043c\\u0430\\u0441\\u043a\\u0430 \\u0434\\u0435\\u0442\\u0430\\u043b\\u044c\", \"\\u043a\\u043e\\u0432\\u0456\\u0434\\u043e\\u043c\\u043e\\u0440\", \"3flwstk\", \"\\u0434\\u0435\\u0442\\u0430\\u043b\\u044c \\u0447\\u0438\\u0442\\u0430\\u0442\\u0438 3flwstk\", \"\\u0447\\u0438\\u0442\\u0430\\u0442\\u0438 3flwstk\", \"\\u0437\\u0430\\u0441\\u0456\\u0434\\u0430\\u043d\\u043d\\u044f \\u0432\\u0438\\u043d\\u043e\\u0441\\u0438\\u0442\\u0438\", \"\\u043f\\u043e\\u0437\\u0430\\u0447\\u0435\\u0440\\u0433\\u043e\\u0432\\u0438\\u0439 \\u0437\\u0430\\u0441\\u0456\\u0434\\u0430\\u043d\\u043d\\u044f \\u0432\\u0438\\u043d\\u043e\\u0441\\u0438\\u0442\\u0438\", \"\\u043c\\u043e\\u0436\\u043b\\u0438\\u0432\\u0438\\u0439 \\u0437\\u043e\\u0432\\u043d\\u0456\\u0448\\u043d\\u0456\\u0439\", \"\\u043c\\u043e\\u0436\\u043b\\u0438\\u0432\\u0438\\u0439 \\u0437\\u043e\\u0432\\u043d\\u0456\\u0448\\u043d\\u0456\\u0439 \\u0430\\u0433\\u0440\\u0435\\u0441\\u0456\\u044f\", \"\\u043f\\u0435\\u0440\\u0448\\u0438\\u0439 \\u0447\\u0435\\u0440\\u0433\\u0430 \\u0440\\u043e\\u0437\\u0433\\u043b\\u044f\\u0434\\u0430\\u0442\\u0438\", \"\\u043f\\u0438\\u0442\\u0430\\u043d\\u043d\\u044f \\u043c\\u043e\\u0436\\u043b\\u0438\\u0432\\u0438\\u0439\", \"\\u043f\\u0438\\u0442\\u0430\\u043d\\u043d\\u044f \\u043c\\u043e\\u0436\\u043b\\u0438\\u0432\\u0438\\u0439 \\u0437\\u043e\\u0432\\u043d\\u0456\\u0448\\u043d\\u0456\\u0439\", \"\\u0440\\u043d\\u0431\\u043e \\u043f\\u0435\\u0440\\u0448\\u0438\\u0439\", \"\\u0440\\u043d\\u0431\\u043e \\u043f\\u0435\\u0440\\u0448\\u0438\\u0439 \\u0447\\u0435\\u0440\\u0433\\u0430\", \"\\u0440\\u043e\\u0437\\u0433\\u043b\\u044f\\u0434\\u0430\\u0442\\u0438 \\u043f\\u0438\\u0442\\u0430\\u043d\\u043d\\u044f \\u043c\\u043e\\u0436\\u043b\\u0438\\u0432\\u0438\\u0439\", \"\\u0447\\u0435\\u0440\\u0433\\u0430 \\u0440\\u043e\\u0437\\u0433\\u043b\\u044f\\u0434\\u0430\\u0442\\u0438\", \"\\u0447\\u0435\\u0440\\u0433\\u0430 \\u0440\\u043e\\u0437\\u0433\\u043b\\u044f\\u0434\\u0430\\u0442\\u0438 \\u043f\\u0438\\u0442\\u0430\\u043d\\u043d\\u044f\", \"\\u0434\\u043d\\u0456\\u0442\\u0438 \\u0441\\u043a\\u0430\\u0441\\u0443\\u0432\\u0430\\u0442\\u0438\", \"\\u0432\\u0438\\u0440\\u0456\\u0448\\u0438\\u0442\\u0438 \\u0437\\u043d\\u0430\\u0447\\u043d\\u043e\", \"\\u0432\\u0438\\u0440\\u0456\\u0448\\u0438\\u0442\\u0438 \\u0437\\u043d\\u0430\\u0447\\u043d\\u043e \\u043f\\u043e\\u0441\\u043b\\u0430\\u0431\\u0438\\u0442\\u0438\", \"\\u0434\\u0456\\u0437\\u043d\\u0430\\u0442\\u0438\\u0441\\u044f \\u043f\\u043e\\u0441\\u043b\\u0430\\u0431\\u043b\\u0435\\u043d\\u043d\\u044f\", \"\\u0434\\u0456\\u0437\\u043d\\u0430\\u0442\\u0438\\u0441\\u044f \\u043f\\u043e\\u0441\\u043b\\u0430\\u0431\\u043b\\u0435\\u043d\\u043d\\u044f \\u0445\\u043e\\u0434\\u0438\\u0442\\u0438\", \"\\u0437\\u043d\\u0430\\u0447\\u043d\\u043e \\u043f\\u043e\\u0441\\u043b\\u0430\\u0431\\u0438\\u0442\\u0438\", \"\\u0437\\u043d\\u0430\\u0447\\u043d\\u043e \\u043f\\u043e\\u0441\\u043b\\u0430\\u0431\\u0438\\u0442\\u0438 \\u0434\\u0456\\u0437\\u043d\\u0430\\u0442\\u0438\\u0441\\u044f\", \"\\u043a\\u0430\\u0431\\u043c\\u0456\\u043d \\u0432\\u0438\\u0440\\u0456\\u0448\\u0438\\u0442\\u0438\", \"\\u0445\\u043e\\u0434\\u0438\\u0442\\u0438 \\u043c\\u0430\\u0441\\u043a\\u0430\", \"\\u0432\\u0456\\u0434\\u0441\\u0442\\u0430\\u0432\\u043a\\u0430\", \"\\u0441\\u0435\\u043d\\u044c\\u0439\\u043e\\u0440\", \"\\u043a\\u0456\\u043f\\u0440\", \"\\u043f\\u043e\\u043c\\u0435\\u0440\\u0442\\u0438 \\u0443\\u043a\\u0440\\u0430\\u0457\\u043d\\u0435\\u0446\\u044c\", \"\\u043e\\u043b\\u0435\\u043a\\u0441\\u0456\\u0439\", \"\\u043f\\u0440\\u043e\\u0432\\u0430\\u043b\\u0438\\u0442\\u0438\", \"\\u0434\\u0435\\u0442\\u0430\\u043b\\u044c\", \"\\u0437\\u043e\\u0432\\u043d\\u0456\\u0448\\u043d\\u0456\\u0439\", \"\\u0445\\u043e\\u0434\\u0438\\u0442\\u0438\", \"\\u043c\\u0430\\u0441\\u043a\\u0430\", \"\\u043a\\u0430\\u0431\\u043c\\u0456\\u043d\", \"\\u0447\\u0438\\u0442\\u0430\\u0442\\u0438\", \"\\u043e\\u0431\\u043c\\u0435\\u0436\\u0443\\u0432\\u0430\\u0442\\u0438 \\u0443\\u043a\\u0440\\u0430\\u0457\\u043d\\u0435\\u0446\\u044c\", \"\\u043e\\u0431\\u043c\\u0435\\u0436\\u0443\\u0432\\u0430\\u0442\\u0438 \\u0443\\u043a\\u0440\\u0430\\u0457\\u043d\\u0435\\u0446\\u044c \\u0432\\u0438\\u0457\\u0437\\u0434\", \"\\u0443\\u043a\\u0440\\u0430\\u0457\\u043d\\u0435\\u0446\\u044c \\u0432\\u0438\\u0457\\u0437\\u0434\", \"\\u0443\\u0445\\u0432\\u0430\\u043b\\u0438\\u0442\\u0438 \\u0440\\u0456\\u0448\\u0435\\u043d\\u043d\\u044f \\u043f\\u043e\\u0441\\u043b\\u0430\\u0431\\u043b\\u0435\\u043d\\u043d\\u044f\", \"\\u0440\\u0456\\u0448\\u0435\\u043d\\u043d\\u044f \\u043f\\u043e\\u0441\\u043b\\u0430\\u0431\\u043b\\u0435\\u043d\\u043d\\u044f\", \"3fla6wv\", \"\\u0434\\u0456\\u0437\\u043d\\u0430\\u0442\\u0438\\u0441\\u044f \\u043f\\u0440\\u0430\\u0432\\u0438\\u043b\\u043e\", \"\\u0434\\u0456\\u0437\\u043d\\u0430\\u0442\\u0438\\u0441\\u044f \\u043f\\u0440\\u0430\\u0432\\u0438\\u043b\\u043e \\u043f\\u0435\\u0440\\u0435\\u0432\\u0456\\u0440\\u0438\\u0442\\u0438\", \"\\u043f\\u0435\\u0440\\u0435\\u0432\\u0456\\u0440\\u0438\\u0442\\u0438 3fla6wv\", \"\\u043f\\u043e\\u0441\\u043b\\u0430\\u0431\\u043b\\u0435\\u043d\\u043d\\u044f \\u0434\\u0456\\u0437\\u043d\\u0430\\u0442\\u0438\\u0441\\u044f\", \"\\u043f\\u043e\\u0441\\u043b\\u0430\\u0431\\u043b\\u0435\\u043d\\u043d\\u044f \\u0434\\u0456\\u0437\\u043d\\u0430\\u0442\\u0438\\u0441\\u044f \\u043f\\u0440\\u0430\\u0432\\u0438\\u043b\\u043e\", \"\\u043f\\u0440\\u0430\\u0432\\u0438\\u043b\\u043e \\u043f\\u0435\\u0440\\u0435\\u0432\\u0456\\u0440\\u0438\\u0442\\u0438\", \"\\u043f\\u0440\\u0430\\u0432\\u0438\\u043b\\u043e \\u043f\\u0435\\u0440\\u0435\\u0432\\u0456\\u0440\\u0438\\u0442\\u0438 3fla6wv\", \"\\u0440\\u0456\\u0448\\u0435\\u043d\\u043d\\u044f \\u043f\\u043e\\u0441\\u043b\\u0430\\u0431\\u043b\\u0435\\u043d\\u043d\\u044f \\u0434\\u0456\\u0437\\u043d\\u0430\\u0442\\u0438\\u0441\\u044f\", \"\\u0456\\u043c\\u0456\\u0442\\u0443\\u0432\\u0430\\u0442\\u0438\", \"\\u0447\\u0438\\u0442\\u0430\\u0442\\u0438 \\u0443\\u0432\\u0430\\u0436\\u043d\\u043e\", \"\\u0446\\u0456\\u043d\\u0430 \\u0437\\u043c\\u0456\\u043d\\u0438\\u0442\\u0438\", \"\\u043f\\u0456\\u0441\\u043e\\u0447\\u0438\\u043d\\u0441\\u044c\\u043a\\u0438\\u0439\", \"\\u043f\\u0456\\u0441\\u043e\\u0447\\u0438\\u043d\\u0441\\u044c\\u043a\\u0438\\u0439 \\u0441\\u0435\\u043b\\u0438\\u0449\\u043d\\u0438\\u0439\", \"\\u0434\\u043e\\u043f\\u043e\\u043c\\u043e\\u0433\\u0430 \\u0440\\u043e\\u0431\\u043e\\u0442\\u043e\\u0434\\u0430\\u0432\\u0435\\u0446\\u044c\", \"\\u0435\\u043f\\u043e\\u043f\\u0435\\u044f\", \"\\u043f\\u0435\\u0440\\u0435\\u043a\\u043b\\u0430\\u0434\", \"\\u043c\\u0430\\u0442\\u0435\\u0440\\u0456\\u0430\\u043b\\u044c\\u043d\\u0438\\u0439 \\u0434\\u043e\\u043f\\u043e\\u043c\\u043e\\u0433\\u0430 \\u0440\\u043e\\u0431\\u043e\\u0442\\u043e\\u0434\\u0430\\u0432\\u0435\\u0446\\u044c\", \"\\u043f\\u0438\\u0442\\u0430\\u043d\\u043d\\u044f \\u0442\\u0435\\u0445\\u043d\\u043e\\u0433\\u0435\\u043d\\u043d\\u043e\", \"\\u0442\\u0435\\u0445\\u043d\\u043e\\u0433\\u0435\\u043d\\u043d\\u043e \\u0435\\u043a\\u043e\\u043b\\u043e\\u0433\\u0456\\u0447\\u043d\\u0438\\u0439\", \"\\u0442\\u0435\\u0445\\u043d\\u043e\\u0433\\u0435\\u043d\\u043d\\u043e \\u0435\\u043a\\u043e\\u043b\\u043e\\u0433\\u0456\\u0447\\u043d\\u0438\\u0439 \\u0431\\u0435\\u0437\\u043f\\u0435\\u043a\\u0430\", \"\\u0442\\u0435\\u0445\\u043d\\u043e\\u0433\\u0435\\u043d\\u043d\\u043e\", \"\\u043f\\u0438\\u0442\\u0430\\u043d\\u043d\\u044f \\u0442\\u0435\\u0445\\u043d\\u043e\\u0433\\u0435\\u043d\\u043d\\u043e \\u0435\\u043a\\u043e\\u043b\\u043e\\u0433\\u0456\\u0447\\u043d\\u0438\\u0439\", \"\\u0443\\u043c\\u043e\\u0432\\u0430 \\u0432\\u0438\\u043a\\u043e\\u043d\\u0430\\u043d\\u043d\\u044f\", \"\\u0431\\u0430\\u043c\\u043f\\u0435\\u0440\", \"\\u043f\\u0435\\u0440\\u0435\\u0432\\u0456\\u0440\\u0438\\u0442\\u0438\", \"\\u0432\\u0438\\u0457\\u0437\\u0434\", \"\\u0443\\u0445\\u0432\\u0430\\u043b\\u0438\\u0442\\u0438 \\u0440\\u0456\\u0448\\u0435\\u043d\\u043d\\u044f\", \"\\u043e\\u0431\\u043c\\u0435\\u0436\\u0443\\u0432\\u0430\\u0442\\u0438\", \"\\u0434\\u0456\\u0437\\u043d\\u0430\\u0442\\u0438\\u0441\\u044f\", \"\\u0441\\u0446\\u0443\\u043a\\u0430\", \"\\u0443\\u0445\\u0432\\u0430\\u043b\\u0438\\u0442\\u0438\", \"\\u043f\\u043e\\u0441\\u043b\\u0430\\u0431\\u043b\\u0435\\u043d\\u043d\\u044f\", \"\\u043f\\u0440\\u0430\\u0432\\u0438\\u043b\\u043e\", \"\\u0440\\u0456\\u0448\\u0435\\u043d\\u043d\\u044f\", \"\\u0443\\u043a\\u0440\\u0430\\u0457\\u043d\\u0435\\u0446\\u044c\", \"\\u0437\\u0435\\u043b\\u0435\\u043d\\u044c\", \"\\u043f\\u043e\\u0432\\u0456\\u0434\\u043e\\u043c\\u043b\\u044f\\u0442\\u0438\"], \"Freq\": [7.0, 28.0, 16.0, 8.0, 8.0, 3.0, 21.0, 4.0, 21.0, 21.0, 15.0, 6.0, 19.0, 2.0, 18.0, 12.0, 8.0, 17.0, 15.0, 15.0, 17.0, 14.0, 13.0, 10.0, 3.0, 17.0, 13.0, 2.0, 17.0, 16.0, 20.98415687205152, 20.932157705369868, 17.896829070946033, 16.857311239444574, 16.682501419106796, 27.82778389897941, 12.328243146615591, 12.084308936171626, 11.352952495799268, 11.224620301272704, 15.966214478848167, 10.895886547387821, 10.802195817107856, 10.592257518464407, 10.549339753168999, 10.472862649176843, 14.889875430414971, 19.552861668024306, 13.136700080543662, 9.756263699217977, 9.694081008049102, 9.650374097174065, 16.77998543982429, 9.105754731833674, 9.053581268575732, 8.923840763815967, 8.917841471077955, 8.869169822109942, 12.634344806146915, 8.647184882644629, 16.877709408339204, 15.542206481593139, 15.142669238883196, 15.655084987344697, 11.370924600253694, 20.56887707646729, 17.397641463435118, 14.462004416489005, 12.931031072425926, 13.261459890837036, 12.182136910474656, 12.876411475573653, 15.030019973232294, 12.559989920415157, 14.008075007212545, 15.72172953112716, 18.686173017495925, 16.02934684633939, 1.1239888262818922, 1.1239888262818922, 1.2484468053491662, 1.0850686661155264, 1.0088290845656298, 1.0841810986017508, 0.8604595331834851, 1.1260505845526967, 0.8760581336290441, 0.8996006160628651, 0.7612939245608805, 0.759318750584609, 0.7453779065522128, 0.9393517598135214, 0.7988215710416484, 0.8360120469551512, 0.6639840875718981, 0.6614500258952851, 0.6959168737112651, 0.6522188136681046, 0.6441418628756211, 0.6639651450980969, 0.734434686106543, 0.9837280334174483, 0.6017321478265306, 0.5996212149030306, 1.0858474759433732, 0.6323739204359629, 0.6494651566109614, 0.7672904167578122, 0.9734186970114352, 0.7533279143413244, 0.8201257097799785, 0.7949940909251859, 0.7652766711254211, 0.7503502769241741, 0.7462611287563574, 0.8319148597462589, 0.780285817403559, 0.9637830497259458, 0.8714259652209662, 0.8273067383804354, 0.7843257334458932, 0.7714671700045143, 0.755069952074454, 0.6089497089193121, 0.6089497089193121, 0.6089497089193121, 0.6089497089193121, 0.6089497089193121, 0.6089497089193121, 0.6089497089193121, 0.6089497089193121, 0.6089497089193121, 0.6089497089193121, 0.6089497089193121, 0.6089497089193121, 0.6089497089193121, 0.6089497089193121, 0.3985702587169936, 0.3985702587169936, 0.3985702587169936, 0.3985702587169936, 0.33337994351455547, 0.33337994351455547, 0.33337994351455547, 0.3309319048985391, 0.292093284860226, 0.29049491482983286, 0.2803638821926734, 0.2803638821926734, 0.2805099383947363, 0.27128189507829514, 0.2695351607518597, 0.2695351607518597, 0.41686961615106133, 0.5768455902046643, 0.312093386046758, 0.392333559852714, 0.4585278294413539, 0.4040911501895345, 0.4040521297172764, 0.40824643364867935, 0.3404625577741425, 0.35300808412177853, 0.35270960933591483, 0.5031801817302771, 0.5031801817302771, 0.5031801817302771, 0.5031801817302771, 0.5031801817302771, 0.5031801817302771, 0.44964023542709414, 0.43628309793560155, 0.4134704714815371, 0.4123763040289933, 0.4123763040289933, 0.4930969502709535, 0.4848023301179033, 0.811704711699668, 0.37110820993270177, 0.37110820993270177, 0.37110820993270177, 0.37110820993270177, 0.37110820993270177, 0.37110820993270177, 0.37110820993270177, 0.3358881549702172, 0.5284464401101934, 0.3547513089876733, 0.48244516429758555, 0.3051193514925776, 0.29799621995406267, 0.3363914662103116, 0.29390871120023715, 0.2900631150506534, 0.42096168351821267, 0.35149716037954953, 0.4210575236065499, 0.9720897700118024, 0.4235250835627435, 0.45187250010273133, 0.4245932518064193, 0.3905557598490431, 0.5846941812912267, 0.4366469619604482, 0.3816854769506684, 0.3816854769506684, 0.3816854769506684, 0.3816854769506684, 0.3816854769506684, 0.3816854769506684, 0.3816854769506684, 0.370027174211317, 0.370027174211317, 0.3643409610190722, 0.36382987754962043, 0.3598263184566689, 0.40912139667553077, 0.3531811186815417, 0.3487458230015806, 0.3487458230015806, 0.33852207949273666, 0.33852207949273666, 0.33261480622311485, 0.33257097750060877, 0.3243256636772375, 0.3243256636772375, 0.3243256636772375, 0.3243256636772375, 0.3209916989931469, 0.3209916989931469, 0.3209916989931469, 0.3191560704795837, 0.3989602564882186, 0.5405170769252636, 0.3864629776141437, 0.5094071896851766, 1.301259842690988, 0.3760710376153822, 0.3377936794550745, 0.9314951812571953, 0.5234370534595764, 0.3590654171952836, 0.5017736234760592, 0.4970294893987537, 0.8228076163296578, 0.37745691226072114, 0.4550655953851071, 0.542580994589886, 0.4414859375519309, 0.4024308133455923, 0.4589617402555961, 0.4215288825133614, 0.42275390062696355, 0.40380648994436064, 0.4070457657701834, 0.3824270415124606, 0.3818262062078299, 0.3818262059548667, 0.3973020895307478, 0.381069881594339, 0.381069881594339, 0.2694895502709786, 0.24264498666350742, 0.2379505529513722, 0.20516279101256155, 0.19298048693997996, 0.19298048693997996, 0.19298048693997996, 0.19298048693997996, 0.19298048693997996, 0.19298048693997996, 0.19298048693997996, 0.19298048693997996, 0.19298048693997996, 0.19298048693997996, 0.19298048693997996, 0.19298048693997996, 0.19298048693997996, 0.19062465456600766, 0.20838831398074653, 0.20636797008004118, 0.17245343233054033, 0.17245343233054033, 0.17245343233054033, 0.16843768618505517, 0.16659164360402057, 0.16278582532884311, 0.16278582532884311, 0.3189660649071369, 0.28363358450264636, 0.3425424900362785, 0.3545689251699084, 0.22655464852022691, 0.256806919913071, 0.1869026932964438, 0.22258936206443608, 0.6718538269392583, 0.27338172522829923, 0.2110205584088408, 0.2504033831649298, 0.20822369965165344, 0.22893489246996315, 0.20362812368649366, 0.19704121081425957, 0.38053165761480723, 0.3779563829928049, 0.3672176657987306, 0.3532939504865078, 0.3532939504865078, 0.3532939504865078, 0.3532939504865078, 0.3532939504865078, 0.3532939504865078, 0.3532939504865078, 0.3532939504865078, 0.3532939504865078, 0.3532939504865078, 0.3532939504865078, 0.3532939504865078, 0.3532939504865078, 0.3532939504865078, 0.3532939504865078, 0.3532939504865078, 0.3532939504865078, 0.3532939504865078, 0.3532939504865078, 0.3532939504865078, 0.3532939504865078, 0.3532939504865078, 0.3532939504865078, 0.3532939504865078, 0.3532939504865078, 0.3532939504865078, 0.3532939504865078, 0.5801155548926732, 0.48490133249278833, 0.3672547403080437, 0.3911142321281526, 0.35364261722635, 0.4381112935165895, 0.35609691544034056, 0.3359710661582384, 0.3359710661582384, 0.3359710661582384, 0.3359710661582384, 0.3281336246299833, 0.27581505639930276, 0.27581505639930276, 0.27581505639930276, 0.20271404221737774, 0.20271404221737774, 0.19842209570350014, 0.19842209570350014, 0.19842209570350014, 0.19842209570350014, 0.19842209570350014, 0.19842209570350014, 0.19842209570350014, 0.19842209570350014, 0.19842209570350014, 0.19842209570350014, 0.19824591207201292, 0.19560749647410555, 0.19560749647410555, 0.19560749647410555, 0.19560749647410555, 0.19560749647410555, 0.19560749647410555, 0.19560749647410555, 0.2902306906613848, 0.40465428178826124, 0.21190326749764007, 0.31557292618918825, 0.23363959136065568, 0.28089606068202017, 0.26202753061632583, 0.25394397904760124, 0.23058158126733483, 0.23442076441224644, 0.2465684025722371, 0.21962897386628275, 0.2133832691525289, 0.5099848746821772, 0.5099848746821772, 0.5099848746821772, 0.5053117888919505, 0.4952850643517152, 0.4458923393093963, 0.4458923393093963, 0.4458923393093963, 0.4458923393093963, 0.4458923393093963, 0.4458923393093963, 0.4458923393093963, 0.4458923393093963, 0.4458923393093963, 0.21263185734289528, 0.1864317149192994, 0.16835234055484183, 0.13752795104478863, 0.13752795104478863, 0.13245804326605481, 0.1633922352708133, 0.2616475162489095, 0.11530290448083265, 0.11456153170044436, 0.11456153170044424, 0.11456153170044421, 0.11456153170044388, 0.11456153170044361, 0.12210589232775458, 0.10795233803345261, 0.3937624402209905, 0.43196274751038877, 0.41685012218776224, 0.3770676085320982, 0.32605840917246826, 0.14924342942446744, 0.32518114606834897, 0.33684134176957947, 0.26369519854342255, 0.23598651658827638, 0.23769432569870674, 0.16573620553147925, 0.16345380388174413], \"Total\": [7.0, 28.0, 16.0, 8.0, 8.0, 3.0, 21.0, 4.0, 21.0, 21.0, 15.0, 6.0, 19.0, 2.0, 18.0, 12.0, 8.0, 17.0, 15.0, 15.0, 17.0, 14.0, 13.0, 10.0, 3.0, 17.0, 13.0, 2.0, 17.0, 16.0, 21.167110806720633, 21.13574133943408, 18.07978512673338, 17.040275367120966, 16.907012037585453, 28.206916457099837, 12.511196942558394, 12.267270450985063, 11.535895804605817, 11.407573181653573, 16.227906739163302, 11.078852065886013, 10.985156387464317, 10.775226052857228, 10.732280533507941, 10.65581175504731, 15.15245485603089, 19.90251326627288, 13.37188768875367, 9.939215208401464, 9.8770477971922, 9.833340499098636, 17.11453093246606, 9.288704121030724, 9.236560053055777, 9.106798684510409, 9.100804345252747, 9.052113038234497, 12.897491415957669, 8.830116861977451, 17.260171462442052, 15.888682663828575, 15.497668376179067, 16.045944956684753, 11.62167010883045, 21.197192798715, 17.87692215069856, 14.82523859857098, 13.258544377302739, 13.626555847162045, 12.488196328007628, 13.264697877793797, 15.648238717991536, 12.922582216818586, 14.57026716158933, 16.560464006267466, 20.196554840959234, 17.130472384786426, 1.3481308322027907, 1.3481308322027907, 1.5022690217526902, 1.309387302304196, 1.267744191812183, 1.3628741133799347, 1.084955165890507, 1.4344654966441208, 1.126241893852082, 1.1599971885315754, 0.9855478873096005, 0.9837688704156695, 0.9697289065120354, 1.2236758736960611, 1.0468954763552532, 1.109987399105043, 0.8881657780680979, 0.885920181070646, 0.9336011077944011, 0.8768740349631781, 0.8683944341110271, 0.9059614119095638, 1.0067053604241283, 1.3494312106450657, 0.8260491240547767, 0.8239905882103951, 1.4933327463276247, 0.8711610380867109, 0.8986183643015072, 1.0678020476093855, 1.3573876393281759, 1.0667294463553605, 1.1866083018562614, 1.1565509197906376, 1.1271494493173542, 1.0966341736152052, 1.102842434858158, 1.3437757540060333, 1.2282238038221422, 3.10848273396274, 3.82609679588277, 5.006022429018955, 3.8715852896632916, 20.196554840959234, 4.598967235077534, 0.844100545180698, 0.844100545180698, 0.844100545180698, 0.844100545180698, 0.844100545180698, 0.844100545180698, 0.844100545180698, 0.844100545180698, 0.844100545180698, 0.844100545180698, 0.844100545180698, 0.844100545180698, 0.844100545180698, 0.844100545180698, 0.6337204814475005, 0.6337204814475005, 0.6337204814475005, 0.6337204814475005, 0.5685319609688608, 0.5685319609688608, 0.5685319609688608, 0.5663843151424152, 0.5272469724514403, 0.5257131735052493, 0.5160656190687833, 0.5160656190687833, 0.5202929077594651, 0.5069513304713801, 0.5046762414175897, 0.5046762414175897, 0.7828382952504922, 1.1390729215851325, 0.6442155458513792, 1.1345544847675604, 1.7948513869562004, 2.0924953334566463, 3.735931252972924, 4.452178863101182, 1.7023094675815034, 3.4590269925335733, 7.5563294463276325, 0.7389576363892537, 0.7389576363892537, 0.7389576363892537, 0.7389576363892537, 0.7389576363892537, 0.7389576363892537, 0.6865204174862728, 0.6720994576967292, 0.6492759249518255, 0.6481861398382777, 0.6481861398382777, 0.7758013148327789, 0.7680114679592358, 1.3078786389224866, 0.606885664960236, 0.606885664960236, 0.606885664960236, 0.606885664960236, 0.606885664960236, 0.606885664960236, 0.606885664960236, 0.5719139567539482, 0.9053108021581951, 0.6114534079319823, 0.844114180161832, 0.5411153168330455, 0.5337736717299014, 0.6053694272400456, 0.5321457735338196, 0.5259093984748572, 0.8460763626537775, 0.7371160184204545, 1.1126030119973118, 7.900482367905036, 1.2656404298137656, 7.272114235158887, 8.146642488954424, 20.196554840959234, 0.8206421844489977, 0.6725891008734005, 0.6176168879296261, 0.6176168879296261, 0.6176168879296261, 0.6176168879296261, 0.6176168879296261, 0.6176168879296261, 0.6176168879296261, 0.605992244810194, 0.605992244810194, 0.6002702371588295, 0.5997606949589259, 0.5958662848086993, 0.6815237745424295, 0.589300993204576, 0.5847820622627609, 0.5847820622627609, 0.5744905998259016, 0.5744905998259016, 0.5685425501478661, 0.5692562982057773, 0.5602587495399284, 0.5602587495399284, 0.5602587495399284, 0.5602587495399284, 0.5569415695535878, 0.5569415695535878, 0.5569415695535878, 0.5550840044127391, 0.7018093554596257, 0.9975392283115467, 0.6938918302423774, 0.9986313083441568, 3.330611335808318, 0.6814323209803137, 0.596100756098722, 2.8621754926856604, 1.1953345385479068, 0.6718757398294615, 1.6425988963652818, 1.673653084894247, 8.146642488954424, 0.8956927924756679, 2.8015524094714075, 10.406136947491456, 3.4099072677265205, 1.9208094240639597, 15.648238717991536, 4.811615323363421, 5.8078221100134755, 3.2040061061568705, 21.197192798715, 2.696983517232961, 2.714994467135316, 2.7149944677017013, 0.6350747829346706, 0.6182235380450982, 0.6182235380450982, 0.5066739365564704, 0.47980265659292687, 0.4751415886131298, 0.44546516044398743, 0.4301540630823888, 0.4301540630823888, 0.4301540630823888, 0.4301540630823888, 0.4301540630823888, 0.4301540630823888, 0.4301540630823888, 0.4301540630823888, 0.4301540630823888, 0.4301540630823888, 0.4301540630823888, 0.4301540630823888, 0.4301540630823888, 0.4278751469543565, 0.4688416893102488, 0.48291140522954856, 0.4096156803859563, 0.4096156803859563, 0.4096156803859563, 0.40561225199575995, 0.40375161233397877, 0.4008546138271402, 0.4008546138271402, 0.7902784512651103, 0.7349999730330401, 1.0225007349821493, 1.1046532448166133, 0.6091001976161023, 0.7443807696106213, 0.47266628673280464, 0.6479966783573328, 8.21272405437771, 1.0639867034826844, 0.6289470255492885, 1.4191896544363345, 0.6583560915657813, 1.2635294008427285, 0.6603238931530111, 0.548143433300895, 0.6218977518116059, 0.6224632889353373, 0.6151085660103075, 0.594409427938522, 0.594409427938522, 0.594409427938522, 0.594409427938522, 0.594409427938522, 0.594409427938522, 0.594409427938522, 0.594409427938522, 0.594409427938522, 0.594409427938522, 0.594409427938522, 0.594409427938522, 0.594409427938522, 0.594409427938522, 0.594409427938522, 0.594409427938522, 0.594409427938522, 0.594409427938522, 0.594409427938522, 0.594409427938522, 0.594409427938522, 0.594409427938522, 0.594409427938522, 0.594409427938522, 0.594409427938522, 0.594409427938522, 0.594409427938522, 4.2970189397862395, 2.317611234316316, 1.0379045104028388, 16.560464006267466, 0.6177403320440933, 0.7184005757531041, 0.5977828762093886, 0.5773813090514458, 0.5773813090514458, 0.5773813090514458, 0.5773813090514458, 0.5695591843253615, 0.5172252994822694, 0.5172252994822694, 0.5172252994822694, 0.44424533685993617, 0.44424533685993617, 0.43983233697697266, 0.43983233697697266, 0.43983233697697266, 0.43983233697697266, 0.43983233697697266, 0.43983233697697266, 0.43983233697697266, 0.43983233697697266, 0.43983233697697266, 0.43983233697697266, 0.4396697203611568, 0.4370177396207456, 0.4370177396207456, 0.4370177396207456, 0.4370177396207456, 0.4370177396207456, 0.4370177396207456, 0.4370177396207456, 1.0802855911446931, 2.6644345303270813, 0.5443821318216077, 2.2550817301100943, 0.8707112744299061, 2.184524963021702, 2.871013920445777, 2.9956838047649663, 2.5616052611723577, 3.890008235048852, 16.560464006267466, 5.848264277660888, 8.632732781499463, 0.7532553140098979, 0.7532553140098979, 0.7532553140098979, 0.7488075437743287, 0.7599985858149005, 0.6891627759450906, 0.6891627759450906, 0.6891627759450906, 0.6891627759450906, 0.6891627759450906, 0.6891627759450906, 0.6891627759450906, 0.6891627759450906, 0.6891627759450906, 0.48327315370801516, 0.4329778995880719, 0.4345804719897453, 0.3808053063520437, 0.3808053063520437, 0.3757462203858537, 0.49115523996331967, 0.7928261951965897, 0.3585825940830004, 0.35895345273911555, 0.358953452739116, 0.35895345273911616, 0.3589534527391174, 0.3589534527391183, 0.3943800660399356, 0.3512371644205422, 1.6680570199884726, 1.8882208134817504, 1.9594541856106211, 2.5985048585690924, 2.335201579439795, 0.6091001976161023, 3.9906902294274706, 6.844715178093884, 8.679678003138216, 12.257376105558842, 17.130472384786426, 1.6182253212232116, 2.561706955265941], \"Category\": [\"Default\", \"Default\", \"Default\", \"Default\", \"Default\", \"Default\", \"Default\", \"Default\", \"Default\", \"Default\", \"Default\", \"Default\", \"Default\", \"Default\", \"Default\", \"Default\", \"Default\", \"Default\", \"Default\", \"Default\", \"Default\", \"Default\", \"Default\", \"Default\", \"Default\", \"Default\", \"Default\", \"Default\", \"Default\", \"Default\", \"Topic1\", \"Topic1\", \"Topic1\", \"Topic1\", \"Topic1\", \"Topic1\", \"Topic1\", \"Topic1\", \"Topic1\", \"Topic1\", \"Topic1\", \"Topic1\", \"Topic1\", \"Topic1\", \"Topic1\", \"Topic1\", \"Topic1\", \"Topic1\", \"Topic1\", \"Topic1\", \"Topic1\", \"Topic1\", \"Topic1\", \"Topic1\", \"Topic1\", \"Topic1\", \"Topic1\", \"Topic1\", \"Topic1\", \"Topic1\", \"Topic1\", \"Topic1\", \"Topic1\", \"Topic1\", \"Topic1\", \"Topic1\", \"Topic1\", \"Topic1\", \"Topic1\", \"Topic1\", \"Topic1\", \"Topic1\", \"Topic1\", \"Topic1\", \"Topic1\", \"Topic1\", \"Topic1\", \"Topic1\", \"Topic2\", \"Topic2\", \"Topic2\", \"Topic2\", \"Topic2\", \"Topic2\", \"Topic2\", \"Topic2\", \"Topic2\", \"Topic2\", \"Topic2\", \"Topic2\", \"Topic2\", \"Topic2\", \"Topic2\", \"Topic2\", \"Topic2\", \"Topic2\", \"Topic2\", \"Topic2\", \"Topic2\", \"Topic2\", \"Topic2\", \"Topic2\", \"Topic2\", \"Topic2\", \"Topic2\", \"Topic2\", \"Topic2\", \"Topic2\", \"Topic2\", \"Topic2\", \"Topic2\", \"Topic2\", \"Topic2\", \"Topic2\", \"Topic2\", \"Topic2\", \"Topic2\", \"Topic2\", \"Topic2\", \"Topic2\", \"Topic2\", \"Topic2\", \"Topic2\", \"Topic3\", \"Topic3\", \"Topic3\", \"Topic3\", \"Topic3\", \"Topic3\", \"Topic3\", \"Topic3\", \"Topic3\", \"Topic3\", \"Topic3\", \"Topic3\", \"Topic3\", \"Topic3\", \"Topic3\", \"Topic3\", \"Topic3\", \"Topic3\", \"Topic3\", \"Topic3\", \"Topic3\", \"Topic3\", \"Topic3\", \"Topic3\", \"Topic3\", \"Topic3\", \"Topic3\", \"Topic3\", \"Topic3\", \"Topic3\", \"Topic3\", \"Topic3\", \"Topic3\", \"Topic3\", \"Topic3\", \"Topic3\", \"Topic3\", \"Topic3\", \"Topic3\", \"Topic3\", \"Topic3\", \"Topic4\", \"Topic4\", \"Topic4\", \"Topic4\", \"Topic4\", \"Topic4\", \"Topic4\", \"Topic4\", \"Topic4\", \"Topic4\", \"Topic4\", \"Topic4\", \"Topic4\", \"Topic4\", \"Topic4\", \"Topic4\", \"Topic4\", \"Topic4\", \"Topic4\", \"Topic4\", \"Topic4\", \"Topic4\", \"Topic4\", \"Topic4\", \"Topic4\", \"Topic4\", \"Topic4\", \"Topic4\", \"Topic4\", \"Topic4\", \"Topic4\", \"Topic4\", \"Topic4\", \"Topic4\", \"Topic4\", \"Topic4\", \"Topic4\", \"Topic4\", \"Topic5\", \"Topic5\", \"Topic5\", \"Topic5\", \"Topic5\", \"Topic5\", \"Topic5\", \"Topic5\", \"Topic5\", \"Topic5\", \"Topic5\", \"Topic5\", \"Topic5\", \"Topic5\", \"Topic5\", \"Topic5\", \"Topic5\", \"Topic5\", \"Topic5\", \"Topic5\", \"Topic5\", \"Topic5\", \"Topic5\", \"Topic5\", \"Topic5\", \"Topic5\", \"Topic5\", \"Topic5\", \"Topic5\", \"Topic5\", \"Topic5\", \"Topic5\", \"Topic5\", \"Topic5\", \"Topic5\", \"Topic5\", \"Topic5\", \"Topic5\", \"Topic5\", \"Topic5\", \"Topic5\", \"Topic5\", \"Topic5\", \"Topic5\", \"Topic5\", \"Topic5\", \"Topic5\", \"Topic5\", \"Topic5\", \"Topic5\", \"Topic5\", \"Topic5\", \"Topic5\", \"Topic5\", \"Topic5\", \"Topic5\", \"Topic6\", \"Topic6\", \"Topic6\", \"Topic6\", \"Topic6\", \"Topic6\", \"Topic6\", \"Topic6\", \"Topic6\", \"Topic6\", \"Topic6\", \"Topic6\", \"Topic6\", \"Topic6\", \"Topic6\", \"Topic6\", \"Topic6\", \"Topic6\", \"Topic6\", \"Topic6\", \"Topic6\", \"Topic6\", \"Topic6\", \"Topic6\", \"Topic6\", \"Topic6\", \"Topic6\", \"Topic6\", \"Topic6\", \"Topic6\", \"Topic6\", \"Topic6\", \"Topic6\", \"Topic6\", \"Topic6\", \"Topic6\", \"Topic6\", \"Topic6\", \"Topic6\", \"Topic6\", \"Topic6\", \"Topic6\", \"Topic6\", \"Topic6\", \"Topic6\", \"Topic6\", \"Topic7\", \"Topic7\", \"Topic7\", \"Topic7\", \"Topic7\", \"Topic7\", \"Topic7\", \"Topic7\", \"Topic7\", \"Topic7\", \"Topic7\", \"Topic7\", \"Topic7\", \"Topic7\", \"Topic7\", \"Topic7\", \"Topic7\", \"Topic7\", \"Topic7\", \"Topic7\", \"Topic7\", \"Topic7\", \"Topic7\", \"Topic7\", \"Topic7\", \"Topic7\", \"Topic7\", \"Topic7\", \"Topic7\", \"Topic7\", \"Topic7\", \"Topic7\", \"Topic7\", \"Topic7\", \"Topic7\", \"Topic8\", \"Topic8\", \"Topic8\", \"Topic8\", \"Topic8\", \"Topic8\", \"Topic8\", \"Topic8\", \"Topic8\", \"Topic8\", \"Topic8\", \"Topic8\", \"Topic8\", \"Topic8\", \"Topic8\", \"Topic8\", \"Topic8\", \"Topic8\", \"Topic8\", \"Topic8\", \"Topic8\", \"Topic8\", \"Topic8\", \"Topic8\", \"Topic8\", \"Topic8\", \"Topic8\", \"Topic8\", \"Topic8\", \"Topic8\", \"Topic8\", \"Topic8\", \"Topic8\", \"Topic8\", \"Topic8\", \"Topic8\", \"Topic8\", \"Topic8\", \"Topic8\", \"Topic8\", \"Topic8\", \"Topic8\", \"Topic8\", \"Topic9\", \"Topic9\", \"Topic9\", \"Topic9\", \"Topic9\", \"Topic9\", \"Topic9\", \"Topic9\", \"Topic9\", \"Topic9\", \"Topic9\", \"Topic9\", \"Topic9\", \"Topic9\", \"Topic9\", \"Topic9\", \"Topic9\", \"Topic9\", \"Topic9\", \"Topic9\", \"Topic9\", \"Topic9\", \"Topic9\", \"Topic9\", \"Topic9\", \"Topic9\", \"Topic9\", \"Topic9\", \"Topic9\", \"Topic9\", \"Topic9\", \"Topic9\", \"Topic9\", \"Topic9\", \"Topic9\", \"Topic9\", \"Topic9\", \"Topic9\", \"Topic9\", \"Topic9\", \"Topic9\", \"Topic9\", \"Topic9\"], \"logprob\": [30.0, 29.0, 28.0, 27.0, 26.0, 25.0, 24.0, 23.0, 22.0, 21.0, 20.0, 19.0, 18.0, 17.0, 16.0, 15.0, 14.0, 13.0, 12.0, 11.0, 10.0, 9.0, 8.0, 7.0, 6.0, 5.0, 4.0, 3.0, 2.0, 1.0, -6.4961, -6.4986, -6.6552, -6.7151, -6.7255, -6.2138, -7.028, -7.0479, -7.1104, -7.1217, -6.7694, -7.1515, -7.1601, -7.1797, -7.1838, -7.1911, -6.8392, -6.5667, -6.9644, -7.2619, -7.2683, -7.2729, -6.7197, -7.3309, -7.3367, -7.3511, -7.3518, -7.3573, -7.0034, -7.3826, -6.7139, -6.7963, -6.8223, -6.7891, -7.1088, -6.5161, -6.6835, -6.8683, -6.9802, -6.955, -7.0399, -6.9845, -6.8298, -7.0093, -6.9002, -6.7848, -6.6121, -6.7654, -7.6136, -7.6136, -7.5086, -7.6488, -7.7217, -7.6496, -7.8808, -7.6118, -7.8628, -7.8363, -8.0032, -8.0058, -8.0243, -7.793, -7.9551, -7.9096, -8.14, -8.1438, -8.093, -8.1578, -8.1703, -8.14, -8.0391, -7.7469, -8.2384, -8.2419, -7.6481, -8.1887, -8.1621, -7.9954, -7.7574, -8.0137, -7.9288, -7.9599, -7.998, -8.0177, -8.0232, -7.9145, -7.9786, -7.7674, -7.8681, -7.9201, -7.9734, -7.9899, -8.0114, -7.6967, -7.6967, -7.6967, -7.6967, -7.6967, -7.6967, -7.6967, -7.6967, -7.6967, -7.6967, -7.6967, -7.6967, -7.6967, -7.6967, -8.1206, -8.1206, -8.1206, -8.1206, -8.2992, -8.2992, -8.2992, -8.3066, -8.4314, -8.4369, -8.4724, -8.4724, -8.4719, -8.5053, -8.5118, -8.5118, -8.0757, -7.7509, -8.3652, -8.1364, -7.9805, -8.1068, -8.1069, -8.0966, -8.2782, -8.242, -8.2428, -7.8605, -7.8605, -7.8605, -7.8605, -7.8605, -7.8605, -7.973, -8.0032, -8.0569, -8.0595, -8.0595, -7.8808, -7.8977, -7.3823, -8.165, -8.165, -8.165, -8.165, -8.165, -8.165, -8.165, -8.2647, -7.8115, -8.2101, -7.9026, -8.3608, -8.3844, -8.2632, -8.3982, -8.4114, -8.0389, -8.2193, -8.0387, -7.202, -8.0329, -7.9681, -8.0303, -8.1139, -7.6992, -7.9912, -8.1257, -8.1257, -8.1257, -8.1257, -8.1257, -8.1257, -8.1257, -8.1567, -8.1567, -8.1722, -8.1736, -8.1847, -8.0563, -8.2033, -8.216, -8.216, -8.2457, -8.2457, -8.2633, -8.2635, -8.2886, -8.2886, -8.2886, -8.2886, -8.2989, -8.2989, -8.2989, -8.3046, -8.0814, -7.7778, -8.1133, -7.8371, -6.8992, -8.1405, -8.2479, -7.2335, -7.8099, -8.1868, -7.8522, -7.8617, -7.3576, -8.1368, -7.9499, -7.774, -7.9802, -8.0728, -7.9413, -8.0264, -8.0235, -8.0694, -8.0614, -8.1238, -8.1253, -8.1253, -8.0122, -8.0539, -8.0539, -8.4004, -8.5053, -8.5248, -8.6731, -8.7343, -8.7343, -8.7343, -8.7343, -8.7343, -8.7343, -8.7343, -8.7343, -8.7343, -8.7343, -8.7343, -8.7343, -8.7343, -8.7466, -8.6575, -8.6672, -8.8468, -8.8468, -8.8468, -8.8703, -8.8813, -8.9044, -8.9044, -8.2318, -8.3492, -8.1605, -8.126, -8.5739, -8.4486, -8.7663, -8.5916, -7.4868, -8.386, -8.6449, -8.4738, -8.6583, -8.5634, -8.6806, -8.7135, -7.8185, -7.8253, -7.8541, -7.8928, -7.8928, -7.8928, -7.8928, -7.8928, -7.8928, -7.8928, -7.8928, -7.8928, -7.8928, -7.8928, -7.8928, -7.8928, -7.8928, -7.8928, -7.8928, -7.8928, -7.8928, -7.8928, -7.8928, -7.8928, -7.8928, -7.8928, -7.8928, -7.8928, -7.8928, -7.8928, -7.3969, -7.5761, -7.854, -7.7911, -7.8918, -7.6568, -7.8641, -7.9222, -7.9222, -7.9222, -7.9222, -7.9458, -8.1195, -8.1195, -8.1195, -8.4275, -8.4275, -8.4489, -8.4489, -8.4489, -8.4489, -8.4489, -8.4489, -8.4489, -8.4489, -8.4489, -8.4489, -8.4497, -8.4631, -8.4631, -8.4631, -8.4631, -8.4631, -8.4631, -8.4631, -8.0686, -7.7362, -8.3831, -7.9849, -8.2855, -8.1013, -8.1708, -8.2021, -8.2986, -8.2821, -8.2316, -8.3473, -8.3762, -7.3738, -7.3738, -7.3738, -7.383, -7.4031, -7.5081, -7.5081, -7.5081, -7.5081, -7.5081, -7.5081, -7.5081, -7.5081, -7.5081, -8.2486, -8.3801, -8.4821, -8.6844, -8.6844, -8.7219, -8.5121, -8.0412, -8.8606, -8.8671, -8.8671, -8.8671, -8.8671, -8.8671, -8.8033, -8.9265, -7.6325, -7.5399, -7.5755, -7.6758, -7.8211, -8.6026, -7.8238, -7.7886, -8.0334, -8.1444, -8.1372, -8.4978, -8.5117], \"loglift\": [30.0, 29.0, 28.0, 27.0, 26.0, 25.0, 24.0, 23.0, 22.0, 21.0, 20.0, 19.0, 18.0, 17.0, 16.0, 15.0, 14.0, 13.0, 12.0, 11.0, 10.0, 9.0, 8.0, 7.0, 6.0, 5.0, 4.0, 3.0, 2.0, 1.0, 0.5372, 0.5362, 0.5357, 0.5351, 0.5326, 0.5324, 0.5312, 0.5309, 0.5299, 0.5298, 0.5297, 0.5293, 0.5291, 0.5288, 0.5287, 0.5286, 0.5284, 0.5282, 0.5282, 0.5273, 0.5272, 0.5271, 0.5262, 0.526, 0.5259, 0.5256, 0.5256, 0.5255, 0.5253, 0.525, 0.5235, 0.5239, 0.5227, 0.5213, 0.5241, 0.5158, 0.5187, 0.5211, 0.5209, 0.5188, 0.5211, 0.5162, 0.5056, 0.5175, 0.5066, 0.4939, 0.4682, 0.4795, 2.1735, 2.1735, 2.1702, 2.1674, 2.1269, 2.1265, 2.1235, 2.1132, 2.1041, 2.1011, 2.0971, 2.0963, 2.0922, 2.0909, 2.0849, 2.0718, 2.0644, 2.0631, 2.0615, 2.0593, 2.0566, 2.0445, 2.04, 2.0392, 2.0385, 2.0374, 2.0367, 2.035, 2.0306, 2.0248, 2.0228, 2.0074, 1.9859, 1.9804, 1.9681, 1.9758, 1.9647, 1.8758, 1.9016, 1.1843, 0.8758, 0.5551, 0.7587, -0.9097, 0.5485, 2.5585, 2.5585, 2.5585, 2.5585, 2.5585, 2.5585, 2.5585, 2.5585, 2.5585, 2.5585, 2.5585, 2.5585, 2.5585, 2.5585, 2.4213, 2.4213, 2.4213, 2.4213, 2.3513, 2.3513, 2.3513, 2.3477, 2.2945, 2.2919, 2.2749, 2.2749, 2.2673, 2.2598, 2.2578, 2.2578, 2.2549, 2.2047, 2.1603, 1.8232, 1.5204, 1.2406, 0.6608, 0.4958, 1.2756, 0.6028, -0.1794, 2.5278, 2.5278, 2.5278, 2.5278, 2.5278, 2.5278, 2.4889, 2.4799, 2.4608, 2.4598, 2.4598, 2.4589, 2.452, 2.435, 2.4202, 2.4202, 2.4202, 2.4202, 2.4202, 2.4202, 2.4202, 2.3798, 2.3737, 2.3676, 2.3526, 2.3391, 2.3292, 2.3245, 2.3184, 2.317, 2.214, 2.1715, 1.9404, 0.8168, 1.8173, 0.1337, -0.0422, -1.0336, 2.5842, 2.4912, 2.442, 2.442, 2.442, 2.442, 2.442, 2.442, 2.442, 2.4299, 2.4299, 2.4239, 2.4234, 2.4188, 2.4129, 2.4113, 2.4063, 2.4063, 2.3943, 2.3943, 2.3871, 2.3857, 2.3766, 2.3766, 2.3766, 2.3766, 2.3722, 2.3722, 2.3722, 2.3698, 2.3584, 2.3105, 2.3379, 2.2501, 1.9834, 2.3288, 2.3552, 1.8007, 2.0975, 2.2967, 1.7373, 1.7091, 0.6306, 2.0591, 1.1057, -0.0306, 0.8789, 1.3602, -0.6059, 0.4883, 0.3031, 0.852, -1.0295, 0.9699, 0.9616, 0.9616, 2.5276, 2.5128, 2.5128, 2.3653, 2.3149, 2.3051, 2.2213, 2.1951, 2.1951, 2.1951, 2.1951, 2.1951, 2.1951, 2.1951, 2.1951, 2.1951, 2.1951, 2.1951, 2.1951, 2.1951, 2.1881, 2.1858, 2.1465, 2.1316, 2.1316, 2.1316, 2.1178, 2.1114, 2.0955, 2.0955, 2.0893, 2.0445, 1.903, 1.8603, 2.0077, 1.9324, 2.0688, 1.9281, 0.4933, 1.6377, 1.9046, 1.2619, 1.8455, 1.2884, 1.8202, 1.9735, 2.7422, 2.7345, 2.7176, 2.7132, 2.7132, 2.7132, 2.7132, 2.7132, 2.7132, 2.7132, 2.7132, 2.7132, 2.7132, 2.7132, 2.7132, 2.7132, 2.7132, 2.7132, 2.7132, 2.7132, 2.7132, 2.7132, 2.7132, 2.7132, 2.7132, 2.7132, 2.7132, 2.7132, 2.7132, 2.7132, 1.231, 1.6691, 2.1945, -0.5123, 2.6757, 2.7597, 2.7363, 2.7128, 2.7128, 2.7128, 2.7128, 2.7028, 2.6255, 2.6255, 2.6255, 2.4697, 2.4697, 2.4583, 2.4583, 2.4583, 2.4583, 2.4583, 2.4583, 2.4583, 2.4583, 2.4583, 2.4583, 2.4578, 2.4504, 2.4504, 2.4504, 2.4504, 2.4504, 2.4504, 2.4504, 1.94, 1.3696, 2.3108, 1.2877, 1.9387, 1.2031, 0.8603, 0.7865, 0.8465, 0.4452, -0.9529, -0.0277, -0.4459, 2.9953, 2.9953, 2.9953, 2.992, 2.9571, 2.9499, 2.9499, 2.9499, 2.9499, 2.9499, 2.9499, 2.9499, 2.9499, 2.9499, 2.5643, 2.5427, 2.437, 2.3669, 2.3669, 2.3427, 2.2847, 2.2767, 2.2507, 2.2432, 2.2432, 2.2432, 2.2432, 2.2432, 2.2129, 2.2056, 1.9417, 1.9103, 1.8376, 1.4551, 1.4165, 1.9789, 0.878, 0.3737, -0.1086, -0.5648, -0.8923, 1.1066, 0.6334]}, \"token.table\": {\"Topic\": [1, 5, 2, 1, 1, 1, 1, 2, 1, 1, 1, 1, 1, 2, 1, 1, 2, 1, 2, 3, 3, 3, 2, 2, 1, 2, 1, 5, 2, 2, 1, 1, 1, 1, 1, 1, 1, 3, 3, 1, 7, 5, 5, 1, 1, 1, 1, 1, 1, 1, 1, 1, 1, 1, 2, 1, 2, 1, 2, 2, 2, 1, 1, 2, 1, 1, 1, 1, 2, 1, 1, 5, 1, 1, 2, 1, 1, 1, 4, 4, 1, 2, 2, 1, 1, 5, 1, 2, 1, 1, 1, 9, 9, 1, 2, 1, 1, 4, 1, 2, 4, 4, 1, 3, 1, 1, 2, 1, 2, 1, 5, 1, 1, 1, 1, 1, 2, 1, 1, 3, 3, 1, 1, 1, 1, 1, 1, 1, 2, 2, 2, 2, 1, 4, 4, 1, 4, 1, 1, 5, 2, 1, 1, 2, 2, 3, 3, 3, 2, 4, 2, 1, 3, 1, 1, 1, 3, 3, 3, 1, 2, 2, 1, 1, 9, 1, 1, 2, 1, 1, 9, 2, 2, 1, 1, 2, 1, 1, 1, 2, 1, 1, 6, 2, 2, 1, 5, 2, 1, 1, 2], \"Freq\": [0.6004903599821001, 0.30024517999105005, 1.103799772103123, 0.9933079712837004, 0.993577640014887, 0.9509466929874002, 0.9535453671147189, 0.9118811213983626, 0.9540195002912246, 0.8313216521232448, 0.5295990770041711, 0.9899386035147822, 0.9609073788411913, 0.6971237735166605, 0.750628314276682, 0.9689187945628428, 0.6696431203689739, 1.00549996428747, 0.9933393019569268, 1.1846929915036701, 1.1846929915036701, 1.1846929915036701, 0.790113824150787, 0.7637159748229181, 0.8814032410306615, 1.1259159322431442, 0.7914338988337241, 1.0024668420234646, 0.7441717838849399, 0.9216970723202395, 0.667627203117625, 0.9052614516748312, 1.0048982122218868, 0.8564571117152943, 1.0208602535148827, 0.962581138530074, 0.9971366624521785, 1.1846929915036701, 1.1846929915036701, 0.9308779076963959, 0.23271947692409897, 0.8365858826557464, 1.0013705675401992, 0.9585743335289086, 0.5206138555298455, 1.0192390588570879, 0.9859558757129601, 0.9955870533762369, 0.6179609148892213, 0.9889235784631135, 0.9465076789300628, 0.7807604201611725, 0.9800449373040812, 0.8549545237035413, 1.016498925786778, 0.9743887278708793, 0.9365031676412479, 0.7046274589686001, 0.8427380782990123, 1.1478933931621322, 1.1515504484131074, 0.8629575014076898, 0.886885815842408, 0.9009111281860287, 0.557149191998481, 1.0061156530293414, 0.9384550168374856, 0.8697604908969445, 0.21744012272423613, 0.9661565034617778, 0.713889910907416, 1.2185578793654486, 1.0124482745585937, 1.0079479474524402, 0.887193797242805, 0.9849264844785475, 0.7366497515160836, 0.7415692336347502, 1.3532575492233487, 1.3532575492233487, 1.0249452542408106, 0.6656597357198412, 1.213606094909258, 0.5974953883965666, 0.6087913502272435, 0.6087913502272435, 0.9591408444047832, 0.8141838620030596, 0.8672959206376827, 0.9906972210618873, 0.7696733732879497, 1.3275711188502282, 1.3275711188502282, 0.9155308517205216, 0.9552051972575917, 0.978212720421143, 1.0013512427144526, 1.1045930277381786, 0.9407545073710996, 0.04951339512479471, 1.3532575492233487, 1.3532575492233487, 0.8030126350994025, 1.1846929915036701, 0.5994998900019082, 0.7840888926877841, 0.26136296422926136, 0.6434007106259105, 0.32170035531295527, 0.864874260776433, 0.09609714008627034, 0.8609079109670593, 0.7366497516697589, 0.9804997916856287, 1.0070060771258806, 0.7807294257013765, 0.887908721437899, 0.8797893210744652, 0.9263757026107421, 1.1846929915036701, 1.1846929915036701, 0.977994407033319, 0.8765887029459828, 0.9216931776855695, 0.9642717013370504, 1.016948411469799, 0.6966180086265356, 0.7990375705895292, 0.1997593926473823, 0.741767769205338, 0.741767769205338, 0.7410529652133747, 0.8860218495565333, 0.1265745499366476, 0.7645969360153045, 0.9976364603122155, 1.3532575492233487, 0.9790023490066426, 0.6987691722995445, 0.34938458614977225, 0.7888026673350759, 0.9928826501683496, 0.9678875322339445, 1.0312160370642607, 1.1128194567638248, 0.8779069197856105, 1.1846929915036701, 1.1846929915036701, 0.7367092280985695, 1.3532575492233487, 1.210581757040503, 0.5874372545320534, 1.1846929915036701, 0.9926643361597309, 0.9942429974068617, 0.47789831786533765, 1.1846929915036701, 1.1846929915036701, 1.1846929915036701, 0.9921051669145335, 0.8172098686391048, 0.9067478439280539, 0.9882726424278973, 0.9340081020888602, 1.3275711188502282, 0.9608608987560168, 1.0059908911301532, 0.9374448257865652, 0.7517496542021501, 0.5103462011735538, 1.3354566314323542, 0.8620710549013367, 0.8646398380635268, 0.8984365010919138, 0.9443355603969487, 1.1404146549304455, 0.771206593592809, 0.9256811422805141, 0.9363278035691477, 0.7337434838497262, 0.926705390110597, 0.8523359549951908, 0.12176227928502725, 1.01466403903503, 1.071121265443294, 0.8592496859277804, 0.12274995513254007, 1.1287698614016075, 0.9721888414403568, 0.774876381519909, 0.25829212717330297], \"Term\": [\"\\u0430\\u0434\\u0430\\u043f\\u0442\\u0438\\u0432\\u043d\\u0438\\u0439\", \"\\u0430\\u0434\\u0430\\u043f\\u0442\\u0438\\u0432\\u043d\\u0438\\u0439\", \"\\u0430\\u0445\\u043c\\u0435\\u0442\\u043e\\u0432\", \"\\u0431\\u0456\\u0437\\u043d\\u0435\\u0441\", \"\\u0432\\u0430\\u043a\\u0446\\u0438\\u043d\\u0430\", \"\\u0432\\u0430\\u043a\\u0446\\u0438\\u043d\\u0430\\u0446\\u0456\\u044f\", \"\\u0432\\u0435\\u043b\\u0438\\u043a\\u0438\\u0439\", \"\\u0432\\u0438\\u0431\\u0430\\u0447\\u0438\\u0442\\u0438\", \"\\u0432\\u0438\\u043f\\u0430\\u0434\\u043e\\u043a\", \"\\u0432\\u0438\\u043f\\u043b\\u0430\\u0442\\u0430\", \"\\u0432\\u0438\\u0457\\u0437\\u0434\", \"\\u0432\\u043b\\u0430\\u0434\", \"\\u0432\\u043e\\u043b\\u043e\\u0434\\u0438\\u043c\\u0438\\u0440\", \"\\u0432\\u0447\\u0438\\u0442\\u0435\\u043b\\u044c\", \"\\u0432\\u0456\\u0434\\u0441\\u0442\\u0430\\u0432\\u043a\\u0430\", \"\\u0432\\u0456\\u0439\\u043d\\u0430\", \"\\u0432\\u0456\\u0439\\u043d\\u0443\\u0442\\u0438\", \"\\u0432\\u0456\\u0440\\u0443\\u0441\", \"\\u0433\\u0430\\u043d\\u044c\\u0431\\u0430\", \"\\u0433\\u043e\\u0432\\u043e\\u0440\\u0438\\u0442\\u044c\\u0432\\u0435\\u043b\\u0438\\u043a\\u0438\\u0439\\u043b\\u044c\\u0432\\u0456\\u0432\", \"\\u0433\\u043e\\u0432\\u043e\\u0440\\u0438\\u0442\\u044c\\u0432\\u0435\\u043b\\u0438\\u043a\\u0438\\u0439\\u043b\\u044c\\u0432\\u0456\\u0432 \\u0442\\u043e\\u043a\\u0448\\u043e\\u0443\", \"\\u0433\\u043e\\u0432\\u043e\\u0440\\u0438\\u0442\\u044c\\u0432\\u0435\\u043b\\u0438\\u043a\\u0438\\u0439\\u043b\\u044c\\u0432\\u0456\\u0432 \\u0442\\u043e\\u043a\\u0448\\u043e\\u0443 \\u0435\\u043f\\u0456\\u0434\\u0435\\u043c\\u0456\\u044f\", \"\\u0433\\u0440\\u043e\\u043c\\u0430\\u0434\\u044f\\u043d\\u0441\\u044c\\u043a\\u0438\\u0439\", \"\\u0433\\u0440\\u0443\\u0437\\u0456\\u044f\", \"\\u0433\\u0443\\u0447\\u043d\\u0438\\u0439\", \"\\u0434\\u0435\\u0431\\u0430\\u0442\\u0438\", \"\\u0434\\u0435\\u0437\\u0456\\u043d\\u0444\\u043e\\u0440\\u043c\\u0430\\u0446\\u0456\\u044f\", \"\\u0434\\u0435\\u043d\\u044c \\u043d\\u0435\\u0437\\u0430\\u043b\\u0435\\u0436\\u043d\\u0456\\u0441\\u0442\\u044c\", \"\\u0434\\u0435\\u043d\\u044c \\u0454\\u0432\\u0440\\u043e\\u043f\\u0430\", \"\\u0434\\u0435\\u0441\\u044f\\u0442\\u043e\\u043a\", \"\\u0434\\u0435\\u0442\\u0430\\u043b\\u044c\", \"\\u0434\\u0438\\u043a\\u0442\\u0430\\u0442\\u0443\\u0440\\u0430\", \"\\u0434\\u043e\\u043f\\u043e\\u043c\\u043e\\u0433\\u0430\", \"\\u0434\\u0456\\u0437\\u043d\\u0430\\u0442\\u0438\\u0441\\u044f\", \"\\u0434\\u0456\\u0442\\u0438\", \"\\u0434\\u0456\\u044f\\u0442\\u0438\", \"\\u0435\\u043f\\u0456\\u0434\\u0435\\u043c\\u0456\\u044f\", \"\\u0435\\u043f\\u0456\\u0434\\u0435\\u043c\\u0456\\u044f \\u043f\\u043e\\u043b\\u0456\\u0442\\u0438\\u043a\", \"\\u0435\\u043f\\u0456\\u0434\\u0435\\u043c\\u0456\\u044f \\u043f\\u043e\\u043b\\u0456\\u0442\\u0438\\u043a \\u0441\\u043b\\u0443\\u0433\\u0430\\u043d\\u0430\\u0440\\u0456\\u0434\", \"\\u0435\\u043f\\u0456\\u0446\\u0435\\u043d\\u0442\\u0440\", \"\\u0435\\u043f\\u0456\\u0446\\u0435\\u043d\\u0442\\u0440\", \"\\u0437\\u0430\\u0433\\u0430\\u043b\\u044c\\u043d\\u043e\\u0434\\u0435\\u0440\\u0436\\u0430\\u0432\\u043d\\u0438\\u0439\", \"\\u0437\\u0430\\u0434\\u0443\\u043c\\u0430\\u0442\\u0438\\u0441\\u044f\", \"\\u0437\\u0430\\u043a\\u043e\\u043d\", \"\\u0437\\u0430\\u043f\\u0440\\u043e\\u0432\\u0430\\u0434\\u0436\\u0435\\u043d\\u0438\\u0439\", \"\\u0437\\u0430\\u0445\\u0432\\u043e\\u0440\\u044e\\u0432\\u0430\\u043d\\u043d\\u044f\", \"\\u0437\\u0430\\u0445\\u0456\\u0434\", \"\\u0437\\u0434\\u043e\\u0440\\u043e\\u0432\", \"\\u0437\\u0435\\u043b\\u0435\\u043d\\u044c\", \"\\u0437\\u043c\\u0456\\u043d\\u0438\\u0442\\u0438\", \"\\u0437\\u043d\\u0430\\u0442\\u0438\", \"\\u0437\\u043e\\u0432\\u043d\\u0456\\u0448\\u043d\\u0456\\u0439\", \"\\u0437\\u0440\\u043e\\u0431\\u0438\\u0442\\u0438\", \"\\u043a\\u0430\\u0431\\u043c\\u0456\\u043d\", \"\\u043a\\u0430\\u043d\\u0430\\u0434\\u0430\", \"\\u043a\\u0430\\u0440\\u0430\\u043d\\u0442\\u0438\\u043d\\u043d\\u0438\\u0439\", \"\\u043a\\u0430\\u0442\\u0430\\u0441\\u0442\\u0440\\u043e\\u0444\\u0430\", \"\\u043a\\u043e\\u043c\\u0435\\u043d\\u0442\\u0443\\u0432\\u0430\\u0442\\u0438\", \"\\u043a\\u043e\\u043c\\u0456\\u0441\\u0456\\u044f\", \"\\u043a\\u043e\\u043d\\u0441\\u0443\\u043b\\u044c\\u0442\\u0430\\u0446\\u0456\\u044f\", \"\\u043a\\u043e\\u0440\\u0434\\u043e\\u043d \\u0443\\u043a\\u0440\\u0430\\u0457\\u043d\\u0435\\u0446\\u044c\", \"\\u043a\\u0440\\u0430\\u0441\\u0430\", \"\\u043a\\u0456\\u043f\\u0440\", \"\\u043b\\u0430\\u0432\\u0440\", \"\\u043b\\u044c\\u0432\\u0456\\u0432\", \"\\u043b\\u044e\\u0434\\u0438\\u043d\\u0430\", \"\\u043b\\u0456\\u043a\\u0430\\u0440\", \"\\u043b\\u0456\\u043a\\u0443\\u0432\\u0430\\u0442\\u0438\", \"\\u043b\\u0456\\u043a\\u0443\\u0432\\u0430\\u0442\\u0438\", \"\\u043c\\u0430\\u0441\\u043a\\u0430\", \"\\u043c\\u0430\\u0442\\u0435\\u0440\\u0456\\u0430\\u043b\\u044c\\u043d\\u0438\\u0439\", \"\\u043c\\u0430\\u0442\\u0435\\u0440\\u0456\\u0430\\u043b\\u044c\\u043d\\u0438\\u0439 \\u0432\\u0438\\u043f\\u043b\\u0430\\u0442\\u0430\", \"\\u043c\\u0435\\u0434\\u0438\\u043a\", \"\\u043c\\u0435\\u0434\\u0438\\u0447\\u043d\\u0438\\u0439\", \"\\u043c\\u0440\\u0456\\u044f\", \"\\u043c\\u0456\\u043d\\u0456\\u0441\\u0442\\u0440\", \"\\u043c\\u0456\\u043d\\u0456\\u0441\\u0442\\u0440 \\u0434\\u0435\\u043d\\u0438\\u0441\", \"\\u043c\\u0456\\u043d\\u0456\\u0441\\u0442\\u0440 \\u0434\\u0435\\u043d\\u0438\\u0441 \\u0448\\u043c\\u0438\\u0433\\u0430\\u043b\\u044c\", \"\\u043c\\u0456\\u0440\\u0430 \\u0441\\u043f\\u0440\\u0430\\u0432\\u0438\\u0442\\u0438\\u0441\\u044f\", \"\\u043c\\u0456\\u0440\\u0430 \\u0441\\u043f\\u0440\\u0430\\u0432\\u0438\\u0442\\u0438\\u0441\\u044f \\u0433\\u0440\\u043e\\u043c\\u0430\\u0434\\u044f\\u043d\\u0441\\u044c\\u043a\\u0438\\u0439\", \"\\u043c\\u0456\\u0441\\u0446\\u0435\", \"\\u043d\\u0430\\u0432\\u0447\\u0430\\u043b\\u044c\\u043d\\u0438\\u0439\", \"\\u043d\\u0430\\u0432\\u0447\\u0430\\u0442\\u0438\\u0441\\u044f\", \"\\u043d\\u0430\\u0439\\u043c\\u0430\\u043d\", \"\\u043d\\u0430\\u0439\\u043c\\u0430\\u043d \\u043f\\u0440\\u0430\\u0446\\u0456\\u0432\\u043d\\u0438\\u043a\", \"\\u043d\\u0430\\u0439\\u043c\\u0430\\u043d \\u043f\\u0440\\u0430\\u0446\\u0456\\u0432\\u043d\\u0438\\u043a\", \"\\u043d\\u0430\\u0441\\u0435\\u043b\\u0435\\u043d\\u043d\\u044f\", \"\\u043d\\u0430\\u0441\\u0438\\u043b\\u044c\\u0441\\u0442\\u0432\\u043e\", \"\\u043d\\u0438\\u043d\\u0456\\u0448\\u043d\\u0456\\u0439\", \"\\u043e\\u0431\\u043c\\u0435\\u0436\\u0435\\u043d\\u043d\\u044f\", \"\\u043e\\u0431\\u043c\\u0435\\u0436\\u0443\\u0432\\u0430\\u0442\\u0438\", \"\\u043e\\u0431\\u043c\\u0435\\u0436\\u0443\\u0432\\u0430\\u0442\\u0438 \\u0443\\u043a\\u0440\\u0430\\u0457\\u043d\\u0435\\u0446\\u044c\", \"\\u043e\\u0431\\u043c\\u0435\\u0436\\u0443\\u0432\\u0430\\u0442\\u0438 \\u0443\\u043a\\u0440\\u0430\\u0457\\u043d\\u0435\\u0446\\u044c \\u0432\\u0438\\u0457\\u0437\\u0434\", \"\\u043e\\u043b\\u0435\\u043a\\u0441\\u0456\\u0439\", \"\\u043e\\u0441\\u0432\\u0456\\u0442\\u043d\\u0456\\u0439\", \"\\u043e\\u0445\\u043e\\u0440\\u043e\\u043d\\u0430\", \"\\u043e\\u0445\\u043e\\u0440\\u043e\\u043d\\u0430 \\u0437\\u0434\\u043e\\u0440\\u043e\\u0432\", \"\\u043f\\u0430\\u043d\\u0434\\u0435\\u043c\\u0438\\u044f\", \"\\u043f\\u0430\\u043d\\u0434\\u0435\\u043c\\u0456\\u044f\", \"\\u043f\\u0430\\u043d\\u0434\\u0435\\u043c\\u0456\\u044f\", \"\\u043f\\u0430\\u043d\\u0434\\u0435\\u043c\\u0456\\u044f \\u0440\\u0443\\u0441\\u0441\\u043a\\u0438\\u0439\", \"\\u043f\\u0430\\u043d\\u0434\\u0435\\u043c\\u0456\\u044f \\u0440\\u0443\\u0441\\u0441\\u043a\\u0438\\u0439 \\u043c\\u0456\\u0440\\u0430\", \"\\u043f\\u0430\\u0440\\u043b\\u0430\\u043c\\u0435\\u043d\\u0442\", \"\\u043f\\u0430\\u0440\\u043b\\u0430\\u043c\\u0435\\u043d\\u0442 \\u0442\\u0435\\u043b\\u0435\\u043a\\u0430\\u043d\\u0430\\u043b\\u043d\\u0442\", \"\\u043f\\u0435\\u0440\\u0435\\u0432\\u0456\\u0440\\u0438\\u0442\\u0438\", \"\\u043f\\u0435\\u0440\\u0435\\u0442\\u0438\\u043d\", \"\\u043f\\u0435\\u0440\\u0435\\u0442\\u0438\\u043d\", \"\\u043f\\u0435\\u0440\\u0435\\u0442\\u0438\\u043d \\u043a\\u043e\\u0440\\u0434\\u043e\\u043d\", \"\\u043f\\u0435\\u0440\\u0435\\u0442\\u0438\\u043d \\u043a\\u043e\\u0440\\u0434\\u043e\\u043d\", \"\\u043f\\u0435\\u0440\\u0442\\u0438\", \"\\u043f\\u0435\\u0440\\u0442\\u0438\", \"\\u043f\\u0435\\u0440\\u0442\\u0438 \\u043c\\u0456\\u043d\\u0456\\u0441\\u0442\\u0440\", \"\\u043f\\u0435\\u0440\\u0442\\u0438 \\u043c\\u0456\\u043d\\u0456\\u0441\\u0442\\u0440 \\u0434\\u0435\\u043d\\u0438\\u0441\", \"\\u043f\\u0435\\u0440\\u0448\\u0438\\u0439\", \"\\u043f\\u0438\\u0442\\u0430\\u043d\\u043d\\u044f\", \"\\u043f\\u043e\\u0432\\u0456\\u0434\\u043e\\u043c\\u043b\\u044f\\u0442\\u0438\", \"\\u043f\\u043e\\u0432\\u0456\\u0442\\u0440\\u044f\", \"\\u043f\\u043e\\u043a\\u0430\\u0437\\u043d\\u0438\\u043a\", \"\\u043f\\u043e\\u043b\\u0456\\u0442\\u0438\\u043a\", \"\\u043f\\u043e\\u043b\\u0456\\u0442\\u0438\\u043a \\u0441\\u043b\\u0443\\u0433\\u0430\\u043d\\u0430\\u0440\\u0456\\u0434\", \"\\u043f\\u043e\\u043b\\u0456\\u0442\\u0438\\u043a \\u0441\\u043b\\u0443\\u0433\\u0430\\u043d\\u0430\\u0440\\u0456\\u0434 \\u043f\\u0430\\u0440\\u043b\\u0430\\u043c\\u0435\\u043d\\u0442\", \"\\u043f\\u043e\\u0441\\u043a\\u0430\\u0440\\u0436\\u0438\\u0442\\u0438\\u0441\\u044f\", \"\\u043f\\u043e\\u0441\\u043b\\u0430\\u0431\\u043b\\u0435\\u043d\\u043d\\u044f\", \"\\u043f\\u0440\\u0430\\u0432\\u0438\\u043b\\u043e\", \"\\u043f\\u0440\\u0430\\u0432\\u043e\", \"\\u043f\\u0440\\u0430\\u0446\\u044e\\u0432\\u0430\\u0442\\u0438\", \"\\u043f\\u0440\\u043e\\u0432\\u0430\\u043b\\u0438\\u0442\\u0438\", \"\\u043f\\u0440\\u043e\\u0454\\u043a\\u0442\", \"\\u043f\\u0440\\u043e\\u0454\\u043a\\u0442\", \"\\u0440\\u0430\\u0448\\u0430\", \"\\u0440\\u0430\\u0448\\u0430 \\u043f\\u0430\\u043d\\u0434\\u0435\\u043c\\u0456\\u044f\", \"\\u0440\\u0435\\u0433\\u0456\\u043e\\u043d\\u0430\\u043b\\u044c\\u043d\\u0438\\u0439\", \"\\u0440\\u0435\\u0436\\u0438\\u043c\", \"\\u0440\\u0435\\u0436\\u0438\\u043c\", \"\\u0440\\u0435\\u0436\\u0438\\u043c \\u043d\\u0430\\u0434\\u0437\\u0432\\u0438\\u0447\\u0430\\u0439\\u043d\\u0438\\u0439\", \"\\u0440\\u043e\\u0431\\u043e\\u0442\", \"\\u0440\\u0443\\u0441\\u0441\\u043a\\u0438\\u0439 \\u043c\\u0456\\u0440\\u0430 \\u0441\\u043f\\u0440\\u0430\\u0432\\u0438\\u0442\\u0438\\u0441\\u044f\", \"\\u0440\\u0456\\u0448\\u0435\\u043d\\u043d\\u044f\", \"\\u0441\\u0435\\u0440\\u043f\\u0435\\u043d\\u044c\", \"\\u0441\\u0435\\u0440\\u043f\\u0435\\u043d\\u044c\", \"\\u0441\\u0438\\u043b\\u044c\\u043d\\u0438\\u0439\", \"\\u0441\\u0438\\u0441\\u0442\\u0435\\u043c\\u0430\", \"\\u0441\\u0438\\u0442\\u0443\\u0430\\u0446\\u0456\\u044f\", \"\\u0441\\u043a\\u043b\\u0430\\u0434\", \"\\u0441\\u043b\\u043e\\u0432\\u0435\\u043d\\u0456\\u044f\", \"\\u0441\\u043b\\u0443\\u0433\\u0430\\u043d\\u0430\\u0440\\u0456\\u0434\", \"\\u0441\\u043b\\u0443\\u0433\\u0430\\u043d\\u0430\\u0440\\u0456\\u0434 \\u043f\\u0430\\u0440\\u043b\\u0430\\u043c\\u0435\\u043d\\u0442\", \"\\u0441\\u043b\\u0443\\u0433\\u0430\\u043d\\u0430\\u0440\\u0456\\u0434 \\u043f\\u0430\\u0440\\u043b\\u0430\\u043c\\u0435\\u043d\\u0442 \\u0442\\u0435\\u043b\\u0435\\u043a\\u0430\\u043d\\u0430\\u043b\\u043d\\u0442\", \"\\u0441\\u043f\\u043e\\u0440\\u0442\", \"\\u0441\\u043f\\u0440\\u0430\\u0432\\u0438\\u0442\\u0438\\u0441\\u044f \\u0433\\u0440\\u043e\\u043c\\u0430\\u0434\\u044f\\u043d\\u0441\\u044c\\u043a\\u0438\\u0439\", \"\\u0441\\u0442\\u0443\\u0434\\u0435\\u043d\\u0442\", \"\\u0442\\u0435\\u0437\\u0430\", \"\\u0442\\u0435\\u043b\\u0435\\u043a\\u0430\\u043d\\u0430\\u043b\\u043d\\u0442\", \"\\u0442\\u0435\\u0441\\u0442\", \"\\u0442\\u0435\\u0441\\u0442\\u0443\\u0432\\u0430\\u043d\\u043d\\u044f\", \"\\u0442\\u0438\\u0449\\u0435\\u043d\\u043a\\u043e\", \"\\u0442\\u043e\\u043a\\u0448\\u043e\\u0443\", \"\\u0442\\u043e\\u043a\\u0448\\u043e\\u0443 \\u0435\\u043f\\u0456\\u0434\\u0435\\u043c\\u0456\\u044f\", \"\\u0442\\u043e\\u043a\\u0448\\u043e\\u0443 \\u0435\\u043f\\u0456\\u0434\\u0435\\u043c\\u0456\\u044f \\u043f\\u043e\\u043b\\u0456\\u0442\\u0438\\u043a\", \"\\u0442\\u0440\\u0430\\u0432\\u0435\\u043d\\u044c\", \"\\u0442\\u0440\\u0438\\u043c\\u0430\\u0442\\u0438\", \"\\u0442\\u0440\\u0438\\u043c\\u0430\\u0442\\u0438\\u0441\\u044f\", \"\\u0442\\u0443\\u0440\\u0438\\u0441\\u0442\", \"\\u0443\\u043a\\u0440\\u0430\\u0457\\u043d\\u0435\\u0446\\u044c\", \"\\u0443\\u043a\\u0440\\u0430\\u0457\\u043d\\u0435\\u0446\\u044c \\u0432\\u0438\\u0457\\u0437\\u0434\", \"\\u0443\\u043a\\u0440\\u0430\\u0457\\u043d\\u0441\\u044c\\u043a\\u0438\\u0439\", \"\\u0443\\u043c\\u043e\\u0432\\u0430\", \"\\u0443\\u043d\\u0456\\u0432\\u0435\\u0440\\u0441\\u0438\\u0442\\u0435\\u0442\", \"\\u0443\\u0445\\u0432\\u0430\\u043b\\u0438\\u0442\\u0438\", \"\\u0443\\u0445\\u0432\\u0430\\u043b\\u0438\\u0442\\u0438 \\u0440\\u0456\\u0448\\u0435\\u043d\\u043d\\u044f\", \"\\u0443\\u0445\\u0432\\u0430\\u043b\\u0438\\u0442\\u0438 \\u0440\\u0456\\u0448\\u0435\\u043d\\u043d\\u044f \\u043f\\u043e\\u0441\\u043b\\u0430\\u0431\\u043b\\u0435\\u043d\\u043d\\u044f\", \"\\u0444\\u0440\\u043e\\u043d\\u0442\", \"\\u0444\\u0456\\u043b\\u044c\\u043c\", \"\\u0444\\u0456\\u043d\\u0430\\u043d\\u0441\\u0443\\u0432\\u0430\\u043d\\u043d\\u044f\", \"\\u0445\\u0432\\u043e\\u0440\\u0438\\u0439\", \"\\u0445\\u043b\\u0456\\u0431\", \"\\u0445\\u043e\\u0434\\u0438\\u0442\\u0438\", \"\\u0445\\u043e\\u0434\\u0438\\u0442\\u0438 \\u043c\\u0430\\u0441\\u043a\\u0430\", \"\\u0447\\u0435\\u0440\\u0432\\u043e\\u043d\\u0438\\u0439 \\u0437\\u043e\\u043d\\u0430\", \"\\u0447\\u0435\\u0441\\u043d\\u0438\\u0439\", \"\\u0447\\u0438\\u0442\\u0430\\u0442\\u0438\", \"\\u0447\\u043e\\u043c\\u0430\", \"\\u0447\\u043e\\u043c\\u0430\", \"\\u0447\\u043e\\u0440\\u043d\\u043e\\u0431\\u0438\\u043b\\u044c\", \"\\u0448\\u043a\\u043e\\u043b\\u044f\\u0440\\u0438\", \"\\u0448\\u043c\\u0438\\u0433\\u0430\\u043b\\u044c\", \"\\u0448\\u043c\\u0438\\u0433\\u0430\\u043b\\u044c\", \"\\u044f\\u043a\\u0431\\u0438\", \"\\u044f\\u043a\\u0449\\u043e\", \"\\u0456\\u043d\\u0441\\u0442\\u0438\\u0442\\u0443\\u0442\", \"\\u0456\\u043d\\u0441\\u0442\\u0438\\u0442\\u0443\\u0442\"]}, \"R\": 30, \"lambda.step\": 0.01, \"plot.opts\": {\"xlab\": \"PC1\", \"ylab\": \"PC2\"}, \"topic.order\": [5, 1, 2, 4, 7, 6, 3, 9, 8]};\n",
       "\n",
       "function LDAvis_load_lib(url, callback){\n",
       "  var s = document.createElement('script');\n",
       "  s.src = url;\n",
       "  s.async = true;\n",
       "  s.onreadystatechange = s.onload = callback;\n",
       "  s.onerror = function(){console.warn(\"failed to load library \" + url);};\n",
       "  document.getElementsByTagName(\"head\")[0].appendChild(s);\n",
       "}\n",
       "\n",
       "if(typeof(LDAvis) !== \"undefined\"){\n",
       "   // already loaded: just create the visualization\n",
       "   !function(LDAvis){\n",
       "       new LDAvis(\"#\" + \"ldavis_el1002816429156052966172928791\", ldavis_el1002816429156052966172928791_data);\n",
       "   }(LDAvis);\n",
       "}else if(typeof define === \"function\" && define.amd){\n",
       "   // require.js is available: use it to load d3/LDAvis\n",
       "   require.config({paths: {d3: \"https://d3js.org/d3.v5\"}});\n",
       "   require([\"d3\"], function(d3){\n",
       "      window.d3 = d3;\n",
       "      LDAvis_load_lib(\"https://cdn.jsdelivr.net/gh/bmabey/pyLDAvis@3.3.1/pyLDAvis/js/ldavis.v3.0.0.js\", function(){\n",
       "        new LDAvis(\"#\" + \"ldavis_el1002816429156052966172928791\", ldavis_el1002816429156052966172928791_data);\n",
       "      });\n",
       "    });\n",
       "}else{\n",
       "    // require.js not available: dynamically load d3 & LDAvis\n",
       "    LDAvis_load_lib(\"https://d3js.org/d3.v5.js\", function(){\n",
       "         LDAvis_load_lib(\"https://cdn.jsdelivr.net/gh/bmabey/pyLDAvis@3.3.1/pyLDAvis/js/ldavis.v3.0.0.js\", function(){\n",
       "                 new LDAvis(\"#\" + \"ldavis_el1002816429156052966172928791\", ldavis_el1002816429156052966172928791_data);\n",
       "            })\n",
       "         });\n",
       "}\n",
       "</script>"
      ],
      "text/plain": [
       "PreparedData(topic_coordinates=                x           y  topics  cluster       Freq\n",
       "topic                                                    \n",
       "4      111.092506 -133.722946       1        1  57.930886\n",
       "0       34.946613  107.064590       2        1   9.486498\n",
       "1      -28.088213 -159.949036       3        1   5.585166\n",
       "3      147.698074   21.369604       4        1   5.436366\n",
       "6      -97.501183  126.981384       5        1   5.376008\n",
       "5       30.312096  -32.794945       6        1   4.995415\n",
       "2     -155.443665 -118.494690       7        1   3.942119\n",
       "8     -204.248108   22.596130       8        1   3.860874\n",
       "7      -79.404678   -6.864717       9        1   3.386668, topic_info=              Term       Freq      Total Category  logprob  loglift\n",
       "32264        режим   7.000000   7.000000  Default  30.0000  30.0000\n",
       "38063         тест  28.000000  28.000000  Default  29.0000  29.0000\n",
       "18695        маска  16.000000  16.000000  Default  28.0000  28.0000\n",
       "42407      шмигаль   8.000000   8.000000  Default  27.0000  27.0000\n",
       "41959         чома   8.000000   8.000000  Default  26.0000  26.0000\n",
       "...            ...        ...        ...      ...      ...      ...\n",
       "28972      правило   0.263695   8.679678   Topic9  -8.0334  -0.1086\n",
       "33965      рішення   0.235987  12.257376   Topic9  -8.1444  -0.5648\n",
       "39370    українець   0.237694  17.130472   Topic9  -8.1372  -0.8923\n",
       "14217       зелень   0.165736   1.618225   Topic9  -8.4978   1.1066\n",
       "26841  повідомляти   0.163454   2.561707   Topic9  -8.5117   0.6334\n",
       "\n",
       "[425 rows x 6 columns], token_table=       Topic      Freq        Term\n",
       "term                              \n",
       "190        1  0.600490  адаптивний\n",
       "190        5  0.300245  адаптивний\n",
       "895        2  1.103800     ахметов\n",
       "2078       1  0.993308      бізнес\n",
       "2356       1  0.993578     вакцина\n",
       "...      ...       ...         ...\n",
       "42407      5  0.122750     шмигаль\n",
       "42959      2  1.128770        якби\n",
       "43035      1  0.972189        якщо\n",
       "43819      1  0.774876    інститут\n",
       "43819      2  0.258292    інститут\n",
       "\n",
       "[191 rows x 3 columns], R=30, lambda_step=0.01, plot_opts={'xlab': 'PC1', 'ylab': 'PC2'}, topic_order=[5, 1, 2, 4, 7, 6, 3, 9, 8])"
      ]
     },
     "execution_count": 111,
     "metadata": {},
     "output_type": "execute_result"
    }
   ],
   "source": [
    "import pyLDAvis\n",
    "import pyLDAvis.sklearn\n",
    "pyLDAvis.enable_notebook()\n",
    "\n",
    "panel = pyLDAvis.sklearn.prepare(lda_model, tfidf_matrix, vectorizer, mds='tsne')\n",
    "panel"
   ]
  },
  {
   "cell_type": "markdown",
   "metadata": {},
   "source": [
    "### Saving results"
   ]
  },
  {
   "cell_type": "code",
   "execution_count": 112,
   "metadata": {},
   "outputs": [
    {
     "name": "stderr",
     "output_type": "stream",
     "text": [
      "C:\\Users\\kater\\anaconda3\\envs\\covid\\lib\\site-packages\\ipykernel\\ipkernel.py:287: DeprecationWarning: `should_run_async` will not call `transform_cell` automatically in the future. Please pass the result to `transformed_cell` argument and any exception that happen during thetransform in `preprocessing_exc_tuple` in IPython 7.17 and above.\n",
      "  and should_run_async(code)\n"
     ]
    }
   ],
   "source": [
    "p = pyLDAvis.sklearn.prepare(lda_model, tfidf_matrix, vectorizer, mds='tsne')\n",
    "pyLDAvis.save_html(p, 'lda-21.html')"
   ]
  },
  {
   "cell_type": "markdown",
   "metadata": {},
   "source": [
    "## LDA-K-means"
   ]
  },
  {
   "cell_type": "code",
   "execution_count": 117,
   "metadata": {},
   "outputs": [
    {
     "name": "stderr",
     "output_type": "stream",
     "text": [
      "C:\\Users\\kater\\anaconda3\\envs\\covid\\lib\\site-packages\\ipykernel\\ipkernel.py:287: DeprecationWarning: `should_run_async` will not call `transform_cell` automatically in the future. Please pass the result to `transformed_cell` argument and any exception that happen during thetransform in `preprocessing_exc_tuple` in IPython 7.17 and above.\n",
      "  and should_run_async(code)\n"
     ]
    }
   ],
   "source": [
    "# K-means clustering\n",
    "kmLDA = KMeans(n_clusters = k)\n",
    "kmLDA.fit(lda_output)"
   ]
  },
  {
   "cell_type": "code",
   "execution_count": 260,
   "metadata": {},
   "outputs": [
    {
     "name": "stderr",
     "output_type": "stream",
     "text": [
      "C:\\Users\\kater\\anaconda3\\envs\\covid\\lib\\site-packages\\ipykernel\\ipkernel.py:287: DeprecationWarning: `should_run_async` will not call `transform_cell` automatically in the future. Please pass the result to `transformed_cell` argument and any exception that happen during thetransform in `preprocessing_exc_tuple` in IPython 7.17 and above.\n",
      "  and should_run_async(code)\n"
     ]
    },
    {
     "name": "stdout",
     "output_type": "stream",
     "text": [
      "        like  love  haha  wow  sad  angry  kmeans\n",
      "kmLDA                                            \n",
      "0       62.0   3.0   5.0  1.0  3.0    5.0     4.0\n",
      "1       58.0   1.0   2.0  1.0  5.0    3.0     5.0\n",
      "2       73.0   1.0   0.0  0.0  1.0    0.0     5.0\n",
      "3       67.0   1.0   3.0  1.0  3.0    7.0     5.0\n",
      "4       93.0   1.0  12.0  1.0  2.0    4.0     5.0\n",
      "5       83.0   2.0  13.0  1.0  2.0    3.0     3.0\n",
      "6       88.0   8.0   8.0  1.0  2.0    2.0     4.0\n",
      "7      268.0  23.0  15.0  3.0  5.0   20.0     5.0\n",
      "8       15.0   0.0   1.0  0.0  1.0    0.0     4.0\n",
      "\n",
      "\n",
      "Cluster:  <built-in method title of str object at 0x0000017EA9FD6040>\n",
      "Most popular words:  [('допомога', 716), ('вакцина', 709), ('тест', 696), ('питання', 671), ('вірус', 657), ('здоров', 641), ('травень', 635), ('робот', 612), ('захід', 578), ('міністр', 573)]\n",
      "Total number of unique words:  26762\n",
      "\n",
      "\n",
      "Cluster:  <built-in method title of str object at 0x0000017EA7C5A3E0>\n",
      "Most popular words:  [('тест', 151), ('проєкт', 96), ('система', 87), ('інститут', 85), ('українець', 82), ('український', 74), ('європа', 70), ('охорона', 60), ('здоров', 60), ('травень', 56)]\n",
      "Total number of unique words:  3039\n",
      "\n",
      "\n",
      "Cluster:  <built-in method title of str object at 0x0000017EA7C97050>\n",
      "Most popular words:  [('турист', 36), ('кіпр', 34), ('питання', 32), ('вакцинація', 27), ('тест', 25), ('обмеження', 24), ('дати', 23), ('перший', 23), ('маска', 20), ('зовнішній', 19)]\n",
      "Total number of unique words:  1024\n",
      "\n",
      "\n",
      "Cluster:  <built-in method title of str object at 0x0000017EA7CAA760>\n",
      "Most popular words:  [('закон', 73), ('шмигаль', 69), ('адаптивний', 66), ('перти', 65), ('міністр', 64), ('державний', 60), ('обмеження', 56), ('показник', 51), ('пеня', 50), ('серпень', 42)]\n",
      "Total number of unique words:  1416\n",
      "\n",
      "\n",
      "Cluster:  <built-in method title of str object at 0x0000017EA7B55AB0>\n",
      "Most popular words:  [('тест', 84), ('маска', 72), ('хорватія', 64), ('режим', 57), ('обмеження', 49), ('діяти', 47), ('українець', 43), ('надзвичайний', 41), ('шмигаль', 40), ('міністр', 37)]\n",
      "Total number of unique words:  1731\n",
      "\n",
      "\n",
      "Cluster:  <built-in method title of str object at 0x0000017EA7B78D30>\n",
      "Most popular words:  [('допомога', 108), ('влад', 88), ('обмеження', 87), ('бізнес', 84), ('вакцинація', 80), ('працівник', 77), ('робот', 70), ('здоров', 68), ('вакцина', 68), ('захід', 65)]\n",
      "Total number of unique words:  2219\n",
      "\n",
      "\n",
      "Cluster:  <built-in method title of str object at 0x0000017EA7BB1E50>\n",
      "Most popular words:  [('тростянецький', 96), ('робот', 48), ('червонецький', 40), ('маска', 39), ('відновлення', 36), ('випадок', 33), ('голова', 33), ('епіцентр', 32), ('виробництво', 32), ('антисептик', 32)]\n",
      "Total number of unique words:  1261\n",
      "\n",
      "\n",
      "Cluster:  <built-in method title of str object at 0x0000017EA7BCE9C0>\n",
      "Most popular words:  [('чома', 189), ('травень', 45), ('інстинкт', 43), ('допомога', 40), ('слово', 40), ('частина', 40), ('європа', 39), ('зробити', 39), ('ситуація', 38), ('вони', 38)]\n",
      "Total number of unique words:  1502\n",
      "\n",
      "\n",
      "Cluster:  <built-in method title of str object at 0x0000017EA7BF5B90>\n",
      "Most popular words:  [('штам', 35), ('робити', 30), ('хвороба', 27), ('щеплення', 27), ('аеропорт', 27), ('медик', 26), ('індійський', 23), ('вірус', 22), ('нарід', 22), ('вакцина', 21)]\n",
      "Total number of unique words:  1223\n",
      "\n",
      "\n",
      "           names  shares\n",
      "0       допомога   69.95\n",
      "1           тест    6.24\n",
      "2         турист    2.73\n",
      "3          закон    4.24\n",
      "4           тест    4.38\n",
      "5       допомога    4.03\n",
      "6  тростянецький    2.88\n",
      "7           чома    3.33\n",
      "8           штам    2.21\n"
     ]
    }
   ],
   "source": [
    "descriptions('kmLDA', kmLDA.labels_.tolist())"
   ]
  },
  {
   "cell_type": "markdown",
   "metadata": {},
   "source": [
    "## LDA AgglomerativeClustering"
   ]
  },
  {
   "cell_type": "code",
   "execution_count": 105,
   "metadata": {},
   "outputs": [
    {
     "name": "stderr",
     "output_type": "stream",
     "text": [
      "C:\\Users\\kater\\anaconda3\\envs\\covid\\lib\\site-packages\\ipykernel\\ipkernel.py:287: DeprecationWarning: `should_run_async` will not call `transform_cell` automatically in the future. Please pass the result to `transformed_cell` argument and any exception that happen during thetransform in `preprocessing_exc_tuple` in IPython 7.17 and above.\n",
      "  and should_run_async(code)\n"
     ]
    },
    {
     "data": {
      "image/png": "[encoded data removed]",
      "text/plain": [
       "<Figure size 640x480 with 1 Axes>"
      ]
     },
     "metadata": {},
     "output_type": "display_data"
    }
   ],
   "source": [
    "# Using the dendrogram to find the optimal number of clusters\n",
    "import scipy.cluster.hierarchy as sch\n",
    "dendrogram = sch.dendrogram(sch.linkage(lda_output, method = 'ward'))\n",
    "plt.title('Dendrogram')\n",
    "plt.xlabel('Posts')\n",
    "plt.ylabel('Euclidean distances')\n",
    "plt.show()"
   ]
  },
  {
   "cell_type": "code",
   "execution_count": 122,
   "metadata": {},
   "outputs": [
    {
     "name": "stderr",
     "output_type": "stream",
     "text": [
      "C:\\Users\\kater\\anaconda3\\envs\\covid\\lib\\site-packages\\ipykernel\\ipkernel.py:287: DeprecationWarning: `should_run_async` will not call `transform_cell` automatically in the future. Please pass the result to `transformed_cell` argument and any exception that happen during thetransform in `preprocessing_exc_tuple` in IPython 7.17 and above.\n",
      "  and should_run_async(code)\n"
     ]
    }
   ],
   "source": [
    "from sklearn.cluster import AgglomerativeClustering\n",
    "hc = AgglomerativeClustering(n_clusters = k, affinity = 'euclidean', linkage = 'ward').fit_predict(lda_output)"
   ]
  },
  {
   "cell_type": "code",
   "execution_count": 262,
   "metadata": {},
   "outputs": [
    {
     "name": "stderr",
     "output_type": "stream",
     "text": [
      "C:\\Users\\kater\\anaconda3\\envs\\covid\\lib\\site-packages\\ipykernel\\ipkernel.py:287: DeprecationWarning: `should_run_async` will not call `transform_cell` automatically in the future. Please pass the result to `transformed_cell` argument and any exception that happen during thetransform in `preprocessing_exc_tuple` in IPython 7.17 and above.\n",
      "  and should_run_async(code)\n"
     ]
    },
    {
     "name": "stdout",
     "output_type": "stream",
     "text": [
      "        like  love  haha  wow  sad  angry  kmeans  kmLDA\n",
      "agLDA                                                   \n",
      "0       33.0   1.0   3.0  1.0  3.0    3.0     5.0    2.0\n",
      "1       66.0   3.0   5.0  1.0  3.0    5.0     4.0    0.0\n",
      "2       82.0   2.0  13.0  1.0  3.0    3.0     3.0    5.0\n",
      "3      291.0  25.0  12.0  3.0  5.0   22.0     5.0    7.0\n",
      "4      101.0   9.0   9.0  1.0  2.0    2.0     4.0    6.0\n",
      "5      119.0   1.0  16.0  1.0  3.0    5.0     5.0    4.0\n",
      "6       82.0   2.0   0.0  0.0  1.0    0.0     5.0    2.0\n",
      "7       82.0   1.0   3.0  1.0  3.0    9.0     5.0    3.0\n",
      "8       81.0   1.0   0.0  1.0  6.0    4.0     4.0    1.0\n",
      "\n",
      "\n",
      "Cluster:  <built-in method title of str object at 0x0000017EA7B55AB0>\n",
      "Most popular words:  [('міністр', 129), ('обмеження', 121), ('тест', 116), ('здоров', 114), ('закон', 108), ('захід', 105), ('травень', 103), ('українець', 103), ('допомога', 103), ('український', 94)]\n",
      "Total number of unique words:  7387\n",
      "\n",
      "\n",
      "Cluster:  <built-in method title of str object at 0x0000017E8D552040>\n",
      "Most popular words:  [('вакцина', 684), ('допомога', 651), ('тест', 646), ('питання', 630), ('вірус', 621), ('здоров', 584), ('травень', 583), ('робот', 573), ('випадок', 544), ('захід', 527)]\n",
      "Total number of unique words:  25555\n",
      "\n",
      "\n",
      "Cluster:  <built-in method title of str object at 0x0000017EA7C65620>\n",
      "Most popular words:  [('допомога', 108), ('влад', 89), ('обмеження', 87), ('бізнес', 84), ('вакцинація', 80), ('працівник', 77), ('робот', 70), ('здоров', 68), ('вакцина', 68), ('захід', 65)]\n",
      "Total number of unique words:  2239\n",
      "\n",
      "\n",
      "Cluster:  <built-in method title of str object at 0x0000017EA7C9EA30>\n",
      "Most popular words:  [('чома', 189), ('травень', 45), ('інстинкт', 43), ('допомога', 40), ('слово', 40), ('частина', 40), ('європа', 39), ('зробити', 39), ('ситуація', 38), ('вони', 38)]\n",
      "Total number of unique words:  1447\n",
      "\n",
      "\n",
      "Cluster:  <built-in method title of str object at 0x0000017EA7BE34A0>\n",
      "Most popular words:  [('тростянецький', 96), ('робот', 46), ('червонецький', 40), ('відновлення', 36), ('маска', 35), ('голова', 33), ('епіцентр', 32), ('виробництво', 32), ('антисептик', 32), ('зробити', 29)]\n",
      "Total number of unique words:  1072\n",
      "\n",
      "\n",
      "Cluster:  <built-in method title of str object at 0x0000017EA7BFCDB0>\n",
      "Most popular words:  [('маска', 67), ('діяти', 45), ('тест', 39), ('хорватія', 35), ('режим', 32), ('обмеження', 32), ('якщо', 28), ('кордон', 28), ('результат', 28), ('інформація', 25)]\n",
      "Total number of unique words:  1258\n",
      "\n",
      "\n",
      "Cluster:  <built-in method title of str object at 0x0000017EA7C167D0>\n",
      "Most popular words:  [('турист', 36), ('кіпр', 34), ('питання', 32), ('вакцинація', 27), ('тест', 24), ('дати', 23), ('перший', 23), ('зовнішній', 19), ('хотіти', 19), ('кордон', 18)]\n",
      "Total number of unique words:  861\n",
      "\n",
      "\n",
      "Cluster:  <built-in method title of str object at 0x0000017EA7C277E0>\n",
      "Most popular words:  [('державний', 55), ('шмигаль', 53), ('адаптивний', 50), ('пеня', 50), ('перти', 49), ('показник', 46), ('закон', 45), ('свято', 40), ('обмеження', 37), ('міністр', 37)]\n",
      "Total number of unique words:  1080\n",
      "\n",
      "\n",
      "Cluster:  <built-in method title of str object at 0x0000017EA7A56AB0>\n",
      "Most popular words:  [('тест', 141), ('проєкт', 91), ('інститут', 73), ('система', 69), ('українець', 66), ('дебати', 52), ('здоров', 50), ('український', 49), ('охорона', 39), ('школа', 38)]\n",
      "Total number of unique words:  1366\n",
      "\n",
      "\n",
      "           names  shares\n",
      "0        міністр   19.11\n",
      "1        вакцина   59.92\n",
      "2       допомога    4.14\n",
      "3           чома    3.05\n",
      "4  тростянецький    2.45\n",
      "5          маска    3.30\n",
      "6         турист    2.31\n",
      "7      державний    3.16\n",
      "8           тест    2.56\n"
     ]
    }
   ],
   "source": [
    "descriptions('agLDA', hc)"
   ]
  },
  {
   "cell_type": "markdown",
   "metadata": {},
   "source": [
    "## HDBSCAN"
   ]
  },
  {
   "cell_type": "code",
   "execution_count": 145,
   "metadata": {},
   "outputs": [
    {
     "name": "stderr",
     "output_type": "stream",
     "text": [
      "C:\\Users\\kater\\anaconda3\\envs\\covid\\lib\\site-packages\\ipykernel\\ipkernel.py:287: DeprecationWarning: `should_run_async` will not call `transform_cell` automatically in the future. Please pass the result to `transformed_cell` argument and any exception that happen during thetransform in `preprocessing_exc_tuple` in IPython 7.17 and above.\n",
      "  and should_run_async(code)\n",
      "C:\\Users\\kater\\anaconda3\\envs\\covid\\lib\\site-packages\\hdbscan\\hdbscan_.py:56: DeprecationWarning: `np.int` is a deprecated alias for the builtin `int`. To silence this warning, use `int` by itself. Doing this will not modify any behavior and is safe. When replacing `np.int`, you may wish to use e.g. `np.int64` or `np.int32` to specify the precision. If you wish to review your current use, check the release note link for additional information.\n",
      "Deprecated in NumPy 1.20; for more details and guidance: https://numpy.org/devdocs/release/1.20.0-notes.html#deprecations\n",
      "  condensed_tree = condense_tree(single_linkage_tree,\n",
      "C:\\Users\\kater\\anaconda3\\envs\\covid\\lib\\site-packages\\hdbscan\\hdbscan_.py:59: DeprecationWarning: `np.bool` is a deprecated alias for the builtin `bool`. To silence this warning, use `bool` by itself. Doing this will not modify any behavior and is safe. If you specifically wanted the numpy scalar type, use `np.bool_` here.\n",
      "Deprecated in NumPy 1.20; for more details and guidance: https://numpy.org/devdocs/release/1.20.0-notes.html#deprecations\n",
      "  labels, probabilities, stabilities = get_clusters(condensed_tree,\n"
     ]
    },
    {
     "data": {
      "text/plain": [
       "9"
      ]
     },
     "execution_count": 145,
     "metadata": {},
     "output_type": "execute_result"
    }
   ],
   "source": [
    "import hdbscan\n",
    "hdb = hdbscan.HDBSCAN(min_cluster_size=20, min_samples=24)\n",
    "hdb.fit(tfidf_matrix)\n",
    "len(set(hdb.labels_))"
   ]
  },
  {
   "cell_type": "code",
   "execution_count": 264,
   "metadata": {},
   "outputs": [
    {
     "name": "stderr",
     "output_type": "stream",
     "text": [
      "C:\\Users\\kater\\anaconda3\\envs\\covid\\lib\\site-packages\\ipykernel\\ipkernel.py:287: DeprecationWarning: `should_run_async` will not call `transform_cell` automatically in the future. Please pass the result to `transformed_cell` argument and any exception that happen during thetransform in `preprocessing_exc_tuple` in IPython 7.17 and above.\n",
      "  and should_run_async(code)\n"
     ]
    },
    {
     "name": "stdout",
     "output_type": "stream",
     "text": [
      "      like  love  haha  wow  sad  angry  kmeans  kmLDA  agLDA\n",
      "hdb                                                          \n",
      "-1    58.0   2.0   4.0  1.0  3.0    5.0     4.0    1.0    1.0\n",
      " 0     4.0   0.0   1.0  1.0  3.0    1.0     3.0    4.0    3.0\n",
      " 1    60.0   1.0   6.0  0.0  0.0    1.0     5.0    2.0    3.0\n",
      " 2   159.0   8.0  14.0  1.0  1.0    1.0     6.0    4.0    4.0\n",
      " 3    65.0   2.0  20.0  1.0  1.0    1.0     5.0    4.0    3.0\n",
      " 4   337.0  32.0   8.0  1.0  2.0    4.0     3.0    3.0    4.0\n",
      " 5     2.0   0.0   0.0  0.0  0.0    0.0     4.0    4.0    4.0\n",
      " 6   217.0   9.0  16.0  1.0  5.0    5.0     4.0    3.0    3.0\n",
      " 7     9.0   1.0   0.0  0.0  0.0    0.0     3.0    3.0    3.0\n",
      "\n",
      "\n",
      "Cluster:  <built-in method title of str object at 0x0000017EA9FD8040>\n",
      "Most popular words:  [('допомога', 865), ('тест', 841), ('вакцина', 823), ('здоров', 739), ('робот', 711), ('травень', 695), ('міністр', 694), ('питання', 684), ('захід', 673), ('вірус', 664)]\n",
      "Total number of unique words:  27922\n",
      "\n",
      "\n",
      "Cluster:  <built-in method title of str object at 0x0000017EB09CC8E0>\n",
      "Most popular words:  [('хворий', 22), ('ситуація', 21), ('вірус', 19), ('випадок', 16), ('зробити', 16), ('доба', 15), ('померти', 15), ('епідемічний', 15), ('тиждень', 14), ('головний', 14)]\n",
      "Total number of unique words:  834\n",
      "\n",
      "\n",
      "Cluster:  <built-in method title of str object at 0x0000017EA7C6AF40>\n",
      "Most popular words:  [('чорногорія', 43), ('чома', 30), ('тест', 22), ('діяти', 19), ('здоров', 18), ('обмеження', 16), ('українець', 16), ('іноземець', 16), ('ситуація', 16), ('закон', 15)]\n",
      "Total number of unique words:  954\n",
      "\n",
      "\n",
      "Cluster:  <built-in method title of str object at 0x0000017EA7C751E0>\n",
      "Most popular words:  [('чома', 123), ('закон', 37), ('обмеження', 30), ('допомога', 27), ('особа', 21), ('послуга', 19), ('рішення', 18), ('працівник', 17), ('бюджет', 17), ('українець', 16)]\n",
      "Total number of unique words:  1225\n",
      "\n",
      "\n",
      "Cluster:  <built-in method title of str object at 0x0000017EA7C83930>\n",
      "Most popular words:  [('український', 50), ('нарід', 27), ('українець', 26), ('право', 21), ('умова', 17), ('маска', 16), ('верховний', 16), ('закон', 15), ('конституція', 14), ('весь', 13)]\n",
      "Total number of unique words:  1211\n",
      "\n",
      "\n",
      "Cluster:  <built-in method title of str object at 0x0000017EA7C8F990>\n",
      "Most popular words:  [('тростянецький', 72), ('робот', 33), ('червонецький', 30), ('відновлення', 27), ('детальніше', 27), ('голова', 25), ('українець', 24), ('виробництво', 24), ('антисептик', 24), ('здоров', 24)]\n",
      "Total number of unique words:  1493\n",
      "\n",
      "\n",
      "Cluster:  <built-in method title of str object at 0x0000017EAFBD5E10>\n",
      "Most popular words:  [('епіцентр', 28), ('маска', 28), ('перти', 20), ('мережа', 18), ('обраний', 16), ('магазин', 16), ('тест', 16), ('аптека', 15), ('зараза', 14), ('супермаркет', 14)]\n",
      "Total number of unique words:  544\n",
      "\n",
      "\n",
      "Cluster:  <built-in method title of str object at 0x0000017EA7B6BF40>\n",
      "Most popular words:  [('планета', 157), ('українець', 144), ('питання', 128), ('нарід', 94), ('вірус', 94), ('людина', 90), ('свідомість', 90), ('зайвий', 89), ('ситуація', 83), ('померти', 81)]\n",
      "Total number of unique words:  4228\n",
      "\n",
      "\n",
      "Cluster:  <built-in method title of str object at 0x0000017EA7CA23A0>\n",
      "Most popular words:  [('розслідування', 24), ('вакцинація', 22), ('здоров', 20), ('медичний', 20), ('український', 18), ('створення', 18), ('зрада', 17), ('порошенко', 16), ('питання', 16), ('даний', 16)]\n",
      "Total number of unique words:  789\n",
      "\n",
      "\n",
      "           names  shares\n",
      "0       допомога    1.16\n",
      "1         хворий    1.26\n",
      "2     чорногорія    2.81\n",
      "3           чома    1.75\n",
      "4    український    1.12\n",
      "5  тростянецький    0.98\n",
      "6       епіцентр    5.08\n",
      "7        планета    0.70\n",
      "8  розслідування     NaN\n"
     ]
    }
   ],
   "source": [
    "descriptions('hdb', hdb.labels_)"
   ]
  },
  {
   "cell_type": "markdown",
   "metadata": {},
   "source": [
    "## UMAP"
   ]
  },
  {
   "cell_type": "code",
   "execution_count": 33,
   "metadata": {},
   "outputs": [
    {
     "name": "stderr",
     "output_type": "stream",
     "text": [
      "C:\\Users\\kater\\anaconda3\\envs\\covid\\lib\\site-packages\\ipykernel\\ipkernel.py:287: DeprecationWarning: `should_run_async` will not call `transform_cell` automatically in the future. Please pass the result to `transformed_cell` argument and any exception that happen during thetransform in `preprocessing_exc_tuple` in IPython 7.17 and above.\n",
      "  and should_run_async(code)\n"
     ]
    }
   ],
   "source": [
    "#!pip install umap-learn"
   ]
  },
  {
   "cell_type": "code",
   "execution_count": 73,
   "metadata": {},
   "outputs": [
    {
     "name": "stderr",
     "output_type": "stream",
     "text": [
      "C:\\Users\\kater\\anaconda3\\envs\\covid\\lib\\site-packages\\ipykernel\\ipkernel.py:287: DeprecationWarning: `should_run_async` will not call `transform_cell` automatically in the future. Please pass the result to `transformed_cell` argument and any exception that happen during thetransform in `preprocessing_exc_tuple` in IPython 7.17 and above.\n",
      "  and should_run_async(code)\n"
     ]
    }
   ],
   "source": [
    "import umap\n",
    "mapper = umap.UMAP(n_neighbors=15, min_dist=0.15, n_components=2).fit(tfidf_matrix)"
   ]
  },
  {
   "cell_type": "code",
   "execution_count": 35,
   "metadata": {},
   "outputs": [
    {
     "name": "stderr",
     "output_type": "stream",
     "text": [
      "C:\\Users\\kater\\anaconda3\\envs\\covid\\lib\\site-packages\\ipykernel\\ipkernel.py:287: DeprecationWarning: `should_run_async` will not call `transform_cell` automatically in the future. Please pass the result to `transformed_cell` argument and any exception that happen during thetransform in `preprocessing_exc_tuple` in IPython 7.17 and above.\n",
      "  and should_run_async(code)\n"
     ]
    }
   ],
   "source": [
    "#!pip install datashader\n",
    "#!pip install bokeh \n",
    "#!pip install holoviews \n",
    "#!pip install scikit-image\n",
    "#!pip install colorcet"
   ]
  },
  {
   "cell_type": "code",
   "execution_count": 74,
   "metadata": {},
   "outputs": [
    {
     "name": "stderr",
     "output_type": "stream",
     "text": [
      "C:\\Users\\kater\\anaconda3\\envs\\covid\\lib\\site-packages\\ipykernel\\ipkernel.py:287: DeprecationWarning: `should_run_async` will not call `transform_cell` automatically in the future. Please pass the result to `transformed_cell` argument and any exception that happen during thetransform in `preprocessing_exc_tuple` in IPython 7.17 and above.\n",
      "  and should_run_async(code)\n"
     ]
    },
    {
     "data": {
      "image/png": "[encoded data removed]",
      "text/plain": [
       "<Figure size 800x800 with 1 Axes>"
      ]
     },
     "metadata": {},
     "output_type": "display_data"
    }
   ],
   "source": [
    "import umap.plot\n",
    "umap.plot.points(mapper, labels=np.array(txt.kmeans), theme='fire')\n",
    "#plt.legend(loc=2)\n",
    "umap.plot.plt.show()"
   ]
  },
  {
   "cell_type": "markdown",
   "metadata": {},
   "source": [
    "## UMAP+DBSCAN"
   ]
  },
  {
   "cell_type": "code",
   "execution_count": 75,
   "metadata": {},
   "outputs": [
    {
     "name": "stderr",
     "output_type": "stream",
     "text": [
      "C:\\Users\\kater\\anaconda3\\envs\\covid\\lib\\site-packages\\ipykernel\\ipkernel.py:287: DeprecationWarning: `should_run_async` will not call `transform_cell` automatically in the future. Please pass the result to `transformed_cell` argument and any exception that happen during thetransform in `preprocessing_exc_tuple` in IPython 7.17 and above.\n",
      "  and should_run_async(code)\n"
     ]
    },
    {
     "name": "stdout",
     "output_type": "stream",
     "text": [
      "[-1  8  8 ...  8  8  8]\n"
     ]
    },
    {
     "name": "stderr",
     "output_type": "stream",
     "text": [
      "C:\\Users\\kater\\anaconda3\\envs\\covid\\lib\\site-packages\\hdbscan\\hdbscan_.py:275: DeprecationWarning: `np.bool` is a deprecated alias for the builtin `bool`. To silence this warning, use `bool` by itself. Doing this will not modify any behavior and is safe. If you specifically wanted the numpy scalar type, use `np.bool_` here.\n",
      "Deprecated in NumPy 1.20; for more details and guidance: https://numpy.org/devdocs/release/1.20.0-notes.html#deprecations\n",
      "  alg = KDTreeBoruvkaAlgorithm(tree, min_samples, metric=metric,\n",
      "C:\\Users\\kater\\anaconda3\\envs\\covid\\lib\\site-packages\\hdbscan\\hdbscan_.py:56: DeprecationWarning: `np.int` is a deprecated alias for the builtin `int`. To silence this warning, use `int` by itself. Doing this will not modify any behavior and is safe. When replacing `np.int`, you may wish to use e.g. `np.int64` or `np.int32` to specify the precision. If you wish to review your current use, check the release note link for additional information.\n",
      "Deprecated in NumPy 1.20; for more details and guidance: https://numpy.org/devdocs/release/1.20.0-notes.html#deprecations\n",
      "  condensed_tree = condense_tree(single_linkage_tree,\n",
      "C:\\Users\\kater\\anaconda3\\envs\\covid\\lib\\site-packages\\hdbscan\\hdbscan_.py:59: DeprecationWarning: `np.bool` is a deprecated alias for the builtin `bool`. To silence this warning, use `bool` by itself. Doing this will not modify any behavior and is safe. If you specifically wanted the numpy scalar type, use `np.bool_` here.\n",
      "Deprecated in NumPy 1.20; for more details and guidance: https://numpy.org/devdocs/release/1.20.0-notes.html#deprecations\n",
      "  labels, probabilities, stabilities = get_clusters(condensed_tree,\n"
     ]
    }
   ],
   "source": [
    "reducer = umap.UMAP(n_neighbors = 15, min_dist = 0.15, n_epochs=5000)\n",
    "X_umap = reducer.fit_transform(tfidf_matrix)\n",
    "umap_cl = hdbscan.HDBSCAN(min_cluster_size=20, min_samples=10).fit(X_umap)"
   ]
  },
  {
   "cell_type": "code",
   "execution_count": 269,
   "metadata": {},
   "outputs": [
    {
     "name": "stderr",
     "output_type": "stream",
     "text": [
      "C:\\Users\\kater\\anaconda3\\envs\\covid\\lib\\site-packages\\ipykernel\\ipkernel.py:287: DeprecationWarning: `should_run_async` will not call `transform_cell` automatically in the future. Please pass the result to `transformed_cell` argument and any exception that happen during thetransform in `preprocessing_exc_tuple` in IPython 7.17 and above.\n",
      "  and should_run_async(code)\n"
     ]
    },
    {
     "name": "stdout",
     "output_type": "stream",
     "text": [
      "       like  love  haha  wow  sad  angry  kmeans  kmLDA  agLDA  hdb\n",
      "umap                                                               \n",
      "-1    123.0   6.0  12.0  1.0  3.0    5.0     4.0    3.0    3.0  1.0\n",
      " 0      8.0   0.0   0.0  0.0  0.0    0.0     7.0    0.0    1.0  6.0\n",
      " 1      6.0   0.0   2.0  1.0  4.0    1.0     5.0    4.0    5.0  1.0\n",
      " 2     12.0   1.0   1.0  0.0  0.0    0.0     4.0    3.0    2.0  2.0\n",
      " 3    258.0  18.0   7.0  0.0  5.0    4.0     3.0    4.0    4.0  2.0\n",
      " 4    126.0   6.0  14.0  9.0  7.0   76.0     4.0    5.0    2.0 -0.0\n",
      " 5     66.0   0.0   1.0  0.0  0.0    0.0     6.0    4.0    5.0 -0.0\n",
      " 6     74.0   1.0   6.0  1.0  2.0    3.0     2.0    4.0    2.0  0.0\n",
      " 7     34.0   1.0   1.0  0.0  1.0    1.0     4.0    1.0    1.0 -0.0\n",
      " 8     59.0   3.0   4.0  1.0  3.0    5.0     4.0    1.0    1.0 -1.0\n",
      "\n",
      "\n",
      "Cluster:  <built-in method title of str object at 0x0000017E8D185040>\n",
      "Most popular words:  [('тест', 286), ('допомога', 261), ('здоров', 226), ('українець', 226), ('український', 221), ('міністр', 210), ('випадок', 203), ('обмеження', 198), ('захід', 185), ('хворий', 176)]\n",
      "Total number of unique words:  8778\n",
      "\n",
      "\n",
      "Cluster:  <built-in method title of str object at 0x0000017EB09BBD50>\n",
      "Most popular words:  [('планета', 160), ('свідомість', 91), ('зайвий', 90), ('небезпека', 69), ('глобаліст', 69), ('формування', 69), ('демократичний', 68), ('питання', 68), ('втратити', 66), ('основа', 66)]\n",
      "Total number of unique words:  201\n",
      "\n",
      "\n",
      "Cluster:  <built-in method title of str object at 0x0000017EA7C86CF0>\n",
      "Most popular words:  [('закон', 54), ('виплата', 35), ('допомога', 33), ('особа', 33), ('найман', 32), ('працівник', 32), ('державний', 32), ('бюджет', 32), ('матеріальний', 32), ('червоний', 28)]\n",
      "Total number of unique words:  169\n",
      "\n",
      "\n",
      "Cluster:  <built-in method title of str object at 0x0000017EA7C8DF40>\n",
      "Most popular words:  [('чорногорія', 108), ('тест', 44), ('епіцентр', 32), ('маска', 32), ('турист', 31), ('безкоштовний', 26), ('повністю', 22), ('діяти', 22), ('дозволити', 21), ('травень', 20)]\n",
      "Total number of unique words:  164\n",
      "\n",
      "\n",
      "Cluster:  <built-in method title of str object at 0x0000017EA7C94660>\n",
      "Most popular words:  [('чома', 189), ('бізнес', 74), ('робот', 66), ('український', 58), ('спільний', 57), ('влад', 54), ('питання', 52), ('приватизація', 50), ('перти', 50), ('перший', 47)]\n",
      "Total number of unique words:  824\n",
      "\n",
      "\n",
      "Cluster:  <built-in method title of str object at 0x0000017EAFBD5E10>\n",
      "Most popular words:  [('мова', 31), ('слуга', 25), ('український', 22), ('україномовний', 21), ('говоритьвеликийльвів', 17), ('токшоу', 17), ('епідемія', 17), ('політик', 17), ('слуганарід', 17), ('парламент', 17)]\n",
      "Total number of unique words:  332\n",
      "\n",
      "\n",
      "Cluster:  <built-in method title of str object at 0x0000017EA7CB9960>\n",
      "Most popular words:  [('адаптивний', 45), ('шмигаль', 36), ('міністр', 28), ('травень', 27), ('показник', 27), ('заявити', 26), ('серпень', 26), ('ситуація', 25), ('перти', 24), ('вдатися', 24)]\n",
      "Total number of unique words:  266\n",
      "\n",
      "\n",
      "Cluster:  <built-in method title of str object at 0x0000017EA7B55AB0>\n",
      "Most popular words:  [('субсидія', 73), ('день', 40), ('здоров', 37), ('щеплення', 37), ('вакцина', 32), ('безпека', 30), ('європа', 29), ('охорона', 29), ('система', 29), ('вакцинація', 28)]\n",
      "Total number of unique words:  1616\n",
      "\n",
      "\n",
      "Cluster:  <built-in method title of str object at 0x0000017EA7B70460>\n",
      "Most popular words:  [('вірус', 125), ('тест', 97), ('українець', 68), ('вакцина', 66), ('влад', 66), ('обмеження', 61), ('державний', 60), ('маска', 58), ('ситуація', 54), ('питання', 54)]\n",
      "Total number of unique words:  5517\n",
      "\n",
      "\n",
      "Cluster:  <built-in method title of str object at 0x0000017E8D55C040>\n",
      "Most popular words:  [('вакцина', 602), ('допомога', 583), ('тест', 562), ('робот', 551), ('здоров', 545), ('питання', 538), ('травень', 508), ('захід', 505), ('міністр', 490), ('вірус', 461)]\n",
      "Total number of unique words:  25265\n",
      "\n",
      "\n",
      "        names  shares\n",
      "0        тест    0.81\n",
      "1     планета    1.16\n",
      "2       закон    1.26\n",
      "3  чорногорія    2.28\n",
      "4        чома    0.77\n",
      "5        мова    1.05\n",
      "6  адаптивний    1.82\n",
      "7    субсидія    5.36\n",
      "8       вірус   70.79\n",
      "9     вакцина     NaN\n"
     ]
    }
   ],
   "source": [
    "descriptions('umap', umap_cl.labels_)"
   ]
  },
  {
   "cell_type": "code",
   "execution_count": 76,
   "metadata": {},
   "outputs": [
    {
     "name": "stderr",
     "output_type": "stream",
     "text": [
      "C:\\Users\\kater\\anaconda3\\envs\\covid\\lib\\site-packages\\ipykernel\\ipkernel.py:287: DeprecationWarning: `should_run_async` will not call `transform_cell` automatically in the future. Please pass the result to `transformed_cell` argument and any exception that happen during thetransform in `preprocessing_exc_tuple` in IPython 7.17 and above.\n",
      "  and should_run_async(code)\n"
     ]
    }
   ],
   "source": [
    "def plot_2d(X, label_list_cluster):\n",
    "    plt.figure(figsize=(7, 7))\n",
    "    plt.subplots_adjust(bottom=0.1)\n",
    "    c = label_list_cluster\n",
    "    plt.scatter(X[:, 0], X[:, 1], c=c, cmap='rainbow', label='True Position')\n",
    "    plt.show()"
   ]
  },
  {
   "cell_type": "code",
   "execution_count": 77,
   "metadata": {},
   "outputs": [
    {
     "name": "stderr",
     "output_type": "stream",
     "text": [
      "C:\\Users\\kater\\anaconda3\\envs\\covid\\lib\\site-packages\\ipykernel\\ipkernel.py:287: DeprecationWarning: `should_run_async` will not call `transform_cell` automatically in the future. Please pass the result to `transformed_cell` argument and any exception that happen during thetransform in `preprocessing_exc_tuple` in IPython 7.17 and above.\n",
      "  and should_run_async(code)\n"
     ]
    },
    {
     "data": {
      "image/png": "[encoded data removed]",
      "text/plain": [
       "<Figure size 700x700 with 1 Axes>"
      ]
     },
     "metadata": {},
     "output_type": "display_data"
    }
   ],
   "source": [
    "plot_2d(X_umap,umap_cl.labels_)"
   ]
  },
  {
   "cell_type": "markdown",
   "metadata": {},
   "source": [
    "# Pickle"
   ]
  },
  {
   "cell_type": "code",
   "execution_count": 271,
   "metadata": {},
   "outputs": [
    {
     "name": "stderr",
     "output_type": "stream",
     "text": [
      "C:\\Users\\kater\\anaconda3\\envs\\covid\\lib\\site-packages\\ipykernel\\ipkernel.py:287: DeprecationWarning: `should_run_async` will not call `transform_cell` automatically in the future. Please pass the result to `transformed_cell` argument and any exception that happen during thetransform in `preprocessing_exc_tuple` in IPython 7.17 and above.\n",
      "  and should_run_async(code)\n"
     ]
    }
   ],
   "source": [
    "import pickle\n",
    "\n",
    "obj = {'txt': txt}\n",
    "output = open('tfidf-clusters.pql', 'wb')\n",
    "pickle.dump(obj, output, 2)\n",
    "output.close()"
   ]
  }
 ],
 "metadata": {
  "kernelspec": {
   "display_name": "Python 3",
   "language": "python",
   "name": "python3"
  },
  "language_info": {
   "codemirror_mode": {
    "name": "ipython",
    "version": 3
   },
   "file_extension": ".py",
   "mimetype": "text/x-python",
   "name": "python",
   "nbconvert_exporter": "python",
   "pygments_lexer": "ipython3",
   "version": "3.8.11"
  }
 },
 "nbformat": 4,
 "nbformat_minor": 4
}
